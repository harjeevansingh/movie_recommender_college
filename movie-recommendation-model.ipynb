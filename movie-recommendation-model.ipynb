{
 "cells": [
  {
   "cell_type": "markdown",
   "metadata": {
    "_uuid": "aa59d6244cc4f02700aad40053ff2b6a3197adad",
    "collapsed": true
   },
   "source": [
    "<h1><center><font size=\"6\">Movie Recommendation Model</font></center></h1>\n",
    "\n",
    "\n",
    "<img src=\"https://storage.googleapis.com/kaggle-datasets-images/3405/5520/155700dd4800b6486f19dcab0e0b0cb8/dataset-card.jpg\" width=\"400\"></img>\n",
    "\n",
    "\n",
    "# <a id='0'>Content</a>\n",
    "\n",
    "- <a href='#1'>Introduction</a>  \n",
    "- <a href='#2'>Analysis preparation</a>  \n",
    "- <a href='#3'>Data preparation and exploration</a>  \n",
    "- <a href='#4'>Static rating model - top 10 movies</a>\n",
    "- <a href='#5'>Recommendation simple models</a>  \n",
    "- <a href='#6'>Conclusions</a>\n",
    "- <a href='#7'>References</a>"
   ]
  },
  {
   "cell_type": "markdown",
   "metadata": {
    "_uuid": "b26054bea78bd1e56f5aeb05c081fd415dc17188"
   },
   "source": [
    "# <a id=\"1\">Introduction</a>  \n",
    "\n",
    "## Data\n",
    "\n",
    "We are using only reduced data from the movie dataset, as following:\n",
    "*\t**ratings_small**\n",
    "*   **links_small**\n",
    "*\t**movies_metadata**  \n",
    "*   **credits**  \n",
    "*   **keywords**\n",
    "\n",
    "We will create few recommendation models.\n",
    "\n",
    "<a href=\"#0\"><font size=\"1\">Go to top</font></a>"
   ]
  },
  {
   "cell_type": "markdown",
   "metadata": {
    "_uuid": "e12eaa754a3e0167ece6f66e0885de0c9a0060a2"
   },
   "source": [
    "# <a id=\"2\">Analysis preparation</a>  \n",
    "\n",
    "We start by loading the packages needed for the analysis.\n",
    "\n",
    "## Load packages"
   ]
  },
  {
   "cell_type": "code",
   "execution_count": 1,
   "metadata": {
    "_kg_hide-input": true,
    "_uuid": "955a06b3f655d747336a77cb96a6cda7e63383ca"
   },
   "outputs": [],
   "source": [
    "import pandas as pd \n",
    "import numpy as np\n",
    "import matplotlib\n",
    "import matplotlib.pyplot as plt\n",
    "import seaborn as sns\n",
    "%matplotlib inline \n",
    "import gc\n",
    "from datetime import datetime \n",
    "from sklearn.model_selection import train_test_split\n",
    "import os\n",
    "pd.set_option('display.max_columns', 100)"
   ]
  },
  {
   "cell_type": "markdown",
   "metadata": {
    "_uuid": "92fe7504f6db040300fb51fcf80cc7f19a963a45"
   },
   "source": [
    "## Read the data\n",
    "\n",
    "Let's read the data. In this exercise, we store the data in the current directory."
   ]
  },
  {
   "cell_type": "code",
   "execution_count": 2,
   "metadata": {
    "_kg_hide-input": false,
    "_uuid": "b0b5ab557fe718d383f3a3e04b20b0c11bdce44e"
   },
   "outputs": [
    {
     "name": "stdout",
     "output_type": "stream",
     "text": [
      "['movies_metadata.csv', 'ratings_small.csv', 'keywords.csv', 'links_small.csv', 'links.csv', 'ratings.csv', 'credits.csv']\n"
     ]
    }
   ],
   "source": [
    "PATH=\"../input\"\n",
    "print(os.listdir(PATH))"
   ]
  },
  {
   "cell_type": "code",
   "execution_count": 3,
   "metadata": {
    "_kg_hide-input": true,
    "_uuid": "e5a4b09661e6087cbe73b13924e2ac8bcf297bbe"
   },
   "outputs": [],
   "source": [
    "ratings_df = pd.read_csv(os.path.join(PATH,\"ratings_small.csv\"), low_memory=False)"
   ]
  },
  {
   "cell_type": "code",
   "execution_count": 4,
   "metadata": {
    "_kg_hide-input": true
   },
   "outputs": [],
   "source": [
    "links_df = pd.read_csv(os.path.join(PATH,\"links_small.csv\"), low_memory=False)"
   ]
  },
  {
   "cell_type": "code",
   "execution_count": 5,
   "metadata": {
    "_kg_hide-input": true,
    "_uuid": "76a7cda01c181956c51e28c31e34fad2e3e81146"
   },
   "outputs": [],
   "source": [
    "movies_metadata_df = pd.read_csv(os.path.join(PATH,\"movies_metadata.csv\"), low_memory=False)"
   ]
  },
  {
   "cell_type": "code",
   "execution_count": 6,
   "metadata": {
    "_kg_hide-input": true
   },
   "outputs": [],
   "source": [
    "credits_df = pd.read_csv(os.path.join(PATH,\"credits.csv\"), low_memory=False)"
   ]
  },
  {
   "cell_type": "code",
   "execution_count": 7,
   "metadata": {
    "_kg_hide-input": true
   },
   "outputs": [],
   "source": [
    "keywords_df = pd.read_csv(os.path.join(PATH,\"keywords.csv\"), low_memory=False)"
   ]
  },
  {
   "cell_type": "markdown",
   "metadata": {
    "_uuid": "0eda6120b9b895bf7e57608c30c34018dabe69ba"
   },
   "source": [
    "## Glimpse the data\n",
    "\n",
    "Let's glimpse the data. We check the number of rows and columns, sample 5 rows and also run preliminary statistics (with *describe*) on the data."
   ]
  },
  {
   "cell_type": "code",
   "execution_count": 8,
   "metadata": {
    "_kg_hide-input": true,
    "_uuid": "e4ec234ac4af022b446a5a6a6a322220b4d08f65"
   },
   "outputs": [
    {
     "name": "stdout",
     "output_type": "stream",
     "text": [
      "Ratings data contains 100004 rows and 4 columns\n",
      "Links data contains 9125 rows and 3 columns\n",
      "Movie metadata contains 45466 rows and 24 columns\n",
      "Credits data contains 45476 rows and 3 columns\n",
      "Keywords data contains 46419 rows and 2 columns\n"
     ]
    }
   ],
   "source": [
    "print(\"Ratings data contains {} rows and {} columns\".format(ratings_df.shape[0], ratings_df.shape[1]))\n",
    "print(\"Links data contains {} rows and {} columns\".format(links_df.shape[0], links_df.shape[1]))\n",
    "print(\"Movie metadata contains {} rows and {} columns\".format(movies_metadata_df.shape[0], movies_metadata_df.shape[1]))\n",
    "print(\"Credits data contains {} rows and {} columns\".format(credits_df.shape[0], credits_df.shape[1]))\n",
    "print(\"Keywords data contains {} rows and {} columns\".format(keywords_df.shape[0], keywords_df.shape[1]))"
   ]
  },
  {
   "cell_type": "code",
   "execution_count": 9,
   "metadata": {
    "_kg_hide-input": true,
    "_uuid": "1eff7e6cec2de83059ad081768033b92801c014d"
   },
   "outputs": [
    {
     "data": {
      "text/html": [
       "<div>\n",
       "<style scoped>\n",
       "    .dataframe tbody tr th:only-of-type {\n",
       "        vertical-align: middle;\n",
       "    }\n",
       "\n",
       "    .dataframe tbody tr th {\n",
       "        vertical-align: top;\n",
       "    }\n",
       "\n",
       "    .dataframe thead th {\n",
       "        text-align: right;\n",
       "    }\n",
       "</style>\n",
       "<table border=\"1\" class=\"dataframe\">\n",
       "  <thead>\n",
       "    <tr style=\"text-align: right;\">\n",
       "      <th></th>\n",
       "      <th>userId</th>\n",
       "      <th>movieId</th>\n",
       "      <th>rating</th>\n",
       "      <th>timestamp</th>\n",
       "    </tr>\n",
       "  </thead>\n",
       "  <tbody>\n",
       "    <tr>\n",
       "      <th>0</th>\n",
       "      <td>1</td>\n",
       "      <td>31</td>\n",
       "      <td>2.5</td>\n",
       "      <td>1260759144</td>\n",
       "    </tr>\n",
       "    <tr>\n",
       "      <th>1</th>\n",
       "      <td>1</td>\n",
       "      <td>1029</td>\n",
       "      <td>3.0</td>\n",
       "      <td>1260759179</td>\n",
       "    </tr>\n",
       "    <tr>\n",
       "      <th>2</th>\n",
       "      <td>1</td>\n",
       "      <td>1061</td>\n",
       "      <td>3.0</td>\n",
       "      <td>1260759182</td>\n",
       "    </tr>\n",
       "    <tr>\n",
       "      <th>3</th>\n",
       "      <td>1</td>\n",
       "      <td>1129</td>\n",
       "      <td>2.0</td>\n",
       "      <td>1260759185</td>\n",
       "    </tr>\n",
       "    <tr>\n",
       "      <th>4</th>\n",
       "      <td>1</td>\n",
       "      <td>1172</td>\n",
       "      <td>4.0</td>\n",
       "      <td>1260759205</td>\n",
       "    </tr>\n",
       "  </tbody>\n",
       "</table>\n",
       "</div>"
      ],
      "text/plain": [
       "   userId  movieId  rating   timestamp\n",
       "0       1       31     2.5  1260759144\n",
       "1       1     1029     3.0  1260759179\n",
       "2       1     1061     3.0  1260759182\n",
       "3       1     1129     2.0  1260759185\n",
       "4       1     1172     4.0  1260759205"
      ]
     },
     "execution_count": 9,
     "metadata": {},
     "output_type": "execute_result"
    }
   ],
   "source": [
    "ratings_df.head()"
   ]
  },
  {
   "cell_type": "code",
   "execution_count": 10,
   "metadata": {
    "_kg_hide-input": true
   },
   "outputs": [
    {
     "data": {
      "text/html": [
       "<div>\n",
       "<style scoped>\n",
       "    .dataframe tbody tr th:only-of-type {\n",
       "        vertical-align: middle;\n",
       "    }\n",
       "\n",
       "    .dataframe tbody tr th {\n",
       "        vertical-align: top;\n",
       "    }\n",
       "\n",
       "    .dataframe thead th {\n",
       "        text-align: right;\n",
       "    }\n",
       "</style>\n",
       "<table border=\"1\" class=\"dataframe\">\n",
       "  <thead>\n",
       "    <tr style=\"text-align: right;\">\n",
       "      <th></th>\n",
       "      <th>movieId</th>\n",
       "      <th>imdbId</th>\n",
       "      <th>tmdbId</th>\n",
       "    </tr>\n",
       "  </thead>\n",
       "  <tbody>\n",
       "    <tr>\n",
       "      <th>0</th>\n",
       "      <td>1</td>\n",
       "      <td>114709</td>\n",
       "      <td>862.0</td>\n",
       "    </tr>\n",
       "    <tr>\n",
       "      <th>1</th>\n",
       "      <td>2</td>\n",
       "      <td>113497</td>\n",
       "      <td>8844.0</td>\n",
       "    </tr>\n",
       "    <tr>\n",
       "      <th>2</th>\n",
       "      <td>3</td>\n",
       "      <td>113228</td>\n",
       "      <td>15602.0</td>\n",
       "    </tr>\n",
       "    <tr>\n",
       "      <th>3</th>\n",
       "      <td>4</td>\n",
       "      <td>114885</td>\n",
       "      <td>31357.0</td>\n",
       "    </tr>\n",
       "    <tr>\n",
       "      <th>4</th>\n",
       "      <td>5</td>\n",
       "      <td>113041</td>\n",
       "      <td>11862.0</td>\n",
       "    </tr>\n",
       "  </tbody>\n",
       "</table>\n",
       "</div>"
      ],
      "text/plain": [
       "   movieId  imdbId   tmdbId\n",
       "0        1  114709    862.0\n",
       "1        2  113497   8844.0\n",
       "2        3  113228  15602.0\n",
       "3        4  114885  31357.0\n",
       "4        5  113041  11862.0"
      ]
     },
     "execution_count": 10,
     "metadata": {},
     "output_type": "execute_result"
    }
   ],
   "source": [
    "links_df.head()"
   ]
  },
  {
   "cell_type": "markdown",
   "metadata": {
    "_uuid": "0850a7cbac37fd15945a277166abbdd0b2b3971b"
   },
   "source": [
    "We will need to extract `genres` as lists of strings with movie genres."
   ]
  },
  {
   "cell_type": "code",
   "execution_count": 11,
   "metadata": {
    "_kg_hide-input": true,
    "_uuid": "281e9fac631e78d9e20e769559224d704b8cb50e"
   },
   "outputs": [
    {
     "data": {
      "text/html": [
       "<div>\n",
       "<style scoped>\n",
       "    .dataframe tbody tr th:only-of-type {\n",
       "        vertical-align: middle;\n",
       "    }\n",
       "\n",
       "    .dataframe tbody tr th {\n",
       "        vertical-align: top;\n",
       "    }\n",
       "\n",
       "    .dataframe thead th {\n",
       "        text-align: right;\n",
       "    }\n",
       "</style>\n",
       "<table border=\"1\" class=\"dataframe\">\n",
       "  <thead>\n",
       "    <tr style=\"text-align: right;\">\n",
       "      <th></th>\n",
       "      <th>adult</th>\n",
       "      <th>belongs_to_collection</th>\n",
       "      <th>budget</th>\n",
       "      <th>genres</th>\n",
       "      <th>homepage</th>\n",
       "      <th>id</th>\n",
       "      <th>imdb_id</th>\n",
       "      <th>original_language</th>\n",
       "      <th>original_title</th>\n",
       "      <th>overview</th>\n",
       "      <th>popularity</th>\n",
       "      <th>poster_path</th>\n",
       "      <th>production_companies</th>\n",
       "      <th>production_countries</th>\n",
       "      <th>release_date</th>\n",
       "      <th>revenue</th>\n",
       "      <th>runtime</th>\n",
       "      <th>spoken_languages</th>\n",
       "      <th>status</th>\n",
       "      <th>tagline</th>\n",
       "      <th>title</th>\n",
       "      <th>video</th>\n",
       "      <th>vote_average</th>\n",
       "      <th>vote_count</th>\n",
       "    </tr>\n",
       "  </thead>\n",
       "  <tbody>\n",
       "    <tr>\n",
       "      <th>0</th>\n",
       "      <td>False</td>\n",
       "      <td>{'id': 10194, 'name': 'Toy Story Collection', ...</td>\n",
       "      <td>30000000</td>\n",
       "      <td>[{'id': 16, 'name': 'Animation'}, {'id': 35, '...</td>\n",
       "      <td>http://toystory.disney.com/toy-story</td>\n",
       "      <td>862</td>\n",
       "      <td>tt0114709</td>\n",
       "      <td>en</td>\n",
       "      <td>Toy Story</td>\n",
       "      <td>Led by Woody, Andy's toys live happily in his ...</td>\n",
       "      <td>21.946943</td>\n",
       "      <td>/rhIRbceoE9lR4veEXuwCC2wARtG.jpg</td>\n",
       "      <td>[{'name': 'Pixar Animation Studios', 'id': 3}]</td>\n",
       "      <td>[{'iso_3166_1': 'US', 'name': 'United States o...</td>\n",
       "      <td>1995-10-30</td>\n",
       "      <td>373554033.0</td>\n",
       "      <td>81.0</td>\n",
       "      <td>[{'iso_639_1': 'en', 'name': 'English'}]</td>\n",
       "      <td>Released</td>\n",
       "      <td>NaN</td>\n",
       "      <td>Toy Story</td>\n",
       "      <td>False</td>\n",
       "      <td>7.7</td>\n",
       "      <td>5415.0</td>\n",
       "    </tr>\n",
       "    <tr>\n",
       "      <th>1</th>\n",
       "      <td>False</td>\n",
       "      <td>NaN</td>\n",
       "      <td>65000000</td>\n",
       "      <td>[{'id': 12, 'name': 'Adventure'}, {'id': 14, '...</td>\n",
       "      <td>NaN</td>\n",
       "      <td>8844</td>\n",
       "      <td>tt0113497</td>\n",
       "      <td>en</td>\n",
       "      <td>Jumanji</td>\n",
       "      <td>When siblings Judy and Peter discover an encha...</td>\n",
       "      <td>17.015539</td>\n",
       "      <td>/vzmL6fP7aPKNKPRTFnZmiUfciyV.jpg</td>\n",
       "      <td>[{'name': 'TriStar Pictures', 'id': 559}, {'na...</td>\n",
       "      <td>[{'iso_3166_1': 'US', 'name': 'United States o...</td>\n",
       "      <td>1995-12-15</td>\n",
       "      <td>262797249.0</td>\n",
       "      <td>104.0</td>\n",
       "      <td>[{'iso_639_1': 'en', 'name': 'English'}, {'iso...</td>\n",
       "      <td>Released</td>\n",
       "      <td>Roll the dice and unleash the excitement!</td>\n",
       "      <td>Jumanji</td>\n",
       "      <td>False</td>\n",
       "      <td>6.9</td>\n",
       "      <td>2413.0</td>\n",
       "    </tr>\n",
       "    <tr>\n",
       "      <th>2</th>\n",
       "      <td>False</td>\n",
       "      <td>{'id': 119050, 'name': 'Grumpy Old Men Collect...</td>\n",
       "      <td>0</td>\n",
       "      <td>[{'id': 10749, 'name': 'Romance'}, {'id': 35, ...</td>\n",
       "      <td>NaN</td>\n",
       "      <td>15602</td>\n",
       "      <td>tt0113228</td>\n",
       "      <td>en</td>\n",
       "      <td>Grumpier Old Men</td>\n",
       "      <td>A family wedding reignites the ancient feud be...</td>\n",
       "      <td>11.7129</td>\n",
       "      <td>/6ksm1sjKMFLbO7UY2i6G1ju9SML.jpg</td>\n",
       "      <td>[{'name': 'Warner Bros.', 'id': 6194}, {'name'...</td>\n",
       "      <td>[{'iso_3166_1': 'US', 'name': 'United States o...</td>\n",
       "      <td>1995-12-22</td>\n",
       "      <td>0.0</td>\n",
       "      <td>101.0</td>\n",
       "      <td>[{'iso_639_1': 'en', 'name': 'English'}]</td>\n",
       "      <td>Released</td>\n",
       "      <td>Still Yelling. Still Fighting. Still Ready for...</td>\n",
       "      <td>Grumpier Old Men</td>\n",
       "      <td>False</td>\n",
       "      <td>6.5</td>\n",
       "      <td>92.0</td>\n",
       "    </tr>\n",
       "    <tr>\n",
       "      <th>3</th>\n",
       "      <td>False</td>\n",
       "      <td>NaN</td>\n",
       "      <td>16000000</td>\n",
       "      <td>[{'id': 35, 'name': 'Comedy'}, {'id': 18, 'nam...</td>\n",
       "      <td>NaN</td>\n",
       "      <td>31357</td>\n",
       "      <td>tt0114885</td>\n",
       "      <td>en</td>\n",
       "      <td>Waiting to Exhale</td>\n",
       "      <td>Cheated on, mistreated and stepped on, the wom...</td>\n",
       "      <td>3.859495</td>\n",
       "      <td>/16XOMpEaLWkrcPqSQqhTmeJuqQl.jpg</td>\n",
       "      <td>[{'name': 'Twentieth Century Fox Film Corporat...</td>\n",
       "      <td>[{'iso_3166_1': 'US', 'name': 'United States o...</td>\n",
       "      <td>1995-12-22</td>\n",
       "      <td>81452156.0</td>\n",
       "      <td>127.0</td>\n",
       "      <td>[{'iso_639_1': 'en', 'name': 'English'}]</td>\n",
       "      <td>Released</td>\n",
       "      <td>Friends are the people who let you be yourself...</td>\n",
       "      <td>Waiting to Exhale</td>\n",
       "      <td>False</td>\n",
       "      <td>6.1</td>\n",
       "      <td>34.0</td>\n",
       "    </tr>\n",
       "    <tr>\n",
       "      <th>4</th>\n",
       "      <td>False</td>\n",
       "      <td>{'id': 96871, 'name': 'Father of the Bride Col...</td>\n",
       "      <td>0</td>\n",
       "      <td>[{'id': 35, 'name': 'Comedy'}]</td>\n",
       "      <td>NaN</td>\n",
       "      <td>11862</td>\n",
       "      <td>tt0113041</td>\n",
       "      <td>en</td>\n",
       "      <td>Father of the Bride Part II</td>\n",
       "      <td>Just when George Banks has recovered from his ...</td>\n",
       "      <td>8.387519</td>\n",
       "      <td>/e64sOI48hQXyru7naBFyssKFxVd.jpg</td>\n",
       "      <td>[{'name': 'Sandollar Productions', 'id': 5842}...</td>\n",
       "      <td>[{'iso_3166_1': 'US', 'name': 'United States o...</td>\n",
       "      <td>1995-02-10</td>\n",
       "      <td>76578911.0</td>\n",
       "      <td>106.0</td>\n",
       "      <td>[{'iso_639_1': 'en', 'name': 'English'}]</td>\n",
       "      <td>Released</td>\n",
       "      <td>Just When His World Is Back To Normal... He's ...</td>\n",
       "      <td>Father of the Bride Part II</td>\n",
       "      <td>False</td>\n",
       "      <td>5.7</td>\n",
       "      <td>173.0</td>\n",
       "    </tr>\n",
       "  </tbody>\n",
       "</table>\n",
       "</div>"
      ],
      "text/plain": [
       "   adult                              belongs_to_collection    budget  \\\n",
       "0  False  {'id': 10194, 'name': 'Toy Story Collection', ...  30000000   \n",
       "1  False                                                NaN  65000000   \n",
       "2  False  {'id': 119050, 'name': 'Grumpy Old Men Collect...         0   \n",
       "3  False                                                NaN  16000000   \n",
       "4  False  {'id': 96871, 'name': 'Father of the Bride Col...         0   \n",
       "\n",
       "                                              genres  \\\n",
       "0  [{'id': 16, 'name': 'Animation'}, {'id': 35, '...   \n",
       "1  [{'id': 12, 'name': 'Adventure'}, {'id': 14, '...   \n",
       "2  [{'id': 10749, 'name': 'Romance'}, {'id': 35, ...   \n",
       "3  [{'id': 35, 'name': 'Comedy'}, {'id': 18, 'nam...   \n",
       "4                     [{'id': 35, 'name': 'Comedy'}]   \n",
       "\n",
       "                               homepage     id    imdb_id original_language  \\\n",
       "0  http://toystory.disney.com/toy-story    862  tt0114709                en   \n",
       "1                                   NaN   8844  tt0113497                en   \n",
       "2                                   NaN  15602  tt0113228                en   \n",
       "3                                   NaN  31357  tt0114885                en   \n",
       "4                                   NaN  11862  tt0113041                en   \n",
       "\n",
       "                original_title  \\\n",
       "0                    Toy Story   \n",
       "1                      Jumanji   \n",
       "2             Grumpier Old Men   \n",
       "3            Waiting to Exhale   \n",
       "4  Father of the Bride Part II   \n",
       "\n",
       "                                            overview popularity  \\\n",
       "0  Led by Woody, Andy's toys live happily in his ...  21.946943   \n",
       "1  When siblings Judy and Peter discover an encha...  17.015539   \n",
       "2  A family wedding reignites the ancient feud be...    11.7129   \n",
       "3  Cheated on, mistreated and stepped on, the wom...   3.859495   \n",
       "4  Just when George Banks has recovered from his ...   8.387519   \n",
       "\n",
       "                        poster_path  \\\n",
       "0  /rhIRbceoE9lR4veEXuwCC2wARtG.jpg   \n",
       "1  /vzmL6fP7aPKNKPRTFnZmiUfciyV.jpg   \n",
       "2  /6ksm1sjKMFLbO7UY2i6G1ju9SML.jpg   \n",
       "3  /16XOMpEaLWkrcPqSQqhTmeJuqQl.jpg   \n",
       "4  /e64sOI48hQXyru7naBFyssKFxVd.jpg   \n",
       "\n",
       "                                production_companies  \\\n",
       "0     [{'name': 'Pixar Animation Studios', 'id': 3}]   \n",
       "1  [{'name': 'TriStar Pictures', 'id': 559}, {'na...   \n",
       "2  [{'name': 'Warner Bros.', 'id': 6194}, {'name'...   \n",
       "3  [{'name': 'Twentieth Century Fox Film Corporat...   \n",
       "4  [{'name': 'Sandollar Productions', 'id': 5842}...   \n",
       "\n",
       "                                production_countries release_date  \\\n",
       "0  [{'iso_3166_1': 'US', 'name': 'United States o...   1995-10-30   \n",
       "1  [{'iso_3166_1': 'US', 'name': 'United States o...   1995-12-15   \n",
       "2  [{'iso_3166_1': 'US', 'name': 'United States o...   1995-12-22   \n",
       "3  [{'iso_3166_1': 'US', 'name': 'United States o...   1995-12-22   \n",
       "4  [{'iso_3166_1': 'US', 'name': 'United States o...   1995-02-10   \n",
       "\n",
       "       revenue  runtime                                   spoken_languages  \\\n",
       "0  373554033.0     81.0           [{'iso_639_1': 'en', 'name': 'English'}]   \n",
       "1  262797249.0    104.0  [{'iso_639_1': 'en', 'name': 'English'}, {'iso...   \n",
       "2          0.0    101.0           [{'iso_639_1': 'en', 'name': 'English'}]   \n",
       "3   81452156.0    127.0           [{'iso_639_1': 'en', 'name': 'English'}]   \n",
       "4   76578911.0    106.0           [{'iso_639_1': 'en', 'name': 'English'}]   \n",
       "\n",
       "     status                                            tagline  \\\n",
       "0  Released                                                NaN   \n",
       "1  Released          Roll the dice and unleash the excitement!   \n",
       "2  Released  Still Yelling. Still Fighting. Still Ready for...   \n",
       "3  Released  Friends are the people who let you be yourself...   \n",
       "4  Released  Just When His World Is Back To Normal... He's ...   \n",
       "\n",
       "                         title  video  vote_average  vote_count  \n",
       "0                    Toy Story  False           7.7      5415.0  \n",
       "1                      Jumanji  False           6.9      2413.0  \n",
       "2             Grumpier Old Men  False           6.5        92.0  \n",
       "3            Waiting to Exhale  False           6.1        34.0  \n",
       "4  Father of the Bride Part II  False           5.7       173.0  "
      ]
     },
     "execution_count": 11,
     "metadata": {},
     "output_type": "execute_result"
    }
   ],
   "source": [
    "movies_metadata_df.head()"
   ]
  },
  {
   "cell_type": "code",
   "execution_count": 12,
   "metadata": {},
   "outputs": [
    {
     "data": {
      "text/html": [
       "<div>\n",
       "<style scoped>\n",
       "    .dataframe tbody tr th:only-of-type {\n",
       "        vertical-align: middle;\n",
       "    }\n",
       "\n",
       "    .dataframe tbody tr th {\n",
       "        vertical-align: top;\n",
       "    }\n",
       "\n",
       "    .dataframe thead th {\n",
       "        text-align: right;\n",
       "    }\n",
       "</style>\n",
       "<table border=\"1\" class=\"dataframe\">\n",
       "  <thead>\n",
       "    <tr style=\"text-align: right;\">\n",
       "      <th></th>\n",
       "      <th>id</th>\n",
       "      <th>keywords</th>\n",
       "    </tr>\n",
       "  </thead>\n",
       "  <tbody>\n",
       "    <tr>\n",
       "      <th>0</th>\n",
       "      <td>862</td>\n",
       "      <td>[{'id': 931, 'name': 'jealousy'}, {'id': 4290,...</td>\n",
       "    </tr>\n",
       "    <tr>\n",
       "      <th>1</th>\n",
       "      <td>8844</td>\n",
       "      <td>[{'id': 10090, 'name': 'board game'}, {'id': 1...</td>\n",
       "    </tr>\n",
       "    <tr>\n",
       "      <th>2</th>\n",
       "      <td>15602</td>\n",
       "      <td>[{'id': 1495, 'name': 'fishing'}, {'id': 12392...</td>\n",
       "    </tr>\n",
       "    <tr>\n",
       "      <th>3</th>\n",
       "      <td>31357</td>\n",
       "      <td>[{'id': 818, 'name': 'based on novel'}, {'id':...</td>\n",
       "    </tr>\n",
       "    <tr>\n",
       "      <th>4</th>\n",
       "      <td>11862</td>\n",
       "      <td>[{'id': 1009, 'name': 'baby'}, {'id': 1599, 'n...</td>\n",
       "    </tr>\n",
       "  </tbody>\n",
       "</table>\n",
       "</div>"
      ],
      "text/plain": [
       "      id                                           keywords\n",
       "0    862  [{'id': 931, 'name': 'jealousy'}, {'id': 4290,...\n",
       "1   8844  [{'id': 10090, 'name': 'board game'}, {'id': 1...\n",
       "2  15602  [{'id': 1495, 'name': 'fishing'}, {'id': 12392...\n",
       "3  31357  [{'id': 818, 'name': 'based on novel'}, {'id':...\n",
       "4  11862  [{'id': 1009, 'name': 'baby'}, {'id': 1599, 'n..."
      ]
     },
     "execution_count": 12,
     "metadata": {},
     "output_type": "execute_result"
    }
   ],
   "source": [
    "keywords_df.head()"
   ]
  },
  {
   "cell_type": "code",
   "execution_count": 13,
   "metadata": {
    "_kg_hide-input": false,
    "_uuid": "7593972038f2c513bf69b7cc3157858e7f6ae441"
   },
   "outputs": [],
   "source": [
    "from ast import literal_eval\n",
    "# Returns the list top l elements or entire list; whichever is more.\n",
    "def get_list(x, l=5):\n",
    "    if isinstance(x, list):\n",
    "        names = [i['name'] for i in x]\n",
    "        #Check if more than l elements exist. If yes, return only first three. If no, return entire list.\n",
    "        if len(names) > l:\n",
    "            names = names[:l]\n",
    "        return names\n",
    "\n",
    "    #Return empty list in case of missing/malformed data\n",
    "    return []\n",
    "\n",
    "movies_metadata_df['genres'] = movies_metadata_df['genres'].apply(literal_eval)\n",
    "movies_metadata_df['genres'] = movies_metadata_df['genres'].apply(get_list)"
   ]
  },
  {
   "cell_type": "markdown",
   "metadata": {
    "_uuid": "aa77f28f82ea4305f22813d832f1c51cdcade80f"
   },
   "source": [
    "Let's check also the data types."
   ]
  },
  {
   "cell_type": "code",
   "execution_count": 14,
   "metadata": {
    "_kg_hide-input": true,
    "_uuid": "80cc7ad8c3dba0b4771121e9e715b18b7a709d73"
   },
   "outputs": [
    {
     "data": {
      "text/html": [
       "<div>\n",
       "<style scoped>\n",
       "    .dataframe tbody tr th:only-of-type {\n",
       "        vertical-align: middle;\n",
       "    }\n",
       "\n",
       "    .dataframe tbody tr th {\n",
       "        vertical-align: top;\n",
       "    }\n",
       "\n",
       "    .dataframe thead th {\n",
       "        text-align: right;\n",
       "    }\n",
       "</style>\n",
       "<table border=\"1\" class=\"dataframe\">\n",
       "  <thead>\n",
       "    <tr style=\"text-align: right;\">\n",
       "      <th></th>\n",
       "      <th>feature</th>\n",
       "      <th>dtype</th>\n",
       "    </tr>\n",
       "  </thead>\n",
       "  <tbody>\n",
       "    <tr>\n",
       "      <th>0</th>\n",
       "      <td>userId</td>\n",
       "      <td>int64</td>\n",
       "    </tr>\n",
       "    <tr>\n",
       "      <th>1</th>\n",
       "      <td>movieId</td>\n",
       "      <td>int64</td>\n",
       "    </tr>\n",
       "    <tr>\n",
       "      <th>2</th>\n",
       "      <td>rating</td>\n",
       "      <td>float64</td>\n",
       "    </tr>\n",
       "    <tr>\n",
       "      <th>3</th>\n",
       "      <td>timestamp</td>\n",
       "      <td>int64</td>\n",
       "    </tr>\n",
       "  </tbody>\n",
       "</table>\n",
       "</div>"
      ],
      "text/plain": [
       "     feature    dtype\n",
       "0     userId    int64\n",
       "1    movieId    int64\n",
       "2     rating  float64\n",
       "3  timestamp    int64"
      ]
     },
     "execution_count": 14,
     "metadata": {},
     "output_type": "execute_result"
    }
   ],
   "source": [
    "pd.DataFrame({'feature':ratings_df.dtypes.index, 'dtype':ratings_df.dtypes.values})"
   ]
  },
  {
   "cell_type": "code",
   "execution_count": 15,
   "metadata": {
    "_kg_hide-input": true,
    "_uuid": "a104bafedc68900c87dc14cd0c4da410063c510a"
   },
   "outputs": [
    {
     "data": {
      "text/html": [
       "<div>\n",
       "<style scoped>\n",
       "    .dataframe tbody tr th:only-of-type {\n",
       "        vertical-align: middle;\n",
       "    }\n",
       "\n",
       "    .dataframe tbody tr th {\n",
       "        vertical-align: top;\n",
       "    }\n",
       "\n",
       "    .dataframe thead th {\n",
       "        text-align: right;\n",
       "    }\n",
       "</style>\n",
       "<table border=\"1\" class=\"dataframe\">\n",
       "  <thead>\n",
       "    <tr style=\"text-align: right;\">\n",
       "      <th></th>\n",
       "      <th>adult</th>\n",
       "      <th>belongs_to_collection</th>\n",
       "      <th>budget</th>\n",
       "      <th>genres</th>\n",
       "      <th>homepage</th>\n",
       "      <th>id</th>\n",
       "      <th>imdb_id</th>\n",
       "      <th>original_language</th>\n",
       "      <th>original_title</th>\n",
       "      <th>overview</th>\n",
       "      <th>popularity</th>\n",
       "      <th>poster_path</th>\n",
       "      <th>production_companies</th>\n",
       "      <th>production_countries</th>\n",
       "      <th>release_date</th>\n",
       "      <th>revenue</th>\n",
       "      <th>runtime</th>\n",
       "      <th>spoken_languages</th>\n",
       "      <th>status</th>\n",
       "      <th>tagline</th>\n",
       "      <th>title</th>\n",
       "      <th>video</th>\n",
       "      <th>vote_average</th>\n",
       "      <th>vote_count</th>\n",
       "    </tr>\n",
       "  </thead>\n",
       "  <tbody>\n",
       "    <tr>\n",
       "      <th>0</th>\n",
       "      <td>False</td>\n",
       "      <td>{'id': 10194, 'name': 'Toy Story Collection', ...</td>\n",
       "      <td>30000000</td>\n",
       "      <td>[Animation, Comedy, Family]</td>\n",
       "      <td>http://toystory.disney.com/toy-story</td>\n",
       "      <td>862</td>\n",
       "      <td>tt0114709</td>\n",
       "      <td>en</td>\n",
       "      <td>Toy Story</td>\n",
       "      <td>Led by Woody, Andy's toys live happily in his ...</td>\n",
       "      <td>21.946943</td>\n",
       "      <td>/rhIRbceoE9lR4veEXuwCC2wARtG.jpg</td>\n",
       "      <td>[{'name': 'Pixar Animation Studios', 'id': 3}]</td>\n",
       "      <td>[{'iso_3166_1': 'US', 'name': 'United States o...</td>\n",
       "      <td>1995-10-30</td>\n",
       "      <td>373554033.0</td>\n",
       "      <td>81.0</td>\n",
       "      <td>[{'iso_639_1': 'en', 'name': 'English'}]</td>\n",
       "      <td>Released</td>\n",
       "      <td>NaN</td>\n",
       "      <td>Toy Story</td>\n",
       "      <td>False</td>\n",
       "      <td>7.7</td>\n",
       "      <td>5415.0</td>\n",
       "    </tr>\n",
       "    <tr>\n",
       "      <th>1</th>\n",
       "      <td>False</td>\n",
       "      <td>NaN</td>\n",
       "      <td>65000000</td>\n",
       "      <td>[Adventure, Fantasy, Family]</td>\n",
       "      <td>NaN</td>\n",
       "      <td>8844</td>\n",
       "      <td>tt0113497</td>\n",
       "      <td>en</td>\n",
       "      <td>Jumanji</td>\n",
       "      <td>When siblings Judy and Peter discover an encha...</td>\n",
       "      <td>17.015539</td>\n",
       "      <td>/vzmL6fP7aPKNKPRTFnZmiUfciyV.jpg</td>\n",
       "      <td>[{'name': 'TriStar Pictures', 'id': 559}, {'na...</td>\n",
       "      <td>[{'iso_3166_1': 'US', 'name': 'United States o...</td>\n",
       "      <td>1995-12-15</td>\n",
       "      <td>262797249.0</td>\n",
       "      <td>104.0</td>\n",
       "      <td>[{'iso_639_1': 'en', 'name': 'English'}, {'iso...</td>\n",
       "      <td>Released</td>\n",
       "      <td>Roll the dice and unleash the excitement!</td>\n",
       "      <td>Jumanji</td>\n",
       "      <td>False</td>\n",
       "      <td>6.9</td>\n",
       "      <td>2413.0</td>\n",
       "    </tr>\n",
       "    <tr>\n",
       "      <th>2</th>\n",
       "      <td>False</td>\n",
       "      <td>{'id': 119050, 'name': 'Grumpy Old Men Collect...</td>\n",
       "      <td>0</td>\n",
       "      <td>[Romance, Comedy]</td>\n",
       "      <td>NaN</td>\n",
       "      <td>15602</td>\n",
       "      <td>tt0113228</td>\n",
       "      <td>en</td>\n",
       "      <td>Grumpier Old Men</td>\n",
       "      <td>A family wedding reignites the ancient feud be...</td>\n",
       "      <td>11.7129</td>\n",
       "      <td>/6ksm1sjKMFLbO7UY2i6G1ju9SML.jpg</td>\n",
       "      <td>[{'name': 'Warner Bros.', 'id': 6194}, {'name'...</td>\n",
       "      <td>[{'iso_3166_1': 'US', 'name': 'United States o...</td>\n",
       "      <td>1995-12-22</td>\n",
       "      <td>0.0</td>\n",
       "      <td>101.0</td>\n",
       "      <td>[{'iso_639_1': 'en', 'name': 'English'}]</td>\n",
       "      <td>Released</td>\n",
       "      <td>Still Yelling. Still Fighting. Still Ready for...</td>\n",
       "      <td>Grumpier Old Men</td>\n",
       "      <td>False</td>\n",
       "      <td>6.5</td>\n",
       "      <td>92.0</td>\n",
       "    </tr>\n",
       "    <tr>\n",
       "      <th>3</th>\n",
       "      <td>False</td>\n",
       "      <td>NaN</td>\n",
       "      <td>16000000</td>\n",
       "      <td>[Comedy, Drama, Romance]</td>\n",
       "      <td>NaN</td>\n",
       "      <td>31357</td>\n",
       "      <td>tt0114885</td>\n",
       "      <td>en</td>\n",
       "      <td>Waiting to Exhale</td>\n",
       "      <td>Cheated on, mistreated and stepped on, the wom...</td>\n",
       "      <td>3.859495</td>\n",
       "      <td>/16XOMpEaLWkrcPqSQqhTmeJuqQl.jpg</td>\n",
       "      <td>[{'name': 'Twentieth Century Fox Film Corporat...</td>\n",
       "      <td>[{'iso_3166_1': 'US', 'name': 'United States o...</td>\n",
       "      <td>1995-12-22</td>\n",
       "      <td>81452156.0</td>\n",
       "      <td>127.0</td>\n",
       "      <td>[{'iso_639_1': 'en', 'name': 'English'}]</td>\n",
       "      <td>Released</td>\n",
       "      <td>Friends are the people who let you be yourself...</td>\n",
       "      <td>Waiting to Exhale</td>\n",
       "      <td>False</td>\n",
       "      <td>6.1</td>\n",
       "      <td>34.0</td>\n",
       "    </tr>\n",
       "    <tr>\n",
       "      <th>4</th>\n",
       "      <td>False</td>\n",
       "      <td>{'id': 96871, 'name': 'Father of the Bride Col...</td>\n",
       "      <td>0</td>\n",
       "      <td>[Comedy]</td>\n",
       "      <td>NaN</td>\n",
       "      <td>11862</td>\n",
       "      <td>tt0113041</td>\n",
       "      <td>en</td>\n",
       "      <td>Father of the Bride Part II</td>\n",
       "      <td>Just when George Banks has recovered from his ...</td>\n",
       "      <td>8.387519</td>\n",
       "      <td>/e64sOI48hQXyru7naBFyssKFxVd.jpg</td>\n",
       "      <td>[{'name': 'Sandollar Productions', 'id': 5842}...</td>\n",
       "      <td>[{'iso_3166_1': 'US', 'name': 'United States o...</td>\n",
       "      <td>1995-02-10</td>\n",
       "      <td>76578911.0</td>\n",
       "      <td>106.0</td>\n",
       "      <td>[{'iso_639_1': 'en', 'name': 'English'}]</td>\n",
       "      <td>Released</td>\n",
       "      <td>Just When His World Is Back To Normal... He's ...</td>\n",
       "      <td>Father of the Bride Part II</td>\n",
       "      <td>False</td>\n",
       "      <td>5.7</td>\n",
       "      <td>173.0</td>\n",
       "    </tr>\n",
       "  </tbody>\n",
       "</table>\n",
       "</div>"
      ],
      "text/plain": [
       "   adult                              belongs_to_collection    budget  \\\n",
       "0  False  {'id': 10194, 'name': 'Toy Story Collection', ...  30000000   \n",
       "1  False                                                NaN  65000000   \n",
       "2  False  {'id': 119050, 'name': 'Grumpy Old Men Collect...         0   \n",
       "3  False                                                NaN  16000000   \n",
       "4  False  {'id': 96871, 'name': 'Father of the Bride Col...         0   \n",
       "\n",
       "                         genres                              homepage     id  \\\n",
       "0   [Animation, Comedy, Family]  http://toystory.disney.com/toy-story    862   \n",
       "1  [Adventure, Fantasy, Family]                                   NaN   8844   \n",
       "2             [Romance, Comedy]                                   NaN  15602   \n",
       "3      [Comedy, Drama, Romance]                                   NaN  31357   \n",
       "4                      [Comedy]                                   NaN  11862   \n",
       "\n",
       "     imdb_id original_language               original_title  \\\n",
       "0  tt0114709                en                    Toy Story   \n",
       "1  tt0113497                en                      Jumanji   \n",
       "2  tt0113228                en             Grumpier Old Men   \n",
       "3  tt0114885                en            Waiting to Exhale   \n",
       "4  tt0113041                en  Father of the Bride Part II   \n",
       "\n",
       "                                            overview popularity  \\\n",
       "0  Led by Woody, Andy's toys live happily in his ...  21.946943   \n",
       "1  When siblings Judy and Peter discover an encha...  17.015539   \n",
       "2  A family wedding reignites the ancient feud be...    11.7129   \n",
       "3  Cheated on, mistreated and stepped on, the wom...   3.859495   \n",
       "4  Just when George Banks has recovered from his ...   8.387519   \n",
       "\n",
       "                        poster_path  \\\n",
       "0  /rhIRbceoE9lR4veEXuwCC2wARtG.jpg   \n",
       "1  /vzmL6fP7aPKNKPRTFnZmiUfciyV.jpg   \n",
       "2  /6ksm1sjKMFLbO7UY2i6G1ju9SML.jpg   \n",
       "3  /16XOMpEaLWkrcPqSQqhTmeJuqQl.jpg   \n",
       "4  /e64sOI48hQXyru7naBFyssKFxVd.jpg   \n",
       "\n",
       "                                production_companies  \\\n",
       "0     [{'name': 'Pixar Animation Studios', 'id': 3}]   \n",
       "1  [{'name': 'TriStar Pictures', 'id': 559}, {'na...   \n",
       "2  [{'name': 'Warner Bros.', 'id': 6194}, {'name'...   \n",
       "3  [{'name': 'Twentieth Century Fox Film Corporat...   \n",
       "4  [{'name': 'Sandollar Productions', 'id': 5842}...   \n",
       "\n",
       "                                production_countries release_date  \\\n",
       "0  [{'iso_3166_1': 'US', 'name': 'United States o...   1995-10-30   \n",
       "1  [{'iso_3166_1': 'US', 'name': 'United States o...   1995-12-15   \n",
       "2  [{'iso_3166_1': 'US', 'name': 'United States o...   1995-12-22   \n",
       "3  [{'iso_3166_1': 'US', 'name': 'United States o...   1995-12-22   \n",
       "4  [{'iso_3166_1': 'US', 'name': 'United States o...   1995-02-10   \n",
       "\n",
       "       revenue  runtime                                   spoken_languages  \\\n",
       "0  373554033.0     81.0           [{'iso_639_1': 'en', 'name': 'English'}]   \n",
       "1  262797249.0    104.0  [{'iso_639_1': 'en', 'name': 'English'}, {'iso...   \n",
       "2          0.0    101.0           [{'iso_639_1': 'en', 'name': 'English'}]   \n",
       "3   81452156.0    127.0           [{'iso_639_1': 'en', 'name': 'English'}]   \n",
       "4   76578911.0    106.0           [{'iso_639_1': 'en', 'name': 'English'}]   \n",
       "\n",
       "     status                                            tagline  \\\n",
       "0  Released                                                NaN   \n",
       "1  Released          Roll the dice and unleash the excitement!   \n",
       "2  Released  Still Yelling. Still Fighting. Still Ready for...   \n",
       "3  Released  Friends are the people who let you be yourself...   \n",
       "4  Released  Just When His World Is Back To Normal... He's ...   \n",
       "\n",
       "                         title  video  vote_average  vote_count  \n",
       "0                    Toy Story  False           7.7      5415.0  \n",
       "1                      Jumanji  False           6.9      2413.0  \n",
       "2             Grumpier Old Men  False           6.5        92.0  \n",
       "3            Waiting to Exhale  False           6.1        34.0  \n",
       "4  Father of the Bride Part II  False           5.7       173.0  "
      ]
     },
     "execution_count": 15,
     "metadata": {},
     "output_type": "execute_result"
    }
   ],
   "source": [
    "movies_metadata_df.head()"
   ]
  },
  {
   "cell_type": "code",
   "execution_count": 16,
   "metadata": {
    "_kg_hide-input": true,
    "_uuid": "1321e1db2753fe32492a832ff58b982265e90eef"
   },
   "outputs": [
    {
     "data": {
      "text/html": [
       "<div>\n",
       "<style scoped>\n",
       "    .dataframe tbody tr th:only-of-type {\n",
       "        vertical-align: middle;\n",
       "    }\n",
       "\n",
       "    .dataframe tbody tr th {\n",
       "        vertical-align: top;\n",
       "    }\n",
       "\n",
       "    .dataframe thead th {\n",
       "        text-align: right;\n",
       "    }\n",
       "</style>\n",
       "<table border=\"1\" class=\"dataframe\">\n",
       "  <thead>\n",
       "    <tr style=\"text-align: right;\">\n",
       "      <th></th>\n",
       "      <th>feature</th>\n",
       "      <th>dtype</th>\n",
       "    </tr>\n",
       "  </thead>\n",
       "  <tbody>\n",
       "    <tr>\n",
       "      <th>0</th>\n",
       "      <td>adult</td>\n",
       "      <td>object</td>\n",
       "    </tr>\n",
       "    <tr>\n",
       "      <th>1</th>\n",
       "      <td>belongs_to_collection</td>\n",
       "      <td>object</td>\n",
       "    </tr>\n",
       "    <tr>\n",
       "      <th>2</th>\n",
       "      <td>budget</td>\n",
       "      <td>object</td>\n",
       "    </tr>\n",
       "    <tr>\n",
       "      <th>3</th>\n",
       "      <td>genres</td>\n",
       "      <td>object</td>\n",
       "    </tr>\n",
       "    <tr>\n",
       "      <th>4</th>\n",
       "      <td>homepage</td>\n",
       "      <td>object</td>\n",
       "    </tr>\n",
       "    <tr>\n",
       "      <th>5</th>\n",
       "      <td>id</td>\n",
       "      <td>object</td>\n",
       "    </tr>\n",
       "    <tr>\n",
       "      <th>6</th>\n",
       "      <td>imdb_id</td>\n",
       "      <td>object</td>\n",
       "    </tr>\n",
       "    <tr>\n",
       "      <th>7</th>\n",
       "      <td>original_language</td>\n",
       "      <td>object</td>\n",
       "    </tr>\n",
       "    <tr>\n",
       "      <th>8</th>\n",
       "      <td>original_title</td>\n",
       "      <td>object</td>\n",
       "    </tr>\n",
       "    <tr>\n",
       "      <th>9</th>\n",
       "      <td>overview</td>\n",
       "      <td>object</td>\n",
       "    </tr>\n",
       "    <tr>\n",
       "      <th>10</th>\n",
       "      <td>popularity</td>\n",
       "      <td>object</td>\n",
       "    </tr>\n",
       "    <tr>\n",
       "      <th>11</th>\n",
       "      <td>poster_path</td>\n",
       "      <td>object</td>\n",
       "    </tr>\n",
       "    <tr>\n",
       "      <th>12</th>\n",
       "      <td>production_companies</td>\n",
       "      <td>object</td>\n",
       "    </tr>\n",
       "    <tr>\n",
       "      <th>13</th>\n",
       "      <td>production_countries</td>\n",
       "      <td>object</td>\n",
       "    </tr>\n",
       "    <tr>\n",
       "      <th>14</th>\n",
       "      <td>release_date</td>\n",
       "      <td>object</td>\n",
       "    </tr>\n",
       "    <tr>\n",
       "      <th>15</th>\n",
       "      <td>revenue</td>\n",
       "      <td>float64</td>\n",
       "    </tr>\n",
       "    <tr>\n",
       "      <th>16</th>\n",
       "      <td>runtime</td>\n",
       "      <td>float64</td>\n",
       "    </tr>\n",
       "    <tr>\n",
       "      <th>17</th>\n",
       "      <td>spoken_languages</td>\n",
       "      <td>object</td>\n",
       "    </tr>\n",
       "    <tr>\n",
       "      <th>18</th>\n",
       "      <td>status</td>\n",
       "      <td>object</td>\n",
       "    </tr>\n",
       "    <tr>\n",
       "      <th>19</th>\n",
       "      <td>tagline</td>\n",
       "      <td>object</td>\n",
       "    </tr>\n",
       "    <tr>\n",
       "      <th>20</th>\n",
       "      <td>title</td>\n",
       "      <td>object</td>\n",
       "    </tr>\n",
       "    <tr>\n",
       "      <th>21</th>\n",
       "      <td>video</td>\n",
       "      <td>object</td>\n",
       "    </tr>\n",
       "    <tr>\n",
       "      <th>22</th>\n",
       "      <td>vote_average</td>\n",
       "      <td>float64</td>\n",
       "    </tr>\n",
       "    <tr>\n",
       "      <th>23</th>\n",
       "      <td>vote_count</td>\n",
       "      <td>float64</td>\n",
       "    </tr>\n",
       "  </tbody>\n",
       "</table>\n",
       "</div>"
      ],
      "text/plain": [
       "                  feature    dtype\n",
       "0                   adult   object\n",
       "1   belongs_to_collection   object\n",
       "2                  budget   object\n",
       "3                  genres   object\n",
       "4                homepage   object\n",
       "5                      id   object\n",
       "6                 imdb_id   object\n",
       "7       original_language   object\n",
       "8          original_title   object\n",
       "9                overview   object\n",
       "10             popularity   object\n",
       "11            poster_path   object\n",
       "12   production_companies   object\n",
       "13   production_countries   object\n",
       "14           release_date   object\n",
       "15                revenue  float64\n",
       "16                runtime  float64\n",
       "17       spoken_languages   object\n",
       "18                 status   object\n",
       "19                tagline   object\n",
       "20                  title   object\n",
       "21                  video   object\n",
       "22           vote_average  float64\n",
       "23             vote_count  float64"
      ]
     },
     "execution_count": 16,
     "metadata": {},
     "output_type": "execute_result"
    }
   ],
   "source": [
    "pd.DataFrame({'feature':movies_metadata_df.dtypes.index, 'dtype':movies_metadata_df.dtypes.values})"
   ]
  },
  {
   "cell_type": "markdown",
   "metadata": {
    "_uuid": "5efafdea4393ffdcde388f120c70eabea654e483"
   },
   "source": [
    "All features, `genre`, `id` and `title` are strings (or list of strings). "
   ]
  },
  {
   "cell_type": "markdown",
   "metadata": {
    "_uuid": "9a67644e2f544f41435f189dc8817f64f36b1a1c"
   },
   "source": [
    "Mean value for rating is ~3.5, min is 0.5 and max is 5. The ratings are given between Jan 1995 and Aug 2017."
   ]
  },
  {
   "cell_type": "code",
   "execution_count": 17,
   "metadata": {
    "_kg_hide-input": false,
    "_uuid": "e7b7c66c7522693a1ae8aee270b63a1042098669"
   },
   "outputs": [
    {
     "data": {
      "text/html": [
       "<div>\n",
       "<style scoped>\n",
       "    .dataframe tbody tr th:only-of-type {\n",
       "        vertical-align: middle;\n",
       "    }\n",
       "\n",
       "    .dataframe tbody tr th {\n",
       "        vertical-align: top;\n",
       "    }\n",
       "\n",
       "    .dataframe thead th {\n",
       "        text-align: right;\n",
       "    }\n",
       "</style>\n",
       "<table border=\"1\" class=\"dataframe\">\n",
       "  <thead>\n",
       "    <tr style=\"text-align: right;\">\n",
       "      <th></th>\n",
       "      <th>userId</th>\n",
       "      <th>movieId</th>\n",
       "      <th>rating</th>\n",
       "      <th>timestamp</th>\n",
       "    </tr>\n",
       "  </thead>\n",
       "  <tbody>\n",
       "    <tr>\n",
       "      <th>count</th>\n",
       "      <td>100004.000000</td>\n",
       "      <td>100004.000000</td>\n",
       "      <td>100004.000000</td>\n",
       "      <td>1.000040e+05</td>\n",
       "    </tr>\n",
       "    <tr>\n",
       "      <th>mean</th>\n",
       "      <td>347.011310</td>\n",
       "      <td>12548.664363</td>\n",
       "      <td>3.543608</td>\n",
       "      <td>1.129639e+09</td>\n",
       "    </tr>\n",
       "    <tr>\n",
       "      <th>std</th>\n",
       "      <td>195.163838</td>\n",
       "      <td>26369.198969</td>\n",
       "      <td>1.058064</td>\n",
       "      <td>1.916858e+08</td>\n",
       "    </tr>\n",
       "    <tr>\n",
       "      <th>min</th>\n",
       "      <td>1.000000</td>\n",
       "      <td>1.000000</td>\n",
       "      <td>0.500000</td>\n",
       "      <td>7.896520e+08</td>\n",
       "    </tr>\n",
       "    <tr>\n",
       "      <th>25%</th>\n",
       "      <td>182.000000</td>\n",
       "      <td>1028.000000</td>\n",
       "      <td>3.000000</td>\n",
       "      <td>9.658478e+08</td>\n",
       "    </tr>\n",
       "    <tr>\n",
       "      <th>50%</th>\n",
       "      <td>367.000000</td>\n",
       "      <td>2406.500000</td>\n",
       "      <td>4.000000</td>\n",
       "      <td>1.110422e+09</td>\n",
       "    </tr>\n",
       "    <tr>\n",
       "      <th>75%</th>\n",
       "      <td>520.000000</td>\n",
       "      <td>5418.000000</td>\n",
       "      <td>4.000000</td>\n",
       "      <td>1.296192e+09</td>\n",
       "    </tr>\n",
       "    <tr>\n",
       "      <th>max</th>\n",
       "      <td>671.000000</td>\n",
       "      <td>163949.000000</td>\n",
       "      <td>5.000000</td>\n",
       "      <td>1.476641e+09</td>\n",
       "    </tr>\n",
       "  </tbody>\n",
       "</table>\n",
       "</div>"
      ],
      "text/plain": [
       "              userId        movieId         rating     timestamp\n",
       "count  100004.000000  100004.000000  100004.000000  1.000040e+05\n",
       "mean      347.011310   12548.664363       3.543608  1.129639e+09\n",
       "std       195.163838   26369.198969       1.058064  1.916858e+08\n",
       "min         1.000000       1.000000       0.500000  7.896520e+08\n",
       "25%       182.000000    1028.000000       3.000000  9.658478e+08\n",
       "50%       367.000000    2406.500000       4.000000  1.110422e+09\n",
       "75%       520.000000    5418.000000       4.000000  1.296192e+09\n",
       "max       671.000000  163949.000000       5.000000  1.476641e+09"
      ]
     },
     "execution_count": 17,
     "metadata": {},
     "output_type": "execute_result"
    }
   ],
   "source": [
    "ratings_df.describe()"
   ]
  },
  {
   "cell_type": "code",
   "execution_count": 18,
   "metadata": {
    "_kg_hide-input": true,
    "_uuid": "9cf8f792d0cb1005a647885ce7e7e5f220d73210"
   },
   "outputs": [
    {
     "name": "stdout",
     "output_type": "stream",
     "text": [
      "Timestamp for ratings from 1995-01-09T11:46:49 to 2016-10-16T17:57:24:\n"
     ]
    }
   ],
   "source": [
    "import datetime\n",
    "min_time = datetime.datetime.fromtimestamp(min(ratings_df.timestamp)).isoformat()\n",
    "max_time = datetime.datetime.fromtimestamp(max(ratings_df.timestamp)).isoformat()\n",
    "print('Timestamp for ratings from {} to {}:'.format(min_time, max_time))"
   ]
  },
  {
   "cell_type": "markdown",
   "metadata": {
    "_uuid": "7808a77bbe9f66bf03a787d6cb3f8ccf28dde573"
   },
   "source": [
    "## Check missing"
   ]
  },
  {
   "cell_type": "markdown",
   "metadata": {
    "_uuid": "fdd8e5d3943d970cba8b04254005fd38574fec28"
   },
   "source": [
    "We can confirm that we do not have missing data in `ratings_df`.\n",
    "Let's also check `movies_metadata_df`."
   ]
  },
  {
   "cell_type": "code",
   "execution_count": 19,
   "metadata": {
    "_kg_hide-input": true,
    "_uuid": "39054eed2337dd5bee52ea3e86da27c278f4ab69"
   },
   "outputs": [
    {
     "data": {
      "text/html": [
       "<div>\n",
       "<style scoped>\n",
       "    .dataframe tbody tr th:only-of-type {\n",
       "        vertical-align: middle;\n",
       "    }\n",
       "\n",
       "    .dataframe tbody tr th {\n",
       "        vertical-align: top;\n",
       "    }\n",
       "\n",
       "    .dataframe thead th {\n",
       "        text-align: right;\n",
       "    }\n",
       "</style>\n",
       "<table border=\"1\" class=\"dataframe\">\n",
       "  <thead>\n",
       "    <tr style=\"text-align: right;\">\n",
       "      <th></th>\n",
       "      <th>timestamp</th>\n",
       "      <th>rating</th>\n",
       "      <th>movieId</th>\n",
       "      <th>userId</th>\n",
       "    </tr>\n",
       "  </thead>\n",
       "  <tbody>\n",
       "    <tr>\n",
       "      <th>Total</th>\n",
       "      <td>0.0</td>\n",
       "      <td>0.0</td>\n",
       "      <td>0.0</td>\n",
       "      <td>0.0</td>\n",
       "    </tr>\n",
       "    <tr>\n",
       "      <th>Percent</th>\n",
       "      <td>0.0</td>\n",
       "      <td>0.0</td>\n",
       "      <td>0.0</td>\n",
       "      <td>0.0</td>\n",
       "    </tr>\n",
       "  </tbody>\n",
       "</table>\n",
       "</div>"
      ],
      "text/plain": [
       "         timestamp  rating  movieId  userId\n",
       "Total          0.0     0.0      0.0     0.0\n",
       "Percent        0.0     0.0      0.0     0.0"
      ]
     },
     "execution_count": 19,
     "metadata": {},
     "output_type": "execute_result"
    }
   ],
   "source": [
    "def check_missing(data_df):\n",
    "    total = data_df.isnull().sum().sort_values(ascending = False)\n",
    "    percent = (data_df.isnull().sum()/data_df.isnull().count()*100).sort_values(ascending = False)\n",
    "    return pd.concat([total, percent], axis=1, keys=['Total', 'Percent']).transpose()\n",
    "\n",
    "check_missing(ratings_df)"
   ]
  },
  {
   "cell_type": "code",
   "execution_count": 20,
   "metadata": {
    "_kg_hide-input": true,
    "_uuid": "6e849176cb17399fe2a106a84bfb3f835f8ff5cb"
   },
   "outputs": [
    {
     "data": {
      "text/html": [
       "<div>\n",
       "<style scoped>\n",
       "    .dataframe tbody tr th:only-of-type {\n",
       "        vertical-align: middle;\n",
       "    }\n",
       "\n",
       "    .dataframe tbody tr th {\n",
       "        vertical-align: top;\n",
       "    }\n",
       "\n",
       "    .dataframe thead th {\n",
       "        text-align: right;\n",
       "    }\n",
       "</style>\n",
       "<table border=\"1\" class=\"dataframe\">\n",
       "  <thead>\n",
       "    <tr style=\"text-align: right;\">\n",
       "      <th></th>\n",
       "      <th>belongs_to_collection</th>\n",
       "      <th>homepage</th>\n",
       "      <th>tagline</th>\n",
       "      <th>overview</th>\n",
       "      <th>poster_path</th>\n",
       "      <th>runtime</th>\n",
       "      <th>status</th>\n",
       "      <th>release_date</th>\n",
       "      <th>imdb_id</th>\n",
       "      <th>original_language</th>\n",
       "      <th>vote_average</th>\n",
       "      <th>vote_count</th>\n",
       "      <th>revenue</th>\n",
       "      <th>spoken_languages</th>\n",
       "      <th>title</th>\n",
       "      <th>video</th>\n",
       "      <th>popularity</th>\n",
       "      <th>production_companies</th>\n",
       "      <th>production_countries</th>\n",
       "      <th>original_title</th>\n",
       "      <th>id</th>\n",
       "      <th>genres</th>\n",
       "      <th>budget</th>\n",
       "      <th>adult</th>\n",
       "    </tr>\n",
       "  </thead>\n",
       "  <tbody>\n",
       "    <tr>\n",
       "      <th>Total</th>\n",
       "      <td>40972.000000</td>\n",
       "      <td>37684.000000</td>\n",
       "      <td>25054.000000</td>\n",
       "      <td>954.000000</td>\n",
       "      <td>386.000000</td>\n",
       "      <td>263.000000</td>\n",
       "      <td>87.000000</td>\n",
       "      <td>87.000000</td>\n",
       "      <td>17.000000</td>\n",
       "      <td>11.000000</td>\n",
       "      <td>6.000000</td>\n",
       "      <td>6.000000</td>\n",
       "      <td>6.000000</td>\n",
       "      <td>6.000000</td>\n",
       "      <td>6.000000</td>\n",
       "      <td>6.000000</td>\n",
       "      <td>5.000000</td>\n",
       "      <td>3.000000</td>\n",
       "      <td>3.000000</td>\n",
       "      <td>0.0</td>\n",
       "      <td>0.0</td>\n",
       "      <td>0.0</td>\n",
       "      <td>0.0</td>\n",
       "      <td>0.0</td>\n",
       "    </tr>\n",
       "    <tr>\n",
       "      <th>Percent</th>\n",
       "      <td>90.115691</td>\n",
       "      <td>82.883913</td>\n",
       "      <td>55.104914</td>\n",
       "      <td>2.098271</td>\n",
       "      <td>0.848986</td>\n",
       "      <td>0.578454</td>\n",
       "      <td>0.191352</td>\n",
       "      <td>0.191352</td>\n",
       "      <td>0.037391</td>\n",
       "      <td>0.024194</td>\n",
       "      <td>0.013197</td>\n",
       "      <td>0.013197</td>\n",
       "      <td>0.013197</td>\n",
       "      <td>0.013197</td>\n",
       "      <td>0.013197</td>\n",
       "      <td>0.013197</td>\n",
       "      <td>0.010997</td>\n",
       "      <td>0.006598</td>\n",
       "      <td>0.006598</td>\n",
       "      <td>0.0</td>\n",
       "      <td>0.0</td>\n",
       "      <td>0.0</td>\n",
       "      <td>0.0</td>\n",
       "      <td>0.0</td>\n",
       "    </tr>\n",
       "  </tbody>\n",
       "</table>\n",
       "</div>"
      ],
      "text/plain": [
       "         belongs_to_collection      homepage       tagline    overview  \\\n",
       "Total             40972.000000  37684.000000  25054.000000  954.000000   \n",
       "Percent              90.115691     82.883913     55.104914    2.098271   \n",
       "\n",
       "         poster_path     runtime     status  release_date    imdb_id  \\\n",
       "Total     386.000000  263.000000  87.000000     87.000000  17.000000   \n",
       "Percent     0.848986    0.578454   0.191352      0.191352   0.037391   \n",
       "\n",
       "         original_language  vote_average  vote_count   revenue  \\\n",
       "Total            11.000000      6.000000    6.000000  6.000000   \n",
       "Percent           0.024194      0.013197    0.013197  0.013197   \n",
       "\n",
       "         spoken_languages     title     video  popularity  \\\n",
       "Total            6.000000  6.000000  6.000000    5.000000   \n",
       "Percent          0.013197  0.013197  0.013197    0.010997   \n",
       "\n",
       "         production_companies  production_countries  original_title   id  \\\n",
       "Total                3.000000              3.000000             0.0  0.0   \n",
       "Percent              0.006598              0.006598             0.0  0.0   \n",
       "\n",
       "         genres  budget  adult  \n",
       "Total       0.0     0.0    0.0  \n",
       "Percent     0.0     0.0    0.0  "
      ]
     },
     "execution_count": 20,
     "metadata": {},
     "output_type": "execute_result"
    }
   ],
   "source": [
    "check_missing(movies_metadata_df)"
   ]
  },
  {
   "cell_type": "markdown",
   "metadata": {
    "_uuid": "0b47829b85d106fbfdd4f5e8792aee0e2b8cf1f0"
   },
   "source": [
    "There are 6 movies without a title or 0.01%.\n",
    "Let's drop these rows."
   ]
  },
  {
   "cell_type": "code",
   "execution_count": 21,
   "metadata": {
    "_kg_hide-input": true,
    "_uuid": "a20803661a2ef489e58db1e8d85fa61b38f7a0d2"
   },
   "outputs": [
    {
     "data": {
      "text/html": [
       "<div>\n",
       "<style scoped>\n",
       "    .dataframe tbody tr th:only-of-type {\n",
       "        vertical-align: middle;\n",
       "    }\n",
       "\n",
       "    .dataframe tbody tr th {\n",
       "        vertical-align: top;\n",
       "    }\n",
       "\n",
       "    .dataframe thead th {\n",
       "        text-align: right;\n",
       "    }\n",
       "</style>\n",
       "<table border=\"1\" class=\"dataframe\">\n",
       "  <thead>\n",
       "    <tr style=\"text-align: right;\">\n",
       "      <th></th>\n",
       "      <th>belongs_to_collection</th>\n",
       "      <th>homepage</th>\n",
       "      <th>tagline</th>\n",
       "      <th>overview</th>\n",
       "      <th>poster_path</th>\n",
       "      <th>runtime</th>\n",
       "      <th>release_date</th>\n",
       "      <th>status</th>\n",
       "      <th>imdb_id</th>\n",
       "      <th>original_language</th>\n",
       "      <th>budget</th>\n",
       "      <th>genres</th>\n",
       "      <th>id</th>\n",
       "      <th>original_title</th>\n",
       "      <th>vote_count</th>\n",
       "      <th>popularity</th>\n",
       "      <th>vote_average</th>\n",
       "      <th>production_companies</th>\n",
       "      <th>production_countries</th>\n",
       "      <th>revenue</th>\n",
       "      <th>spoken_languages</th>\n",
       "      <th>title</th>\n",
       "      <th>video</th>\n",
       "      <th>adult</th>\n",
       "    </tr>\n",
       "  </thead>\n",
       "  <tbody>\n",
       "    <tr>\n",
       "      <th>Total</th>\n",
       "      <td>40970.000000</td>\n",
       "      <td>37682.000000</td>\n",
       "      <td>25048.000000</td>\n",
       "      <td>954.000000</td>\n",
       "      <td>383.000000</td>\n",
       "      <td>257.000000</td>\n",
       "      <td>84.000000</td>\n",
       "      <td>81.000000</td>\n",
       "      <td>17.000000</td>\n",
       "      <td>11.000000</td>\n",
       "      <td>0.0</td>\n",
       "      <td>0.0</td>\n",
       "      <td>0.0</td>\n",
       "      <td>0.0</td>\n",
       "      <td>0.0</td>\n",
       "      <td>0.0</td>\n",
       "      <td>0.0</td>\n",
       "      <td>0.0</td>\n",
       "      <td>0.0</td>\n",
       "      <td>0.0</td>\n",
       "      <td>0.0</td>\n",
       "      <td>0.0</td>\n",
       "      <td>0.0</td>\n",
       "      <td>0.0</td>\n",
       "    </tr>\n",
       "    <tr>\n",
       "      <th>Percent</th>\n",
       "      <td>90.123185</td>\n",
       "      <td>82.890453</td>\n",
       "      <td>55.098988</td>\n",
       "      <td>2.098548</td>\n",
       "      <td>0.842499</td>\n",
       "      <td>0.565332</td>\n",
       "      <td>0.184778</td>\n",
       "      <td>0.178179</td>\n",
       "      <td>0.037396</td>\n",
       "      <td>0.024197</td>\n",
       "      <td>0.0</td>\n",
       "      <td>0.0</td>\n",
       "      <td>0.0</td>\n",
       "      <td>0.0</td>\n",
       "      <td>0.0</td>\n",
       "      <td>0.0</td>\n",
       "      <td>0.0</td>\n",
       "      <td>0.0</td>\n",
       "      <td>0.0</td>\n",
       "      <td>0.0</td>\n",
       "      <td>0.0</td>\n",
       "      <td>0.0</td>\n",
       "      <td>0.0</td>\n",
       "      <td>0.0</td>\n",
       "    </tr>\n",
       "  </tbody>\n",
       "</table>\n",
       "</div>"
      ],
      "text/plain": [
       "         belongs_to_collection      homepage       tagline    overview  \\\n",
       "Total             40970.000000  37682.000000  25048.000000  954.000000   \n",
       "Percent              90.123185     82.890453     55.098988    2.098548   \n",
       "\n",
       "         poster_path     runtime  release_date     status    imdb_id  \\\n",
       "Total     383.000000  257.000000     84.000000  81.000000  17.000000   \n",
       "Percent     0.842499    0.565332      0.184778   0.178179   0.037396   \n",
       "\n",
       "         original_language  budget  genres   id  original_title  vote_count  \\\n",
       "Total            11.000000     0.0     0.0  0.0             0.0         0.0   \n",
       "Percent           0.024197     0.0     0.0  0.0             0.0         0.0   \n",
       "\n",
       "         popularity  vote_average  production_companies  production_countries  \\\n",
       "Total           0.0           0.0                   0.0                   0.0   \n",
       "Percent         0.0           0.0                   0.0                   0.0   \n",
       "\n",
       "         revenue  spoken_languages  title  video  adult  \n",
       "Total        0.0               0.0    0.0    0.0    0.0  \n",
       "Percent      0.0               0.0    0.0    0.0    0.0  "
      ]
     },
     "execution_count": 21,
     "metadata": {},
     "output_type": "execute_result"
    }
   ],
   "source": [
    "movies_metadata_df.dropna(subset=['title'], inplace=True)\n",
    "check_missing(movies_metadata_df)"
   ]
  },
  {
   "cell_type": "code",
   "execution_count": 22,
   "metadata": {
    "_kg_hide-input": true,
    "_uuid": "ca35b45d0f8a4f20dc14d58f4b84216ade2f03a5"
   },
   "outputs": [],
   "source": [
    "movies_metadata_df['id'] = pd.to_numeric(movies_metadata_df['id'])"
   ]
  },
  {
   "cell_type": "markdown",
   "metadata": {
    "_uuid": "5f6c16689c8eb8a7ed8aabcf043e661c9a72ed69"
   },
   "source": [
    "## Filter only votes to movies in movies metadata"
   ]
  },
  {
   "cell_type": "code",
   "execution_count": 23,
   "metadata": {
    "_kg_hide-input": true,
    "_uuid": "6a0624052eb825a0b739daba104a7b2e45fbdd68"
   },
   "outputs": [
    {
     "data": {
      "text/plain": [
       "(100004, 4)"
      ]
     },
     "execution_count": 23,
     "metadata": {},
     "output_type": "execute_result"
    }
   ],
   "source": [
    "ratings_df.shape"
   ]
  },
  {
   "cell_type": "code",
   "execution_count": 24,
   "metadata": {
    "_kg_hide-input": true,
    "_uuid": "a5b5afa26e135717802d579bf9f675ad90e84ace"
   },
   "outputs": [],
   "source": [
    "ratings_df = ratings_df.merge(movies_metadata_df[['id']], left_on=['movieId'], right_on=['id'], how='inner')"
   ]
  },
  {
   "cell_type": "code",
   "execution_count": 25,
   "metadata": {
    "_kg_hide-input": true,
    "_uuid": "3d4732d4d88d5861d7eb6d5470bb0c510cb73922"
   },
   "outputs": [
    {
     "data": {
      "text/plain": [
       "(44994, 5)"
      ]
     },
     "execution_count": 25,
     "metadata": {},
     "output_type": "execute_result"
    }
   ],
   "source": [
    "ratings_df.shape"
   ]
  },
  {
   "cell_type": "markdown",
   "metadata": {
    "_uuid": "acb4e2a795c1bbc2c84dfe1ccc9fcb4467afd001",
    "collapsed": true
   },
   "source": [
    "\n",
    "<a href=\"#0\"><font size=\"1\">Go to top</font></a>"
   ]
  },
  {
   "cell_type": "markdown",
   "metadata": {
    "_uuid": "4ce68be566603212af8f0047c160a7ba035d4d3f"
   },
   "source": [
    "# <a id=\"3\">Data preparation</a>  \n",
    "\n",
    "Let's start to verify in more detail and curate the data.\n",
    "\n",
    "\n",
    "## Extract datetime"
   ]
  },
  {
   "cell_type": "code",
   "execution_count": 26,
   "metadata": {
    "_kg_hide-input": true,
    "_uuid": "ddcefaee3e532267db9f1f8aa0b0b899d9e370d8"
   },
   "outputs": [],
   "source": [
    "ratings_df['time_dt'] = ratings_df['timestamp'].apply(lambda x: datetime.datetime.fromtimestamp(x))"
   ]
  },
  {
   "cell_type": "code",
   "execution_count": 27,
   "metadata": {
    "_kg_hide-input": true,
    "_uuid": "fe4369eb9a570ee984b9d4dfbe3bca993595ce6d"
   },
   "outputs": [
    {
     "data": {
      "text/html": [
       "<div>\n",
       "<style scoped>\n",
       "    .dataframe tbody tr th:only-of-type {\n",
       "        vertical-align: middle;\n",
       "    }\n",
       "\n",
       "    .dataframe tbody tr th {\n",
       "        vertical-align: top;\n",
       "    }\n",
       "\n",
       "    .dataframe thead th {\n",
       "        text-align: right;\n",
       "    }\n",
       "</style>\n",
       "<table border=\"1\" class=\"dataframe\">\n",
       "  <thead>\n",
       "    <tr style=\"text-align: right;\">\n",
       "      <th></th>\n",
       "      <th>userId</th>\n",
       "      <th>movieId</th>\n",
       "      <th>rating</th>\n",
       "      <th>timestamp</th>\n",
       "      <th>id</th>\n",
       "      <th>time_dt</th>\n",
       "    </tr>\n",
       "  </thead>\n",
       "  <tbody>\n",
       "    <tr>\n",
       "      <th>0</th>\n",
       "      <td>1</td>\n",
       "      <td>1371</td>\n",
       "      <td>2.5</td>\n",
       "      <td>1260759135</td>\n",
       "      <td>1371</td>\n",
       "      <td>2009-12-14 02:52:15</td>\n",
       "    </tr>\n",
       "    <tr>\n",
       "      <th>1</th>\n",
       "      <td>4</td>\n",
       "      <td>1371</td>\n",
       "      <td>4.0</td>\n",
       "      <td>949810302</td>\n",
       "      <td>1371</td>\n",
       "      <td>2000-02-06 04:11:42</td>\n",
       "    </tr>\n",
       "    <tr>\n",
       "      <th>2</th>\n",
       "      <td>7</td>\n",
       "      <td>1371</td>\n",
       "      <td>3.0</td>\n",
       "      <td>851869160</td>\n",
       "      <td>1371</td>\n",
       "      <td>1996-12-29 14:19:20</td>\n",
       "    </tr>\n",
       "    <tr>\n",
       "      <th>3</th>\n",
       "      <td>19</td>\n",
       "      <td>1371</td>\n",
       "      <td>4.0</td>\n",
       "      <td>855193404</td>\n",
       "      <td>1371</td>\n",
       "      <td>1997-02-06 01:43:24</td>\n",
       "    </tr>\n",
       "    <tr>\n",
       "      <th>4</th>\n",
       "      <td>21</td>\n",
       "      <td>1371</td>\n",
       "      <td>3.0</td>\n",
       "      <td>853852263</td>\n",
       "      <td>1371</td>\n",
       "      <td>1997-01-21 13:11:03</td>\n",
       "    </tr>\n",
       "  </tbody>\n",
       "</table>\n",
       "</div>"
      ],
      "text/plain": [
       "   userId  movieId  rating   timestamp    id             time_dt\n",
       "0       1     1371     2.5  1260759135  1371 2009-12-14 02:52:15\n",
       "1       4     1371     4.0   949810302  1371 2000-02-06 04:11:42\n",
       "2       7     1371     3.0   851869160  1371 1996-12-29 14:19:20\n",
       "3      19     1371     4.0   855193404  1371 1997-02-06 01:43:24\n",
       "4      21     1371     3.0   853852263  1371 1997-01-21 13:11:03"
      ]
     },
     "execution_count": 27,
     "metadata": {},
     "output_type": "execute_result"
    }
   ],
   "source": [
    "ratings_df.head()"
   ]
  },
  {
   "cell_type": "markdown",
   "metadata": {
    "_uuid": "72d0bfe1eb8a41cd01aa1e50817b4b7ece1c0f92"
   },
   "source": [
    "Let's extract also few date/time attributes."
   ]
  },
  {
   "cell_type": "code",
   "execution_count": 28,
   "metadata": {
    "_kg_hide-input": true,
    "_uuid": "44e35803fc555c375891968f3381a9739cecca3d"
   },
   "outputs": [],
   "source": [
    "ratings_df['year'] = ratings_df['time_dt'].dt.year\n",
    "ratings_df['month'] = ratings_df['time_dt'].dt.month\n",
    "ratings_df['day'] = ratings_df['time_dt'].dt.day\n",
    "ratings_df['dayofweek'] = ratings_df['time_dt'].dt.dayofweek"
   ]
  },
  {
   "cell_type": "code",
   "execution_count": 29,
   "metadata": {
    "_kg_hide-input": true,
    "_uuid": "8fc265a3ed30499746fa9f718c976fec04b816b2"
   },
   "outputs": [
    {
     "data": {
      "text/html": [
       "<div>\n",
       "<style scoped>\n",
       "    .dataframe tbody tr th:only-of-type {\n",
       "        vertical-align: middle;\n",
       "    }\n",
       "\n",
       "    .dataframe tbody tr th {\n",
       "        vertical-align: top;\n",
       "    }\n",
       "\n",
       "    .dataframe thead th {\n",
       "        text-align: right;\n",
       "    }\n",
       "</style>\n",
       "<table border=\"1\" class=\"dataframe\">\n",
       "  <thead>\n",
       "    <tr style=\"text-align: right;\">\n",
       "      <th></th>\n",
       "      <th>year</th>\n",
       "      <th>month</th>\n",
       "      <th>day</th>\n",
       "      <th>dayofweek</th>\n",
       "    </tr>\n",
       "  </thead>\n",
       "  <tbody>\n",
       "    <tr>\n",
       "      <th>count</th>\n",
       "      <td>44994.000000</td>\n",
       "      <td>44994.000000</td>\n",
       "      <td>44994.000000</td>\n",
       "      <td>44994.000000</td>\n",
       "    </tr>\n",
       "    <tr>\n",
       "      <th>mean</th>\n",
       "      <td>2004.002734</td>\n",
       "      <td>6.798773</td>\n",
       "      <td>15.465640</td>\n",
       "      <td>2.871272</td>\n",
       "    </tr>\n",
       "    <tr>\n",
       "      <th>std</th>\n",
       "      <td>5.986696</td>\n",
       "      <td>3.517710</td>\n",
       "      <td>8.780353</td>\n",
       "      <td>2.007390</td>\n",
       "    </tr>\n",
       "    <tr>\n",
       "      <th>min</th>\n",
       "      <td>1995.000000</td>\n",
       "      <td>1.000000</td>\n",
       "      <td>1.000000</td>\n",
       "      <td>0.000000</td>\n",
       "    </tr>\n",
       "    <tr>\n",
       "      <th>25%</th>\n",
       "      <td>2000.000000</td>\n",
       "      <td>4.000000</td>\n",
       "      <td>8.000000</td>\n",
       "      <td>1.000000</td>\n",
       "    </tr>\n",
       "    <tr>\n",
       "      <th>50%</th>\n",
       "      <td>2003.000000</td>\n",
       "      <td>7.000000</td>\n",
       "      <td>16.000000</td>\n",
       "      <td>3.000000</td>\n",
       "    </tr>\n",
       "    <tr>\n",
       "      <th>75%</th>\n",
       "      <td>2008.000000</td>\n",
       "      <td>10.000000</td>\n",
       "      <td>23.000000</td>\n",
       "      <td>5.000000</td>\n",
       "    </tr>\n",
       "    <tr>\n",
       "      <th>max</th>\n",
       "      <td>2016.000000</td>\n",
       "      <td>12.000000</td>\n",
       "      <td>31.000000</td>\n",
       "      <td>6.000000</td>\n",
       "    </tr>\n",
       "  </tbody>\n",
       "</table>\n",
       "</div>"
      ],
      "text/plain": [
       "               year         month           day     dayofweek\n",
       "count  44994.000000  44994.000000  44994.000000  44994.000000\n",
       "mean    2004.002734      6.798773     15.465640      2.871272\n",
       "std        5.986696      3.517710      8.780353      2.007390\n",
       "min     1995.000000      1.000000      1.000000      0.000000\n",
       "25%     2000.000000      4.000000      8.000000      1.000000\n",
       "50%     2003.000000      7.000000     16.000000      3.000000\n",
       "75%     2008.000000     10.000000     23.000000      5.000000\n",
       "max     2016.000000     12.000000     31.000000      6.000000"
      ]
     },
     "execution_count": 29,
     "metadata": {},
     "output_type": "execute_result"
    }
   ],
   "source": [
    "ratings_df[['year', 'month', 'day', 'dayofweek']].describe()"
   ]
  },
  {
   "cell_type": "markdown",
   "metadata": {
    "_uuid": "790e96d9ab7595994fcac14abed42631a6815e20"
   },
   "source": [
    "All date and time looks fine, we will not need to eliminate or correct any value."
   ]
  },
  {
   "cell_type": "markdown",
   "metadata": {
    "_uuid": "b2e02eb31942a55c5d22d6a3f9cb162dc893bf94"
   },
   "source": [
    "## Check date/time distribution\n",
    "\n",
    "Let's proceed now to check date/time distribution. "
   ]
  },
  {
   "cell_type": "code",
   "execution_count": 30,
   "metadata": {
    "_kg_hide-input": true,
    "_uuid": "2e6fdd937af2ca699064d7c2f9b14f4c1d23f2da"
   },
   "outputs": [
    {
     "data": {
      "image/png": "[encoded data removed]",
      "text/plain": [
       "<Figure size 1296x216 with 4 Axes>"
      ]
     },
     "metadata": {},
     "output_type": "display_data"
    }
   ],
   "source": [
    "fig, (ax1, ax2, ax3, ax4) = plt.subplots(ncols=4, figsize=(18,3))\n",
    "s = sns.boxplot(ax = ax1, y=\"year\", data=ratings_df, palette=\"Greens\",showfliers=True)\n",
    "s = sns.boxplot(ax = ax2, y=\"month\", data=ratings_df, palette=\"Blues\",showfliers=True)\n",
    "s = sns.boxplot(ax = ax3, y=\"day\", data=ratings_df, palette=\"Reds\",showfliers=True)\n",
    "s = sns.boxplot(ax = ax4, y=\"dayofweek\", data=ratings_df, palette=\"Reds\",showfliers=True)\n",
    "plt.show()"
   ]
  },
  {
   "cell_type": "markdown",
   "metadata": {
    "_uuid": "4acbdedeee35411b0e7cf35723150e205f97c481"
   },
   "source": [
    "Let's also show the number and average value of ratings variation in time."
   ]
  },
  {
   "cell_type": "code",
   "execution_count": 31,
   "metadata": {
    "_kg_hide-input": true,
    "_uuid": "aec3efc5b5bf1d42206ad8121f2340a747a3837e"
   },
   "outputs": [
    {
     "data": {
      "image/png": "[encoded data removed]",
      "text/plain": [
       "<Figure size 864x432 with 1 Axes>"
      ]
     },
     "metadata": {},
     "output_type": "display_data"
    }
   ],
   "source": [
    "dt = ratings_df.groupby(['year'])['rating'].count().reset_index()\n",
    "fig, (ax) = plt.subplots(ncols=1, figsize=(12,6))\n",
    "plt.plot(dt['year'],dt['rating']); plt.xlabel('Year'); plt.ylabel('Number of votes'); plt.title('Number of votes per year')\n",
    "plt.show()"
   ]
  },
  {
   "cell_type": "code",
   "execution_count": 32,
   "metadata": {
    "_kg_hide-input": true,
    "_uuid": "4b72366ca32651cd1e908693a907352f36a6b80d"
   },
   "outputs": [
    {
     "data": {
      "image/png": "[encoded data removed]",
      "text/plain": [
       "<Figure size 864x432 with 1 Axes>"
      ]
     },
     "metadata": {},
     "output_type": "display_data"
    }
   ],
   "source": [
    "dt = ratings_df.groupby(['year'])['rating'].mean().reset_index()\n",
    "fig, (ax) = plt.subplots(ncols=1, figsize=(12,6))\n",
    "plt.plot(dt['year'],dt['rating']); plt.xlabel('Year'); plt.ylabel('Average ratings'); plt.title('Average ratings per year')\n",
    "plt.show()"
   ]
  },
  {
   "cell_type": "code",
   "execution_count": 33,
   "metadata": {
    "_kg_hide-input": true,
    "_uuid": "9246abf1c0c8371c169d446899417f0030d9c4bf"
   },
   "outputs": [
    {
     "data": {
      "image/png": "[encoded data removed]",
      "text/plain": [
       "<Figure size 864x288 with 1 Axes>"
      ]
     },
     "metadata": {},
     "output_type": "display_data"
    }
   ],
   "source": [
    "fig, (ax) = plt.subplots(ncols=1, figsize=(12,4))\n",
    "s = sns.boxplot(x='year', y=\"rating\", data=ratings_df, palette=\"Greens\",showfliers=True)\n",
    "plt.show()"
   ]
  },
  {
   "cell_type": "code",
   "execution_count": 34,
   "metadata": {
    "_kg_hide-input": true,
    "_uuid": "21c1fa433dc6222dc1dbed809d54e85955316365"
   },
   "outputs": [
    {
     "data": {
      "image/png": "[encoded data removed]",
      "text/plain": [
       "<Figure size 720x288 with 1 Axes>"
      ]
     },
     "metadata": {},
     "output_type": "display_data"
    }
   ],
   "source": [
    "fig, (ax) = plt.subplots(ncols=1, figsize=(10,4))\n",
    "s = sns.boxplot(x='month', y=\"rating\", data=ratings_df, palette=\"Blues\",showfliers=True)\n",
    "plt.show()"
   ]
  },
  {
   "cell_type": "code",
   "execution_count": 35,
   "metadata": {
    "_kg_hide-input": true,
    "_uuid": "8d4009d0d59b1b5a0d853eeeced0f264780f8bbc"
   },
   "outputs": [
    {
     "data": {
      "image/png": "[encoded data removed]",
      "text/plain": [
       "<Figure size 432x288 with 1 Axes>"
      ]
     },
     "metadata": {},
     "output_type": "display_data"
    }
   ],
   "source": [
    "fig, (ax) = plt.subplots(ncols=1, figsize=(6,4))\n",
    "s = sns.boxplot(x='dayofweek', y=\"rating\", data=ratings_df, palette=\"Reds\",showfliers=True)\n",
    "plt.show()"
   ]
  },
  {
   "cell_type": "markdown",
   "metadata": {
    "_uuid": "7d1d66224ae48e45f33c3bbcff6a7afaf2e2215c"
   },
   "source": [
    "Observations:\n",
    "* We are not observing a special behavior other than variation in time of the ratings averages, with a descending trend from 1995 to 2004, also with 2 peaks in 1997 and 1999 and ascending trend since 2004 to 2012, to start decreasing again.\n",
    "* Number of votes shows a lot of peaks and valleys, and also an ascendent trend to 2005, followed by a descending one from 2005, a sharp increase to 2015.\n",
    "* There are a number of outliers for each year, month and day of week. We observe a strange alignment of the rating distribution per year intervals 1996-2002, 2003-2011 and 2012-2017 which could prompt us to conclude that the selection used some artificial sampling."
   ]
  },
  {
   "cell_type": "markdown",
   "metadata": {
    "_uuid": "eddd2ca3cb2b132d5e5948fba17d2bbf04bf6ea7"
   },
   "source": [
    "## Users distribution\n",
    "\n",
    "\n",
    "Let's check if we have special users (users that give many votes, users that give preponderently high ratings, users that give mostly low ratings, users that are giving the perfect average value). Also, users with only one vote."
   ]
  },
  {
   "cell_type": "code",
   "execution_count": 36,
   "metadata": {
    "_kg_hide-input": true,
    "_uuid": "1025612a2ad944dcad25baf9107e10c96fbe8fc9"
   },
   "outputs": [
    {
     "name": "stdout",
     "output_type": "stream",
     "text": [
      "There is a total of 671 users, with an average number of 67 votes.\n"
     ]
    }
   ],
   "source": [
    "print(\"There is a total of {} users, with an average number of {} votes.\".format(ratings_df.userId.nunique(), \\\n",
    "                                                round(ratings_df.shape[0]/ratings_df.userId.nunique()),2))"
   ]
  },
  {
   "cell_type": "code",
   "execution_count": 37,
   "metadata": {
    "_kg_hide-input": true,
    "_uuid": "19bb7a17d1a7b2415d417c258d0b537182cbe4d3"
   },
   "outputs": [
    {
     "name": "stdout",
     "output_type": "stream",
     "text": [
      "Top 5 voting users:\n",
      "\n"
     ]
    },
    {
     "data": {
      "text/html": [
       "<div>\n",
       "<style scoped>\n",
       "    .dataframe tbody tr th:only-of-type {\n",
       "        vertical-align: middle;\n",
       "    }\n",
       "\n",
       "    .dataframe tbody tr th {\n",
       "        vertical-align: top;\n",
       "    }\n",
       "\n",
       "    .dataframe thead th {\n",
       "        text-align: right;\n",
       "    }\n",
       "</style>\n",
       "<table border=\"1\" class=\"dataframe\">\n",
       "  <thead>\n",
       "    <tr style=\"text-align: right;\">\n",
       "      <th></th>\n",
       "      <th>Votes</th>\n",
       "      <th>Id</th>\n",
       "    </tr>\n",
       "  </thead>\n",
       "  <tbody>\n",
       "    <tr>\n",
       "      <th>0</th>\n",
       "      <td>896</td>\n",
       "      <td>564</td>\n",
       "    </tr>\n",
       "    <tr>\n",
       "      <th>1</th>\n",
       "      <td>753</td>\n",
       "      <td>547</td>\n",
       "    </tr>\n",
       "    <tr>\n",
       "      <th>2</th>\n",
       "      <td>565</td>\n",
       "      <td>15</td>\n",
       "    </tr>\n",
       "    <tr>\n",
       "      <th>3</th>\n",
       "      <td>553</td>\n",
       "      <td>73</td>\n",
       "    </tr>\n",
       "    <tr>\n",
       "      <th>4</th>\n",
       "      <td>542</td>\n",
       "      <td>452</td>\n",
       "    </tr>\n",
       "  </tbody>\n",
       "</table>\n",
       "</div>"
      ],
      "text/plain": [
       "   Votes   Id\n",
       "0    896  564\n",
       "1    753  547\n",
       "2    565   15\n",
       "3    553   73\n",
       "4    542  452"
      ]
     },
     "execution_count": 37,
     "metadata": {},
     "output_type": "execute_result"
    }
   ],
   "source": [
    "print(\"Top 5 voting users:\\n\")\n",
    "tmp = ratings_df.userId.value_counts()[:5]\n",
    "pd.DataFrame({'Votes':tmp.values, 'Id':tmp.index})"
   ]
  },
  {
   "cell_type": "code",
   "execution_count": 38,
   "metadata": {
    "_kg_hide-input": true,
    "_uuid": "b929a4ba9b70519467890ce3773a830e16fb733e"
   },
   "outputs": [
    {
     "ename": "IndexError",
     "evalue": "index 0 is out of bounds for axis 0 with size 0",
     "output_type": "error",
     "traceback": [
      "\u001b[0;31m---------------------------------------------------------------------------\u001b[0m",
      "\u001b[0;31mIndexError\u001b[0m                                Traceback (most recent call last)",
      "\u001b[0;32m<ipython-input-38-7a6ec9716278>\u001b[0m in \u001b[0;36m<module>\u001b[0;34m()\u001b[0m\n\u001b[1;32m      1\u001b[0m \u001b[0mtmp\u001b[0m \u001b[0;34m=\u001b[0m \u001b[0mratings_df\u001b[0m\u001b[0;34m.\u001b[0m\u001b[0muserId\u001b[0m\u001b[0;34m.\u001b[0m\u001b[0mvalue_counts\u001b[0m\u001b[0;34m(\u001b[0m\u001b[0;34m)\u001b[0m\u001b[0;34m\u001b[0m\u001b[0m\n\u001b[1;32m      2\u001b[0m \u001b[0mdf\u001b[0m \u001b[0;34m=\u001b[0m \u001b[0mpd\u001b[0m\u001b[0;34m.\u001b[0m\u001b[0mDataFrame\u001b[0m\u001b[0;34m(\u001b[0m\u001b[0;34m{\u001b[0m\u001b[0;34m'Votes'\u001b[0m\u001b[0;34m:\u001b[0m\u001b[0mtmp\u001b[0m\u001b[0;34m.\u001b[0m\u001b[0mvalues\u001b[0m\u001b[0;34m,\u001b[0m \u001b[0;34m'Id'\u001b[0m\u001b[0;34m:\u001b[0m\u001b[0mtmp\u001b[0m\u001b[0;34m.\u001b[0m\u001b[0mindex\u001b[0m\u001b[0;34m}\u001b[0m\u001b[0;34m)\u001b[0m\u001b[0;34m\u001b[0m\u001b[0m\n\u001b[0;32m----> 3\u001b[0;31m \u001b[0mprint\u001b[0m\u001b[0;34m(\u001b[0m\u001b[0;34m\"There are {} users that voted only once.\"\u001b[0m\u001b[0;34m.\u001b[0m\u001b[0mformat\u001b[0m\u001b[0;34m(\u001b[0m\u001b[0mdf\u001b[0m\u001b[0;34m[\u001b[0m\u001b[0mdf\u001b[0m\u001b[0;34m[\u001b[0m\u001b[0;34m'Votes'\u001b[0m\u001b[0;34m]\u001b[0m\u001b[0;34m==\u001b[0m\u001b[0;36m1\u001b[0m\u001b[0;34m]\u001b[0m\u001b[0;34m.\u001b[0m\u001b[0mnunique\u001b[0m\u001b[0;34m(\u001b[0m\u001b[0;34m)\u001b[0m\u001b[0;34m.\u001b[0m\u001b[0mvalues\u001b[0m\u001b[0;34m[\u001b[0m\u001b[0;36m0\u001b[0m\u001b[0;34m]\u001b[0m\u001b[0;34m)\u001b[0m\u001b[0;34m)\u001b[0m\u001b[0;34m\u001b[0m\u001b[0m\n\u001b[0m",
      "\u001b[0;31mIndexError\u001b[0m: index 0 is out of bounds for axis 0 with size 0"
     ]
    }
   ],
   "source": [
    "tmp = ratings_df.userId.value_counts()\n",
    "df = pd.DataFrame({'Votes':tmp.values, 'Id':tmp.index})\n",
    "print(\"There are {} users that voted only once.\".format(df[df['Votes']==1].nunique().values[0]))"
   ]
  },
  {
   "cell_type": "code",
   "execution_count": 39,
   "metadata": {
    "_kg_hide-input": true,
    "_uuid": "b91a3545d225f91582608eaebe9ede020c7200b7"
   },
   "outputs": [
    {
     "name": "stdout",
     "output_type": "stream",
     "text": [
      "Users giving only '5': 1\n",
      "Users giving only '0.5':0\n"
     ]
    }
   ],
   "source": [
    "tmp = ratings_df.groupby(['userId'])['rating'].mean().reset_index()\n",
    "tmp['rating'] = tmp['rating'].apply(lambda x: round(x,3))\n",
    "df_max = tmp[tmp['rating']==5]\n",
    "df_min = tmp[tmp['rating']==0.5]\n",
    "print(\"Users giving only '5': {}\\nUsers giving only '0.5':{}\".format(df_max.shape[0], df_min.shape[0]))"
   ]
  },
  {
   "cell_type": "code",
   "execution_count": 40,
   "metadata": {
    "_kg_hide-input": true,
    "_uuid": "b7095b13ff44368eaa754b03c54c792555fa67a3"
   },
   "outputs": [
    {
     "name": "stdout",
     "output_type": "stream",
     "text": [
      "Average value of rating is 3.561.\n",
      "There are 1 users that have their average score with the overall average score (approx. with 3 decimals).\n"
     ]
    }
   ],
   "source": [
    "mean_rating = round(ratings_df['rating'].mean(),3)\n",
    "print(\"Average value of rating is {}.\".format(mean_rating))\n",
    "print(\"There are {} users that have their average score with the overall average score (approx. with 3 decimals).\".format(\\\n",
    "                            tmp[tmp['rating']==mean_rating]['userId'].nunique()))"
   ]
  },
  {
   "cell_type": "markdown",
   "metadata": {
    "_uuid": "4505daa9246008596b4497f9f7759af558369e40"
   },
   "source": [
    "## Movie distribution\n",
    "\n",
    "Let's see what are the movies with the largest number of votes, with the biggest rating, with the lowest rating, how many movies have ratings close to average rating."
   ]
  },
  {
   "cell_type": "code",
   "execution_count": 41,
   "metadata": {
    "_kg_hide-input": true,
    "_uuid": "490e7773f8173ac8dd58215600932b7e04e0770a"
   },
   "outputs": [
    {
     "name": "stdout",
     "output_type": "stream",
     "text": [
      "There is a total of 2830 movies, with an average number of 16 votes.\n"
     ]
    }
   ],
   "source": [
    "print(\"There is a total of {} movies, with an average number of {} votes.\".format(ratings_df.movieId.nunique(), \\\n",
    "                                                round(ratings_df.shape[0]/ratings_df.movieId.nunique()),2))"
   ]
  },
  {
   "cell_type": "code",
   "execution_count": 42,
   "metadata": {
    "_kg_hide-input": true,
    "_uuid": "8661642590ef7faca12324e1b9dd468cd53f09bb"
   },
   "outputs": [
    {
     "name": "stdout",
     "output_type": "stream",
     "text": [
      "Top 10 voted movies:\n",
      "\n"
     ]
    },
    {
     "data": {
      "text/html": [
       "<div>\n",
       "<style scoped>\n",
       "    .dataframe tbody tr th:only-of-type {\n",
       "        vertical-align: middle;\n",
       "    }\n",
       "\n",
       "    .dataframe tbody tr th {\n",
       "        vertical-align: top;\n",
       "    }\n",
       "\n",
       "    .dataframe thead th {\n",
       "        text-align: right;\n",
       "    }\n",
       "</style>\n",
       "<table border=\"1\" class=\"dataframe\">\n",
       "  <thead>\n",
       "    <tr style=\"text-align: right;\">\n",
       "      <th></th>\n",
       "      <th>Votes</th>\n",
       "      <th>id</th>\n",
       "    </tr>\n",
       "  </thead>\n",
       "  <tbody>\n",
       "    <tr>\n",
       "      <th>0</th>\n",
       "      <td>324</td>\n",
       "      <td>296</td>\n",
       "    </tr>\n",
       "    <tr>\n",
       "      <th>1</th>\n",
       "      <td>311</td>\n",
       "      <td>318</td>\n",
       "    </tr>\n",
       "    <tr>\n",
       "      <th>2</th>\n",
       "      <td>304</td>\n",
       "      <td>593</td>\n",
       "    </tr>\n",
       "    <tr>\n",
       "      <th>3</th>\n",
       "      <td>291</td>\n",
       "      <td>260</td>\n",
       "    </tr>\n",
       "    <tr>\n",
       "      <th>4</th>\n",
       "      <td>274</td>\n",
       "      <td>480</td>\n",
       "    </tr>\n",
       "    <tr>\n",
       "      <th>5</th>\n",
       "      <td>244</td>\n",
       "      <td>527</td>\n",
       "    </tr>\n",
       "    <tr>\n",
       "      <th>6</th>\n",
       "      <td>228</td>\n",
       "      <td>110</td>\n",
       "    </tr>\n",
       "    <tr>\n",
       "      <th>7</th>\n",
       "      <td>224</td>\n",
       "      <td>608</td>\n",
       "    </tr>\n",
       "    <tr>\n",
       "      <th>8</th>\n",
       "      <td>218</td>\n",
       "      <td>780</td>\n",
       "    </tr>\n",
       "    <tr>\n",
       "      <th>9</th>\n",
       "      <td>215</td>\n",
       "      <td>588</td>\n",
       "    </tr>\n",
       "  </tbody>\n",
       "</table>\n",
       "</div>"
      ],
      "text/plain": [
       "   Votes   id\n",
       "0    324  296\n",
       "1    311  318\n",
       "2    304  593\n",
       "3    291  260\n",
       "4    274  480\n",
       "5    244  527\n",
       "6    228  110\n",
       "7    224  608\n",
       "8    218  780\n",
       "9    215  588"
      ]
     },
     "execution_count": 42,
     "metadata": {},
     "output_type": "execute_result"
    }
   ],
   "source": [
    "print(\"Top 10 voted movies:\\n\")\n",
    "tmp = ratings_df.movieId.value_counts()[:10]\n",
    "pd.DataFrame({'Votes':tmp.values, 'id':tmp.index})"
   ]
  },
  {
   "cell_type": "markdown",
   "metadata": {
    "_uuid": "b0426623f1a030d7e59fb7127bdeacc844ca0f4e"
   },
   "source": [
    "Let's see what movies are those:"
   ]
  },
  {
   "cell_type": "code",
   "execution_count": 43,
   "metadata": {
    "_kg_hide-input": true,
    "_uuid": "38d3bbf1c4d94c88792b52d49bb95813b4ad4bdc"
   },
   "outputs": [
    {
     "data": {
      "text/html": [
       "<div>\n",
       "<style scoped>\n",
       "    .dataframe tbody tr th:only-of-type {\n",
       "        vertical-align: middle;\n",
       "    }\n",
       "\n",
       "    .dataframe tbody tr th {\n",
       "        vertical-align: top;\n",
       "    }\n",
       "\n",
       "    .dataframe thead th {\n",
       "        text-align: right;\n",
       "    }\n",
       "</style>\n",
       "<table border=\"1\" class=\"dataframe\">\n",
       "  <thead>\n",
       "    <tr style=\"text-align: right;\">\n",
       "      <th></th>\n",
       "      <th>Votes</th>\n",
       "      <th>id</th>\n",
       "      <th>adult</th>\n",
       "      <th>belongs_to_collection</th>\n",
       "      <th>budget</th>\n",
       "      <th>genres</th>\n",
       "      <th>homepage</th>\n",
       "      <th>imdb_id</th>\n",
       "      <th>original_language</th>\n",
       "      <th>original_title</th>\n",
       "      <th>overview</th>\n",
       "      <th>popularity</th>\n",
       "      <th>poster_path</th>\n",
       "      <th>production_companies</th>\n",
       "      <th>production_countries</th>\n",
       "      <th>release_date</th>\n",
       "      <th>revenue</th>\n",
       "      <th>runtime</th>\n",
       "      <th>spoken_languages</th>\n",
       "      <th>status</th>\n",
       "      <th>tagline</th>\n",
       "      <th>title</th>\n",
       "      <th>video</th>\n",
       "      <th>vote_average</th>\n",
       "      <th>vote_count</th>\n",
       "    </tr>\n",
       "  </thead>\n",
       "  <tbody>\n",
       "    <tr>\n",
       "      <th>0</th>\n",
       "      <td>324</td>\n",
       "      <td>296</td>\n",
       "      <td>False</td>\n",
       "      <td>{'id': 528, 'name': 'The Terminator Collection...</td>\n",
       "      <td>200000000</td>\n",
       "      <td>[Action, Thriller, Science Fiction]</td>\n",
       "      <td>NaN</td>\n",
       "      <td>tt0181852</td>\n",
       "      <td>en</td>\n",
       "      <td>Terminator 3: Rise of the Machines</td>\n",
       "      <td>It's been 10 years since John Connor saved Ear...</td>\n",
       "      <td>20.818907</td>\n",
       "      <td>/lz4xYdF1n09lyiCfZWtWT44SZiG.jpg</td>\n",
       "      <td>[{'name': 'Columbia Pictures', 'id': 5}, {'nam...</td>\n",
       "      <td>[{'iso_3166_1': 'DE', 'name': 'Germany'}, {'is...</td>\n",
       "      <td>2003-07-02</td>\n",
       "      <td>435000000.0</td>\n",
       "      <td>109.0</td>\n",
       "      <td>[{'iso_639_1': 'en', 'name': 'English'}]</td>\n",
       "      <td>Released</td>\n",
       "      <td>The Machines Will Rise.</td>\n",
       "      <td>Terminator 3: Rise of the Machines</td>\n",
       "      <td>False</td>\n",
       "      <td>5.9</td>\n",
       "      <td>2177.0</td>\n",
       "    </tr>\n",
       "    <tr>\n",
       "      <th>1</th>\n",
       "      <td>311</td>\n",
       "      <td>318</td>\n",
       "      <td>False</td>\n",
       "      <td>NaN</td>\n",
       "      <td>8000000</td>\n",
       "      <td>[Drama, Thriller]</td>\n",
       "      <td>NaN</td>\n",
       "      <td>tt0120753</td>\n",
       "      <td>en</td>\n",
       "      <td>The Million Dollar Hotel</td>\n",
       "      <td>The Million Dollar Hotel starts with a jump fr...</td>\n",
       "      <td>4.938231</td>\n",
       "      <td>/4wxOzpCjXY2RQgS3YoHuvKdItTF.jpg</td>\n",
       "      <td>[{'name': 'Kintop Pictures', 'id': 1490}]</td>\n",
       "      <td>[{'iso_3166_1': 'US', 'name': 'United States o...</td>\n",
       "      <td>2000-02-09</td>\n",
       "      <td>0.0</td>\n",
       "      <td>122.0</td>\n",
       "      <td>[{'iso_639_1': 'en', 'name': 'English'}]</td>\n",
       "      <td>Released</td>\n",
       "      <td>NaN</td>\n",
       "      <td>The Million Dollar Hotel</td>\n",
       "      <td>False</td>\n",
       "      <td>5.9</td>\n",
       "      <td>76.0</td>\n",
       "    </tr>\n",
       "    <tr>\n",
       "      <th>2</th>\n",
       "      <td>304</td>\n",
       "      <td>593</td>\n",
       "      <td>False</td>\n",
       "      <td>NaN</td>\n",
       "      <td>0</td>\n",
       "      <td>[Drama, Science Fiction, Adventure, Mystery]</td>\n",
       "      <td>NaN</td>\n",
       "      <td>tt0069293</td>\n",
       "      <td>ru</td>\n",
       "      <td>Солярис</td>\n",
       "      <td>Ground control has been receiving strange tran...</td>\n",
       "      <td>11.059785</td>\n",
       "      <td>/nsGLKlwEOtqatz8yRdxOlAw5utr.jpg</td>\n",
       "      <td>[{'name': 'Mosfilm', 'id': 5120}, {'name': 'Cr...</td>\n",
       "      <td>[{'iso_3166_1': 'RU', 'name': 'Russia'}]</td>\n",
       "      <td>1972-03-20</td>\n",
       "      <td>0.0</td>\n",
       "      <td>167.0</td>\n",
       "      <td>[{'iso_639_1': 'ru', 'name': 'Pусский'}]</td>\n",
       "      <td>Released</td>\n",
       "      <td>NaN</td>\n",
       "      <td>Solaris</td>\n",
       "      <td>False</td>\n",
       "      <td>7.7</td>\n",
       "      <td>364.0</td>\n",
       "    </tr>\n",
       "    <tr>\n",
       "      <th>3</th>\n",
       "      <td>291</td>\n",
       "      <td>260</td>\n",
       "      <td>False</td>\n",
       "      <td>NaN</td>\n",
       "      <td>0</td>\n",
       "      <td>[Action, Thriller, Mystery]</td>\n",
       "      <td>NaN</td>\n",
       "      <td>tt0026029</td>\n",
       "      <td>en</td>\n",
       "      <td>The 39 Steps</td>\n",
       "      <td>While on vacation in London, Canadian Richard ...</td>\n",
       "      <td>5.865697</td>\n",
       "      <td>/9v283GWj9a0AC8wwC4zriNqY1lZ.jpg</td>\n",
       "      <td>[{'name': 'Gaumont British Picture Corporation...</td>\n",
       "      <td>[{'iso_3166_1': 'GB', 'name': 'United Kingdom'}]</td>\n",
       "      <td>1935-06-01</td>\n",
       "      <td>0.0</td>\n",
       "      <td>86.0</td>\n",
       "      <td>[{'iso_639_1': 'en', 'name': 'English'}]</td>\n",
       "      <td>Released</td>\n",
       "      <td>Handcuffed to the girl who double-crossed him</td>\n",
       "      <td>The 39 Steps</td>\n",
       "      <td>False</td>\n",
       "      <td>7.4</td>\n",
       "      <td>217.0</td>\n",
       "    </tr>\n",
       "    <tr>\n",
       "      <th>4</th>\n",
       "      <td>274</td>\n",
       "      <td>480</td>\n",
       "      <td>False</td>\n",
       "      <td>NaN</td>\n",
       "      <td>0</td>\n",
       "      <td>[Comedy, Drama, Romance]</td>\n",
       "      <td>NaN</td>\n",
       "      <td>tt0265343</td>\n",
       "      <td>hi</td>\n",
       "      <td>Monsoon Wedding</td>\n",
       "      <td>From an exciting Indian wedding comes a relati...</td>\n",
       "      <td>10.625504</td>\n",
       "      <td>/2LysDwqhK0GlGtQqjPCiDeiBoqU.jpg</td>\n",
       "      <td>[{'name': 'IFC Films', 'id': 307}, {'name': 'M...</td>\n",
       "      <td>[{'iso_3166_1': 'IN', 'name': 'India'}]</td>\n",
       "      <td>2001-08-30</td>\n",
       "      <td>0.0</td>\n",
       "      <td>114.0</td>\n",
       "      <td>[{'iso_639_1': 'en', 'name': 'English'}, {'iso...</td>\n",
       "      <td>Released</td>\n",
       "      <td>A stressed father, a bride-to-be with a secret...</td>\n",
       "      <td>Monsoon Wedding</td>\n",
       "      <td>False</td>\n",
       "      <td>6.8</td>\n",
       "      <td>59.0</td>\n",
       "    </tr>\n",
       "    <tr>\n",
       "      <th>5</th>\n",
       "      <td>244</td>\n",
       "      <td>527</td>\n",
       "      <td>False</td>\n",
       "      <td>{'id': 300546, 'name': 'Once were Warriors Col...</td>\n",
       "      <td>0</td>\n",
       "      <td>[Drama]</td>\n",
       "      <td>NaN</td>\n",
       "      <td>tt0110729</td>\n",
       "      <td>en</td>\n",
       "      <td>Once Were Warriors</td>\n",
       "      <td>A drama about a Maori family lving in Auckland...</td>\n",
       "      <td>4.025276</td>\n",
       "      <td>/8QF48QS5lvtrhOclt22RFz3bSQm.jpg</td>\n",
       "      <td>[{'name': 'Avalon Studios', 'id': 293}, {'name...</td>\n",
       "      <td>[{'iso_3166_1': 'NZ', 'name': 'New Zealand'}]</td>\n",
       "      <td>1994-09-02</td>\n",
       "      <td>2201126.0</td>\n",
       "      <td>99.0</td>\n",
       "      <td>[{'iso_639_1': 'en', 'name': 'English'}, {'iso...</td>\n",
       "      <td>Released</td>\n",
       "      <td>A family in crisis, a life in chaos... Nothing...</td>\n",
       "      <td>Once Were Warriors</td>\n",
       "      <td>False</td>\n",
       "      <td>7.6</td>\n",
       "      <td>106.0</td>\n",
       "    </tr>\n",
       "    <tr>\n",
       "      <th>6</th>\n",
       "      <td>228</td>\n",
       "      <td>110</td>\n",
       "      <td>False</td>\n",
       "      <td>{'id': 131, 'name': 'Three Colors Collection',...</td>\n",
       "      <td>0</td>\n",
       "      <td>[Drama, Mystery, Romance]</td>\n",
       "      <td>NaN</td>\n",
       "      <td>tt0111495</td>\n",
       "      <td>fr</td>\n",
       "      <td>Trois couleurs : Rouge</td>\n",
       "      <td>Red This is the third film from the trilogy by...</td>\n",
       "      <td>7.832755</td>\n",
       "      <td>/77CFEssoKesi4zvtADEpIrSKhA3.jpg</td>\n",
       "      <td>[{'name': 'Zespół Filmowy TOR', 'id': 38}, {'n...</td>\n",
       "      <td>[{'iso_3166_1': 'FR', 'name': 'France'}, {'iso...</td>\n",
       "      <td>1994-05-27</td>\n",
       "      <td>0.0</td>\n",
       "      <td>99.0</td>\n",
       "      <td>[{'iso_639_1': 'fr', 'name': 'Français'}]</td>\n",
       "      <td>Released</td>\n",
       "      <td>NaN</td>\n",
       "      <td>Three Colors: Red</td>\n",
       "      <td>False</td>\n",
       "      <td>7.8</td>\n",
       "      <td>246.0</td>\n",
       "    </tr>\n",
       "    <tr>\n",
       "      <th>7</th>\n",
       "      <td>224</td>\n",
       "      <td>608</td>\n",
       "      <td>False</td>\n",
       "      <td>{'id': 86055, 'name': 'Men In Black Collection...</td>\n",
       "      <td>140000000</td>\n",
       "      <td>[Action, Adventure, Comedy, Science Fiction]</td>\n",
       "      <td>http://www.sonypictures.com/homevideo/meninbla...</td>\n",
       "      <td>tt0120912</td>\n",
       "      <td>en</td>\n",
       "      <td>Men in Black II</td>\n",
       "      <td>Kay and Jay reunite to provide our best, last ...</td>\n",
       "      <td>16.775716</td>\n",
       "      <td>/qWjRfBwr4VculczswwojXgoU0mq.jpg</td>\n",
       "      <td>[{'name': 'Columbia Pictures', 'id': 5}, {'nam...</td>\n",
       "      <td>[{'iso_3166_1': 'US', 'name': 'United States o...</td>\n",
       "      <td>2002-07-03</td>\n",
       "      <td>441818803.0</td>\n",
       "      <td>88.0</td>\n",
       "      <td>[{'iso_639_1': 'en', 'name': 'English'}]</td>\n",
       "      <td>Released</td>\n",
       "      <td>Same Planet. New Scum.</td>\n",
       "      <td>Men in Black II</td>\n",
       "      <td>False</td>\n",
       "      <td>6.1</td>\n",
       "      <td>3188.0</td>\n",
       "    </tr>\n",
       "    <tr>\n",
       "      <th>8</th>\n",
       "      <td>218</td>\n",
       "      <td>780</td>\n",
       "      <td>False</td>\n",
       "      <td>NaN</td>\n",
       "      <td>0</td>\n",
       "      <td>[Drama, History]</td>\n",
       "      <td>NaN</td>\n",
       "      <td>tt0019254</td>\n",
       "      <td>fr</td>\n",
       "      <td>La passion de Jeanne d'Arc</td>\n",
       "      <td>A classic of the silent age, this film tells t...</td>\n",
       "      <td>8.903953</td>\n",
       "      <td>/5HL0dEJfd7PF0eRiKz8BiNfe8Tf.jpg</td>\n",
       "      <td>[{'name': 'Société générale des films', 'id': ...</td>\n",
       "      <td>[{'iso_3166_1': 'FR', 'name': 'France'}]</td>\n",
       "      <td>1928-04-21</td>\n",
       "      <td>0.0</td>\n",
       "      <td>110.0</td>\n",
       "      <td>[{'iso_639_1': 'fr', 'name': 'Français'}]</td>\n",
       "      <td>Released</td>\n",
       "      <td>An Immortal Screen Classic that will live Fore...</td>\n",
       "      <td>The Passion of Joan of Arc</td>\n",
       "      <td>False</td>\n",
       "      <td>8.2</td>\n",
       "      <td>159.0</td>\n",
       "    </tr>\n",
       "    <tr>\n",
       "      <th>9</th>\n",
       "      <td>215</td>\n",
       "      <td>588</td>\n",
       "      <td>False</td>\n",
       "      <td>{'id': 64748, 'name': 'Silent Hill Collection'...</td>\n",
       "      <td>50000000</td>\n",
       "      <td>[Horror, Mystery]</td>\n",
       "      <td>http://www.sonypictures.com/homevideo/silenthill/</td>\n",
       "      <td>tt0384537</td>\n",
       "      <td>en</td>\n",
       "      <td>Silent Hill</td>\n",
       "      <td>The eerie and deserted ghost town of Silent Hi...</td>\n",
       "      <td>7.938457</td>\n",
       "      <td>/4Zz9cF8S4E7DITosNYh3spybYJb.jpg</td>\n",
       "      <td>[{'name': 'Silent Hill DCP Inc.', 'id': 341}, ...</td>\n",
       "      <td>[{'iso_3166_1': 'CA', 'name': 'Canada'}, {'iso...</td>\n",
       "      <td>2006-04-21</td>\n",
       "      <td>97607453.0</td>\n",
       "      <td>125.0</td>\n",
       "      <td>[{'iso_639_1': 'en', 'name': 'English'}]</td>\n",
       "      <td>Released</td>\n",
       "      <td>We've been expecting you.</td>\n",
       "      <td>Silent Hill</td>\n",
       "      <td>False</td>\n",
       "      <td>6.3</td>\n",
       "      <td>1093.0</td>\n",
       "    </tr>\n",
       "  </tbody>\n",
       "</table>\n",
       "</div>"
      ],
      "text/plain": [
       "   Votes   id  adult                              belongs_to_collection  \\\n",
       "0    324  296  False  {'id': 528, 'name': 'The Terminator Collection...   \n",
       "1    311  318  False                                                NaN   \n",
       "2    304  593  False                                                NaN   \n",
       "3    291  260  False                                                NaN   \n",
       "4    274  480  False                                                NaN   \n",
       "5    244  527  False  {'id': 300546, 'name': 'Once were Warriors Col...   \n",
       "6    228  110  False  {'id': 131, 'name': 'Three Colors Collection',...   \n",
       "7    224  608  False  {'id': 86055, 'name': 'Men In Black Collection...   \n",
       "8    218  780  False                                                NaN   \n",
       "9    215  588  False  {'id': 64748, 'name': 'Silent Hill Collection'...   \n",
       "\n",
       "      budget                                        genres  \\\n",
       "0  200000000           [Action, Thriller, Science Fiction]   \n",
       "1    8000000                             [Drama, Thriller]   \n",
       "2          0  [Drama, Science Fiction, Adventure, Mystery]   \n",
       "3          0                   [Action, Thriller, Mystery]   \n",
       "4          0                      [Comedy, Drama, Romance]   \n",
       "5          0                                       [Drama]   \n",
       "6          0                     [Drama, Mystery, Romance]   \n",
       "7  140000000  [Action, Adventure, Comedy, Science Fiction]   \n",
       "8          0                              [Drama, History]   \n",
       "9   50000000                             [Horror, Mystery]   \n",
       "\n",
       "                                            homepage    imdb_id  \\\n",
       "0                                                NaN  tt0181852   \n",
       "1                                                NaN  tt0120753   \n",
       "2                                                NaN  tt0069293   \n",
       "3                                                NaN  tt0026029   \n",
       "4                                                NaN  tt0265343   \n",
       "5                                                NaN  tt0110729   \n",
       "6                                                NaN  tt0111495   \n",
       "7  http://www.sonypictures.com/homevideo/meninbla...  tt0120912   \n",
       "8                                                NaN  tt0019254   \n",
       "9  http://www.sonypictures.com/homevideo/silenthill/  tt0384537   \n",
       "\n",
       "  original_language                      original_title  \\\n",
       "0                en  Terminator 3: Rise of the Machines   \n",
       "1                en            The Million Dollar Hotel   \n",
       "2                ru                             Солярис   \n",
       "3                en                        The 39 Steps   \n",
       "4                hi                     Monsoon Wedding   \n",
       "5                en                  Once Were Warriors   \n",
       "6                fr              Trois couleurs : Rouge   \n",
       "7                en                     Men in Black II   \n",
       "8                fr          La passion de Jeanne d'Arc   \n",
       "9                en                         Silent Hill   \n",
       "\n",
       "                                            overview popularity  \\\n",
       "0  It's been 10 years since John Connor saved Ear...  20.818907   \n",
       "1  The Million Dollar Hotel starts with a jump fr...   4.938231   \n",
       "2  Ground control has been receiving strange tran...  11.059785   \n",
       "3  While on vacation in London, Canadian Richard ...   5.865697   \n",
       "4  From an exciting Indian wedding comes a relati...  10.625504   \n",
       "5  A drama about a Maori family lving in Auckland...   4.025276   \n",
       "6  Red This is the third film from the trilogy by...   7.832755   \n",
       "7  Kay and Jay reunite to provide our best, last ...  16.775716   \n",
       "8  A classic of the silent age, this film tells t...   8.903953   \n",
       "9  The eerie and deserted ghost town of Silent Hi...   7.938457   \n",
       "\n",
       "                        poster_path  \\\n",
       "0  /lz4xYdF1n09lyiCfZWtWT44SZiG.jpg   \n",
       "1  /4wxOzpCjXY2RQgS3YoHuvKdItTF.jpg   \n",
       "2  /nsGLKlwEOtqatz8yRdxOlAw5utr.jpg   \n",
       "3  /9v283GWj9a0AC8wwC4zriNqY1lZ.jpg   \n",
       "4  /2LysDwqhK0GlGtQqjPCiDeiBoqU.jpg   \n",
       "5  /8QF48QS5lvtrhOclt22RFz3bSQm.jpg   \n",
       "6  /77CFEssoKesi4zvtADEpIrSKhA3.jpg   \n",
       "7  /qWjRfBwr4VculczswwojXgoU0mq.jpg   \n",
       "8  /5HL0dEJfd7PF0eRiKz8BiNfe8Tf.jpg   \n",
       "9  /4Zz9cF8S4E7DITosNYh3spybYJb.jpg   \n",
       "\n",
       "                                production_companies  \\\n",
       "0  [{'name': 'Columbia Pictures', 'id': 5}, {'nam...   \n",
       "1          [{'name': 'Kintop Pictures', 'id': 1490}]   \n",
       "2  [{'name': 'Mosfilm', 'id': 5120}, {'name': 'Cr...   \n",
       "3  [{'name': 'Gaumont British Picture Corporation...   \n",
       "4  [{'name': 'IFC Films', 'id': 307}, {'name': 'M...   \n",
       "5  [{'name': 'Avalon Studios', 'id': 293}, {'name...   \n",
       "6  [{'name': 'Zespół Filmowy TOR', 'id': 38}, {'n...   \n",
       "7  [{'name': 'Columbia Pictures', 'id': 5}, {'nam...   \n",
       "8  [{'name': 'Société générale des films', 'id': ...   \n",
       "9  [{'name': 'Silent Hill DCP Inc.', 'id': 341}, ...   \n",
       "\n",
       "                                production_countries release_date  \\\n",
       "0  [{'iso_3166_1': 'DE', 'name': 'Germany'}, {'is...   2003-07-02   \n",
       "1  [{'iso_3166_1': 'US', 'name': 'United States o...   2000-02-09   \n",
       "2           [{'iso_3166_1': 'RU', 'name': 'Russia'}]   1972-03-20   \n",
       "3   [{'iso_3166_1': 'GB', 'name': 'United Kingdom'}]   1935-06-01   \n",
       "4            [{'iso_3166_1': 'IN', 'name': 'India'}]   2001-08-30   \n",
       "5      [{'iso_3166_1': 'NZ', 'name': 'New Zealand'}]   1994-09-02   \n",
       "6  [{'iso_3166_1': 'FR', 'name': 'France'}, {'iso...   1994-05-27   \n",
       "7  [{'iso_3166_1': 'US', 'name': 'United States o...   2002-07-03   \n",
       "8           [{'iso_3166_1': 'FR', 'name': 'France'}]   1928-04-21   \n",
       "9  [{'iso_3166_1': 'CA', 'name': 'Canada'}, {'iso...   2006-04-21   \n",
       "\n",
       "       revenue  runtime                                   spoken_languages  \\\n",
       "0  435000000.0    109.0           [{'iso_639_1': 'en', 'name': 'English'}]   \n",
       "1          0.0    122.0           [{'iso_639_1': 'en', 'name': 'English'}]   \n",
       "2          0.0    167.0           [{'iso_639_1': 'ru', 'name': 'Pусский'}]   \n",
       "3          0.0     86.0           [{'iso_639_1': 'en', 'name': 'English'}]   \n",
       "4          0.0    114.0  [{'iso_639_1': 'en', 'name': 'English'}, {'iso...   \n",
       "5    2201126.0     99.0  [{'iso_639_1': 'en', 'name': 'English'}, {'iso...   \n",
       "6          0.0     99.0          [{'iso_639_1': 'fr', 'name': 'Français'}]   \n",
       "7  441818803.0     88.0           [{'iso_639_1': 'en', 'name': 'English'}]   \n",
       "8          0.0    110.0          [{'iso_639_1': 'fr', 'name': 'Français'}]   \n",
       "9   97607453.0    125.0           [{'iso_639_1': 'en', 'name': 'English'}]   \n",
       "\n",
       "     status                                            tagline  \\\n",
       "0  Released                            The Machines Will Rise.   \n",
       "1  Released                                                NaN   \n",
       "2  Released                                                NaN   \n",
       "3  Released      Handcuffed to the girl who double-crossed him   \n",
       "4  Released  A stressed father, a bride-to-be with a secret...   \n",
       "5  Released  A family in crisis, a life in chaos... Nothing...   \n",
       "6  Released                                                NaN   \n",
       "7  Released                             Same Planet. New Scum.   \n",
       "8  Released  An Immortal Screen Classic that will live Fore...   \n",
       "9  Released                          We've been expecting you.   \n",
       "\n",
       "                                title  video  vote_average  vote_count  \n",
       "0  Terminator 3: Rise of the Machines  False           5.9      2177.0  \n",
       "1            The Million Dollar Hotel  False           5.9        76.0  \n",
       "2                             Solaris  False           7.7       364.0  \n",
       "3                        The 39 Steps  False           7.4       217.0  \n",
       "4                     Monsoon Wedding  False           6.8        59.0  \n",
       "5                  Once Were Warriors  False           7.6       106.0  \n",
       "6                   Three Colors: Red  False           7.8       246.0  \n",
       "7                     Men in Black II  False           6.1      3188.0  \n",
       "8          The Passion of Joan of Arc  False           8.2       159.0  \n",
       "9                         Silent Hill  False           6.3      1093.0  "
      ]
     },
     "execution_count": 43,
     "metadata": {},
     "output_type": "execute_result"
    }
   ],
   "source": [
    "top_10 = pd.DataFrame({'Votes':tmp.values, 'id':tmp.index}).merge(movies_metadata_df)\n",
    "top_10"
   ]
  },
  {
   "cell_type": "markdown",
   "metadata": {
    "_uuid": "ab351cf8eaf458e039e2c697cabc94b743657267"
   },
   "source": [
    "Observation: now all the movies in the `ratings_df` are present also in `movies_metadata_df` dataset."
   ]
  },
  {
   "cell_type": "code",
   "execution_count": 44,
   "metadata": {
    "_kg_hide-input": true,
    "_uuid": "70a398d4b6c68fbacc18d6253e58b376334c67ef"
   },
   "outputs": [
    {
     "name": "stdout",
     "output_type": "stream",
     "text": [
      "There are 1 movies that were voted only once.\n"
     ]
    }
   ],
   "source": [
    "tmp = ratings_df.movieId.value_counts()\n",
    "df = pd.DataFrame({'Votes':tmp.values, 'Id':tmp.index})\n",
    "print(\"There are {} movies that were voted only once.\".format(df[df['Votes']==1].nunique().values[0]))"
   ]
  },
  {
   "cell_type": "code",
   "execution_count": 45,
   "metadata": {
    "_kg_hide-input": true,
    "_uuid": "efc3ac9417fa02d837476b9d4a05909250ffdb63"
   },
   "outputs": [
    {
     "name": "stdout",
     "output_type": "stream",
     "text": [
      "Movies with only '5': 86\n",
      "Movies with only '0.5':26\n"
     ]
    }
   ],
   "source": [
    "tmp = ratings_df.groupby(['movieId'])['rating'].mean().reset_index()\n",
    "tmp['rating'] = tmp['rating'].apply(lambda x: round(x,3))\n",
    "df_max = tmp[tmp['rating']==5]\n",
    "df_min = tmp[tmp['rating']==0.5]\n",
    "print(\"Movies with only '5': {}\\nMovies with only '0.5':{}\".format(df_max.shape[0], df_min.shape[0]))"
   ]
  },
  {
   "cell_type": "markdown",
   "metadata": {
    "_uuid": "ea4988ea4aeb344a904a7dfa81115257b166865e"
   },
   "source": [
    "**Note**: these values should be interpreted considering that we only use a 20% sample from the ratings_df total data."
   ]
  },
  {
   "cell_type": "code",
   "execution_count": 46,
   "metadata": {
    "_kg_hide-input": true,
    "_uuid": "69636425906503f6af7d8dded4b2cd2b89d0bde0"
   },
   "outputs": [
    {
     "name": "stdout",
     "output_type": "stream",
     "text": [
      "Average value of rating is 3.561.\n",
      "There are 1 movies that have their average score with the overall average score (approx. with 3 decimals).\n"
     ]
    }
   ],
   "source": [
    "mean_rating = round(ratings_df['rating'].mean(),3)\n",
    "print(\"Average value of rating is {}.\".format(mean_rating))\n",
    "print(\"There are {} movies that have their average score with the overall average score (approx. with 3 decimals).\".format(\\\n",
    "                            tmp[tmp['rating']==mean_rating]['movieId'].nunique()))"
   ]
  },
  {
   "cell_type": "markdown",
   "metadata": {
    "_uuid": "9b3f4754f388419d598759b6fe97dba4f8cb7c14"
   },
   "source": [
    "Let's check now genres distribution."
   ]
  },
  {
   "cell_type": "code",
   "execution_count": 47,
   "metadata": {
    "_kg_hide-input": true,
    "_uuid": "315b089c2852f7d6fd1ebb1224050d54a4abe71a"
   },
   "outputs": [
    {
     "data": {
      "image/png": "[encoded data removed]",
      "text/plain": [
       "<Figure size 720x720 with 1 Axes>"
      ]
     },
     "metadata": {},
     "output_type": "display_data"
    }
   ],
   "source": [
    "from wordcloud import WordCloud, STOPWORDS\n",
    "import matplotlib.pyplot as plt\n",
    "stopwords = set(STOPWORDS)\n",
    "\n",
    "def show_wordcloud(data, title = None):\n",
    "    wordcloud = WordCloud(\n",
    "        background_color='white',\n",
    "        stopwords=stopwords,\n",
    "        max_words=17,\n",
    "        max_font_size=40, \n",
    "        scale=5,\n",
    "        random_state=1\n",
    "    ).generate(str(data))\n",
    "\n",
    "    fig = plt.figure(1, figsize=(10,10))\n",
    "    plt.axis('off')\n",
    "    if title: \n",
    "        fig.suptitle(title, fontsize=20)\n",
    "        fig.subplots_adjust(top=2.3)\n",
    "\n",
    "    plt.imshow(wordcloud)\n",
    "    plt.show()\n",
    "\n",
    "show_wordcloud(movies_metadata_df['genres'], title = 'Movie Genres Prevalence in The Movie Dataset')"
   ]
  },
  {
   "cell_type": "markdown",
   "metadata": {
    "_uuid": "f921d07ff9b52e1b9408ee0b9cf6d5617716edec"
   },
   "source": [
    "<a href=\"#0\"><font size=\"1\">Go to top</font></a>\n",
    "\n",
    "\n",
    "# <a id=\"4\">Static rating model - top 10 movies</a>  \n",
    "\n",
    "Let's build now a baseline static rating model to create the top 10 movies.  \n",
    "\n",
    "We use the formulas borrowed from two Kernels:\n",
    "* https://www.kaggle.com/fabiendaniel/film-recommendation-engine    \n",
    "* https://www.kaggle.com/ibtesama/getting-started-with-a-movie-recommendation-system/data  \n",
    "\n",
    "\n",
    "We will use for this the **IMDB** weighted rating formula, as following:\n",
    "\n",
    "$$IMDB = {\\frac{v}{v+m}}{R} + {\\frac{m}{v+m}}{C} $$\n",
    "\n",
    "where:\n",
    "* **IMDB** is weighted rating;  \n",
    "* **v** is the number of votes for the movie;\n",
    "* **m** is the minimum votes required to be included in the calculation;\n",
    "* **R** is the average rating of the movie; \n",
    "* **C** is the mean vote across the whole set.\n",
    "\n",
    "Let's calculate these values. For `m`, we consider quantile 0.9."
   ]
  },
  {
   "cell_type": "code",
   "execution_count": 48,
   "metadata": {
    "_kg_hide-input": true,
    "_uuid": "afa619248345a92ed05c087cc8d24106728905b3"
   },
   "outputs": [],
   "source": [
    "tmp = ratings_df.groupby(['movieId'])['rating'].mean()\n",
    "R = pd.DataFrame({'id':tmp.index, 'R': tmp.values})\n",
    "tmp = ratings_df.groupby(['movieId'])['rating'].count()\n",
    "v = pd.DataFrame({'id':tmp.index, 'v': tmp.values})\n",
    "C = ratings_df['rating'].mean()"
   ]
  },
  {
   "cell_type": "code",
   "execution_count": 49,
   "metadata": {
    "_kg_hide-input": true,
    "_uuid": "ed0d8498d875f2d1f95996b4e553ffa11ddddef1"
   },
   "outputs": [],
   "source": [
    "m_df = movies_metadata_df.merge(R, on=['id'])\n",
    "m_df = m_df.merge(v, on=['id'])\n",
    "m_df['C'] = C\n",
    "m= m_df['v'].quantile(0.9)\n",
    "m_df['m'] = m"
   ]
  },
  {
   "cell_type": "code",
   "execution_count": 50,
   "metadata": {
    "_kg_hide-input": true,
    "_uuid": "7982c6ed4f24e178df82a4d2ebb84e2df10d3d6f"
   },
   "outputs": [
    {
     "data": {
      "text/html": [
       "<div>\n",
       "<style scoped>\n",
       "    .dataframe tbody tr th:only-of-type {\n",
       "        vertical-align: middle;\n",
       "    }\n",
       "\n",
       "    .dataframe tbody tr th {\n",
       "        vertical-align: top;\n",
       "    }\n",
       "\n",
       "    .dataframe thead th {\n",
       "        text-align: right;\n",
       "    }\n",
       "</style>\n",
       "<table border=\"1\" class=\"dataframe\">\n",
       "  <thead>\n",
       "    <tr style=\"text-align: right;\">\n",
       "      <th></th>\n",
       "      <th>adult</th>\n",
       "      <th>belongs_to_collection</th>\n",
       "      <th>budget</th>\n",
       "      <th>genres</th>\n",
       "      <th>homepage</th>\n",
       "      <th>id</th>\n",
       "      <th>imdb_id</th>\n",
       "      <th>original_language</th>\n",
       "      <th>original_title</th>\n",
       "      <th>overview</th>\n",
       "      <th>popularity</th>\n",
       "      <th>poster_path</th>\n",
       "      <th>production_companies</th>\n",
       "      <th>production_countries</th>\n",
       "      <th>release_date</th>\n",
       "      <th>revenue</th>\n",
       "      <th>runtime</th>\n",
       "      <th>spoken_languages</th>\n",
       "      <th>status</th>\n",
       "      <th>tagline</th>\n",
       "      <th>title</th>\n",
       "      <th>video</th>\n",
       "      <th>vote_average</th>\n",
       "      <th>vote_count</th>\n",
       "      <th>R</th>\n",
       "      <th>v</th>\n",
       "      <th>C</th>\n",
       "      <th>m</th>\n",
       "    </tr>\n",
       "  </thead>\n",
       "  <tbody>\n",
       "    <tr>\n",
       "      <th>0</th>\n",
       "      <td>False</td>\n",
       "      <td>NaN</td>\n",
       "      <td>60000000</td>\n",
       "      <td>[Action, Crime, Drama, Thriller]</td>\n",
       "      <td>NaN</td>\n",
       "      <td>949</td>\n",
       "      <td>tt0113277</td>\n",
       "      <td>en</td>\n",
       "      <td>Heat</td>\n",
       "      <td>Obsessive master thief, Neil McCauley leads a ...</td>\n",
       "      <td>17.924927</td>\n",
       "      <td>/zMyfPUelumio3tiDKPffaUpsQTD.jpg</td>\n",
       "      <td>[{'name': 'Regency Enterprises', 'id': 508}, {...</td>\n",
       "      <td>[{'iso_3166_1': 'US', 'name': 'United States o...</td>\n",
       "      <td>1995-12-15</td>\n",
       "      <td>187436818.0</td>\n",
       "      <td>170.0</td>\n",
       "      <td>[{'iso_639_1': 'en', 'name': 'English'}, {'iso...</td>\n",
       "      <td>Released</td>\n",
       "      <td>A Los Angeles Crime Saga</td>\n",
       "      <td>Heat</td>\n",
       "      <td>False</td>\n",
       "      <td>7.7</td>\n",
       "      <td>1886.0</td>\n",
       "      <td>3.593750</td>\n",
       "      <td>16</td>\n",
       "      <td>3.560986</td>\n",
       "      <td>44.0</td>\n",
       "    </tr>\n",
       "    <tr>\n",
       "      <th>1</th>\n",
       "      <td>False</td>\n",
       "      <td>{'id': 645, 'name': 'James Bond Collection', '...</td>\n",
       "      <td>58000000</td>\n",
       "      <td>[Adventure, Action, Thriller]</td>\n",
       "      <td>http://www.mgm.com/view/movie/757/Goldeneye/</td>\n",
       "      <td>710</td>\n",
       "      <td>tt0113189</td>\n",
       "      <td>en</td>\n",
       "      <td>GoldenEye</td>\n",
       "      <td>James Bond must unmask the mysterious head of ...</td>\n",
       "      <td>14.686036</td>\n",
       "      <td>/5c0ovjT41KnYIHYuF4AWsTe3sKh.jpg</td>\n",
       "      <td>[{'name': 'United Artists', 'id': 60}, {'name'...</td>\n",
       "      <td>[{'iso_3166_1': 'GB', 'name': 'United Kingdom'...</td>\n",
       "      <td>1995-11-16</td>\n",
       "      <td>352194034.0</td>\n",
       "      <td>130.0</td>\n",
       "      <td>[{'iso_639_1': 'en', 'name': 'English'}, {'iso...</td>\n",
       "      <td>Released</td>\n",
       "      <td>No limits. No fears. No substitutes.</td>\n",
       "      <td>GoldenEye</td>\n",
       "      <td>False</td>\n",
       "      <td>6.6</td>\n",
       "      <td>1194.0</td>\n",
       "      <td>1.500000</td>\n",
       "      <td>2</td>\n",
       "      <td>3.560986</td>\n",
       "      <td>44.0</td>\n",
       "    </tr>\n",
       "    <tr>\n",
       "      <th>2</th>\n",
       "      <td>False</td>\n",
       "      <td>NaN</td>\n",
       "      <td>98000000</td>\n",
       "      <td>[Action, Adventure]</td>\n",
       "      <td>NaN</td>\n",
       "      <td>1408</td>\n",
       "      <td>tt0112760</td>\n",
       "      <td>en</td>\n",
       "      <td>Cutthroat Island</td>\n",
       "      <td>Morgan Adams and her slave, William Shaw, are ...</td>\n",
       "      <td>7.284477</td>\n",
       "      <td>/odM9973kIv9hcjfHPp6g6BlyTIJ.jpg</td>\n",
       "      <td>[{'name': 'Le Studio Canal+', 'id': 183}, {'na...</td>\n",
       "      <td>[{'iso_3166_1': 'FR', 'name': 'France'}, {'iso...</td>\n",
       "      <td>1995-12-22</td>\n",
       "      <td>10017322.0</td>\n",
       "      <td>119.0</td>\n",
       "      <td>[{'iso_639_1': 'en', 'name': 'English'}, {'iso...</td>\n",
       "      <td>Released</td>\n",
       "      <td>The Course Has Been Set. There Is No Turning B...</td>\n",
       "      <td>Cutthroat Island</td>\n",
       "      <td>False</td>\n",
       "      <td>5.7</td>\n",
       "      <td>137.0</td>\n",
       "      <td>3.616279</td>\n",
       "      <td>43</td>\n",
       "      <td>3.560986</td>\n",
       "      <td>44.0</td>\n",
       "    </tr>\n",
       "    <tr>\n",
       "      <th>3</th>\n",
       "      <td>False</td>\n",
       "      <td>NaN</td>\n",
       "      <td>52000000</td>\n",
       "      <td>[Drama, Crime]</td>\n",
       "      <td>NaN</td>\n",
       "      <td>524</td>\n",
       "      <td>tt0112641</td>\n",
       "      <td>en</td>\n",
       "      <td>Casino</td>\n",
       "      <td>The life of the gambling paradise – Las Vegas ...</td>\n",
       "      <td>10.137389</td>\n",
       "      <td>/xo517ibXBDdYQY81j0WIG7BVcWq.jpg</td>\n",
       "      <td>[{'name': 'Universal Pictures', 'id': 33}, {'n...</td>\n",
       "      <td>[{'iso_3166_1': 'FR', 'name': 'France'}, {'iso...</td>\n",
       "      <td>1995-11-22</td>\n",
       "      <td>116112375.0</td>\n",
       "      <td>178.0</td>\n",
       "      <td>[{'iso_639_1': 'en', 'name': 'English'}]</td>\n",
       "      <td>Released</td>\n",
       "      <td>No one stays at the top forever.</td>\n",
       "      <td>Casino</td>\n",
       "      <td>False</td>\n",
       "      <td>7.8</td>\n",
       "      <td>1343.0</td>\n",
       "      <td>3.555556</td>\n",
       "      <td>36</td>\n",
       "      <td>3.560986</td>\n",
       "      <td>44.0</td>\n",
       "    </tr>\n",
       "    <tr>\n",
       "      <th>4</th>\n",
       "      <td>False</td>\n",
       "      <td>NaN</td>\n",
       "      <td>16500000</td>\n",
       "      <td>[Drama, Romance]</td>\n",
       "      <td>NaN</td>\n",
       "      <td>4584</td>\n",
       "      <td>tt0114388</td>\n",
       "      <td>en</td>\n",
       "      <td>Sense and Sensibility</td>\n",
       "      <td>Rich Mr. Dashwood dies, leaving his second wif...</td>\n",
       "      <td>10.673167</td>\n",
       "      <td>/lA9HTy84Bb6ZwNeyoZKobcMdpMc.jpg</td>\n",
       "      <td>[{'name': 'Columbia Pictures Corporation', 'id...</td>\n",
       "      <td>[{'iso_3166_1': 'GB', 'name': 'United Kingdom'...</td>\n",
       "      <td>1995-12-13</td>\n",
       "      <td>135000000.0</td>\n",
       "      <td>136.0</td>\n",
       "      <td>[{'iso_639_1': 'en', 'name': 'English'}]</td>\n",
       "      <td>Released</td>\n",
       "      <td>Lose your heart and come to your senses.</td>\n",
       "      <td>Sense and Sensibility</td>\n",
       "      <td>False</td>\n",
       "      <td>7.2</td>\n",
       "      <td>364.0</td>\n",
       "      <td>5.000000</td>\n",
       "      <td>1</td>\n",
       "      <td>3.560986</td>\n",
       "      <td>44.0</td>\n",
       "    </tr>\n",
       "  </tbody>\n",
       "</table>\n",
       "</div>"
      ],
      "text/plain": [
       "   adult                              belongs_to_collection    budget  \\\n",
       "0  False                                                NaN  60000000   \n",
       "1  False  {'id': 645, 'name': 'James Bond Collection', '...  58000000   \n",
       "2  False                                                NaN  98000000   \n",
       "3  False                                                NaN  52000000   \n",
       "4  False                                                NaN  16500000   \n",
       "\n",
       "                             genres  \\\n",
       "0  [Action, Crime, Drama, Thriller]   \n",
       "1     [Adventure, Action, Thriller]   \n",
       "2               [Action, Adventure]   \n",
       "3                    [Drama, Crime]   \n",
       "4                  [Drama, Romance]   \n",
       "\n",
       "                                       homepage    id    imdb_id  \\\n",
       "0                                           NaN   949  tt0113277   \n",
       "1  http://www.mgm.com/view/movie/757/Goldeneye/   710  tt0113189   \n",
       "2                                           NaN  1408  tt0112760   \n",
       "3                                           NaN   524  tt0112641   \n",
       "4                                           NaN  4584  tt0114388   \n",
       "\n",
       "  original_language         original_title  \\\n",
       "0                en                   Heat   \n",
       "1                en              GoldenEye   \n",
       "2                en       Cutthroat Island   \n",
       "3                en                 Casino   \n",
       "4                en  Sense and Sensibility   \n",
       "\n",
       "                                            overview popularity  \\\n",
       "0  Obsessive master thief, Neil McCauley leads a ...  17.924927   \n",
       "1  James Bond must unmask the mysterious head of ...  14.686036   \n",
       "2  Morgan Adams and her slave, William Shaw, are ...   7.284477   \n",
       "3  The life of the gambling paradise – Las Vegas ...  10.137389   \n",
       "4  Rich Mr. Dashwood dies, leaving his second wif...  10.673167   \n",
       "\n",
       "                        poster_path  \\\n",
       "0  /zMyfPUelumio3tiDKPffaUpsQTD.jpg   \n",
       "1  /5c0ovjT41KnYIHYuF4AWsTe3sKh.jpg   \n",
       "2  /odM9973kIv9hcjfHPp6g6BlyTIJ.jpg   \n",
       "3  /xo517ibXBDdYQY81j0WIG7BVcWq.jpg   \n",
       "4  /lA9HTy84Bb6ZwNeyoZKobcMdpMc.jpg   \n",
       "\n",
       "                                production_companies  \\\n",
       "0  [{'name': 'Regency Enterprises', 'id': 508}, {...   \n",
       "1  [{'name': 'United Artists', 'id': 60}, {'name'...   \n",
       "2  [{'name': 'Le Studio Canal+', 'id': 183}, {'na...   \n",
       "3  [{'name': 'Universal Pictures', 'id': 33}, {'n...   \n",
       "4  [{'name': 'Columbia Pictures Corporation', 'id...   \n",
       "\n",
       "                                production_countries release_date  \\\n",
       "0  [{'iso_3166_1': 'US', 'name': 'United States o...   1995-12-15   \n",
       "1  [{'iso_3166_1': 'GB', 'name': 'United Kingdom'...   1995-11-16   \n",
       "2  [{'iso_3166_1': 'FR', 'name': 'France'}, {'iso...   1995-12-22   \n",
       "3  [{'iso_3166_1': 'FR', 'name': 'France'}, {'iso...   1995-11-22   \n",
       "4  [{'iso_3166_1': 'GB', 'name': 'United Kingdom'...   1995-12-13   \n",
       "\n",
       "       revenue  runtime                                   spoken_languages  \\\n",
       "0  187436818.0    170.0  [{'iso_639_1': 'en', 'name': 'English'}, {'iso...   \n",
       "1  352194034.0    130.0  [{'iso_639_1': 'en', 'name': 'English'}, {'iso...   \n",
       "2   10017322.0    119.0  [{'iso_639_1': 'en', 'name': 'English'}, {'iso...   \n",
       "3  116112375.0    178.0           [{'iso_639_1': 'en', 'name': 'English'}]   \n",
       "4  135000000.0    136.0           [{'iso_639_1': 'en', 'name': 'English'}]   \n",
       "\n",
       "     status                                            tagline  \\\n",
       "0  Released                           A Los Angeles Crime Saga   \n",
       "1  Released               No limits. No fears. No substitutes.   \n",
       "2  Released  The Course Has Been Set. There Is No Turning B...   \n",
       "3  Released                   No one stays at the top forever.   \n",
       "4  Released           Lose your heart and come to your senses.   \n",
       "\n",
       "                   title  video  vote_average  vote_count         R   v  \\\n",
       "0                   Heat  False           7.7      1886.0  3.593750  16   \n",
       "1              GoldenEye  False           6.6      1194.0  1.500000   2   \n",
       "2       Cutthroat Island  False           5.7       137.0  3.616279  43   \n",
       "3                 Casino  False           7.8      1343.0  3.555556  36   \n",
       "4  Sense and Sensibility  False           7.2       364.0  5.000000   1   \n",
       "\n",
       "          C     m  \n",
       "0  3.560986  44.0  \n",
       "1  3.560986  44.0  \n",
       "2  3.560986  44.0  \n",
       "3  3.560986  44.0  \n",
       "4  3.560986  44.0  "
      ]
     },
     "execution_count": 50,
     "metadata": {},
     "output_type": "execute_result"
    }
   ],
   "source": [
    "m_df.head()"
   ]
  },
  {
   "cell_type": "code",
   "execution_count": 51,
   "metadata": {
    "_kg_hide-input": true,
    "_uuid": "bba3b619d84f180138092b3b27339e47014f73a1"
   },
   "outputs": [],
   "source": [
    "m_df['IMDB'] = (m_df['v'] / (m_df['v'] + m_df['m'])) * m_df['R'] + (m_df['m'] / (m_df['v'] + m_df['m'])) * m_df['C']"
   ]
  },
  {
   "cell_type": "markdown",
   "metadata": {
    "_uuid": "eaca737c3796e5ab2016ee0a255faac951779463"
   },
   "source": [
    "We can show now the top 10 movies according to the IMDB score."
   ]
  },
  {
   "cell_type": "code",
   "execution_count": 52,
   "metadata": {
    "_kg_hide-input": true,
    "_uuid": "6aa823335eac662f4284cbc63780a96b1458c80f"
   },
   "outputs": [
    {
     "data": {
      "text/html": [
       "<div>\n",
       "<style scoped>\n",
       "    .dataframe tbody tr th:only-of-type {\n",
       "        vertical-align: middle;\n",
       "    }\n",
       "\n",
       "    .dataframe tbody tr th {\n",
       "        vertical-align: top;\n",
       "    }\n",
       "\n",
       "    .dataframe thead th {\n",
       "        text-align: right;\n",
       "    }\n",
       "</style>\n",
       "<table border=\"1\" class=\"dataframe\">\n",
       "  <thead>\n",
       "    <tr style=\"text-align: right;\">\n",
       "      <th></th>\n",
       "      <th>adult</th>\n",
       "      <th>belongs_to_collection</th>\n",
       "      <th>budget</th>\n",
       "      <th>genres</th>\n",
       "      <th>homepage</th>\n",
       "      <th>id</th>\n",
       "      <th>imdb_id</th>\n",
       "      <th>original_language</th>\n",
       "      <th>original_title</th>\n",
       "      <th>overview</th>\n",
       "      <th>popularity</th>\n",
       "      <th>poster_path</th>\n",
       "      <th>production_companies</th>\n",
       "      <th>production_countries</th>\n",
       "      <th>release_date</th>\n",
       "      <th>revenue</th>\n",
       "      <th>runtime</th>\n",
       "      <th>spoken_languages</th>\n",
       "      <th>status</th>\n",
       "      <th>tagline</th>\n",
       "      <th>title</th>\n",
       "      <th>video</th>\n",
       "      <th>vote_average</th>\n",
       "      <th>vote_count</th>\n",
       "      <th>R</th>\n",
       "      <th>v</th>\n",
       "      <th>C</th>\n",
       "      <th>m</th>\n",
       "      <th>IMDB</th>\n",
       "    </tr>\n",
       "  </thead>\n",
       "  <tbody>\n",
       "    <tr>\n",
       "      <th>747</th>\n",
       "      <td>False</td>\n",
       "      <td>NaN</td>\n",
       "      <td>8000000</td>\n",
       "      <td>[Drama, Thriller]</td>\n",
       "      <td>NaN</td>\n",
       "      <td>318</td>\n",
       "      <td>tt0120753</td>\n",
       "      <td>en</td>\n",
       "      <td>The Million Dollar Hotel</td>\n",
       "      <td>The Million Dollar Hotel starts with a jump fr...</td>\n",
       "      <td>4.938231</td>\n",
       "      <td>/4wxOzpCjXY2RQgS3YoHuvKdItTF.jpg</td>\n",
       "      <td>[{'name': 'Kintop Pictures', 'id': 1490}]</td>\n",
       "      <td>[{'iso_3166_1': 'US', 'name': 'United States o...</td>\n",
       "      <td>2000-02-09</td>\n",
       "      <td>0.0</td>\n",
       "      <td>122.0</td>\n",
       "      <td>[{'iso_639_1': 'en', 'name': 'English'}]</td>\n",
       "      <td>Released</td>\n",
       "      <td>NaN</td>\n",
       "      <td>The Million Dollar Hotel</td>\n",
       "      <td>False</td>\n",
       "      <td>5.9</td>\n",
       "      <td>76.0</td>\n",
       "      <td>4.487138</td>\n",
       "      <td>311</td>\n",
       "      <td>3.560986</td>\n",
       "      <td>44.0</td>\n",
       "      <td>4.372348</td>\n",
       "    </tr>\n",
       "    <tr>\n",
       "      <th>102</th>\n",
       "      <td>False</td>\n",
       "      <td>NaN</td>\n",
       "      <td>21000000</td>\n",
       "      <td>[Comedy, Drama, Romance]</td>\n",
       "      <td>NaN</td>\n",
       "      <td>858</td>\n",
       "      <td>tt0108160</td>\n",
       "      <td>en</td>\n",
       "      <td>Sleepless in Seattle</td>\n",
       "      <td>A young boy who tries to set his dad up on a d...</td>\n",
       "      <td>10.234919</td>\n",
       "      <td>/afkYP15OeUOD0tFEmj6VvejuOcz.jpg</td>\n",
       "      <td>[{'name': 'TriStar Pictures', 'id': 559}]</td>\n",
       "      <td>[{'iso_3166_1': 'US', 'name': 'United States o...</td>\n",
       "      <td>1993-06-24</td>\n",
       "      <td>227799884.0</td>\n",
       "      <td>105.0</td>\n",
       "      <td>[{'iso_639_1': 'en', 'name': 'English'}]</td>\n",
       "      <td>Released</td>\n",
       "      <td>What if someone you never met, someone you nev...</td>\n",
       "      <td>Sleepless in Seattle</td>\n",
       "      <td>False</td>\n",
       "      <td>6.5</td>\n",
       "      <td>630.0</td>\n",
       "      <td>4.487500</td>\n",
       "      <td>200</td>\n",
       "      <td>3.560986</td>\n",
       "      <td>44.0</td>\n",
       "      <td>4.320424</td>\n",
       "    </tr>\n",
       "    <tr>\n",
       "      <th>48</th>\n",
       "      <td>False</td>\n",
       "      <td>{'id': 300546, 'name': 'Once were Warriors Col...</td>\n",
       "      <td>0</td>\n",
       "      <td>[Drama]</td>\n",
       "      <td>NaN</td>\n",
       "      <td>527</td>\n",
       "      <td>tt0110729</td>\n",
       "      <td>en</td>\n",
       "      <td>Once Were Warriors</td>\n",
       "      <td>A drama about a Maori family lving in Auckland...</td>\n",
       "      <td>4.025276</td>\n",
       "      <td>/8QF48QS5lvtrhOclt22RFz3bSQm.jpg</td>\n",
       "      <td>[{'name': 'Avalon Studios', 'id': 293}, {'name...</td>\n",
       "      <td>[{'iso_3166_1': 'NZ', 'name': 'New Zealand'}]</td>\n",
       "      <td>1994-09-02</td>\n",
       "      <td>2201126.0</td>\n",
       "      <td>99.0</td>\n",
       "      <td>[{'iso_639_1': 'en', 'name': 'English'}, {'iso...</td>\n",
       "      <td>Released</td>\n",
       "      <td>A family in crisis, a life in chaos... Nothing...</td>\n",
       "      <td>Once Were Warriors</td>\n",
       "      <td>False</td>\n",
       "      <td>7.6</td>\n",
       "      <td>106.0</td>\n",
       "      <td>4.303279</td>\n",
       "      <td>244</td>\n",
       "      <td>3.560986</td>\n",
       "      <td>44.0</td>\n",
       "      <td>4.189873</td>\n",
       "    </tr>\n",
       "    <tr>\n",
       "      <th>1042</th>\n",
       "      <td>False</td>\n",
       "      <td>{'id': 528, 'name': 'The Terminator Collection...</td>\n",
       "      <td>200000000</td>\n",
       "      <td>[Action, Thriller, Science Fiction]</td>\n",
       "      <td>NaN</td>\n",
       "      <td>296</td>\n",
       "      <td>tt0181852</td>\n",
       "      <td>en</td>\n",
       "      <td>Terminator 3: Rise of the Machines</td>\n",
       "      <td>It's been 10 years since John Connor saved Ear...</td>\n",
       "      <td>20.818907</td>\n",
       "      <td>/lz4xYdF1n09lyiCfZWtWT44SZiG.jpg</td>\n",
       "      <td>[{'name': 'Columbia Pictures', 'id': 5}, {'nam...</td>\n",
       "      <td>[{'iso_3166_1': 'DE', 'name': 'Germany'}, {'is...</td>\n",
       "      <td>2003-07-02</td>\n",
       "      <td>435000000.0</td>\n",
       "      <td>109.0</td>\n",
       "      <td>[{'iso_639_1': 'en', 'name': 'English'}]</td>\n",
       "      <td>Released</td>\n",
       "      <td>The Machines Will Rise.</td>\n",
       "      <td>Terminator 3: Rise of the Machines</td>\n",
       "      <td>False</td>\n",
       "      <td>5.9</td>\n",
       "      <td>2177.0</td>\n",
       "      <td>4.256173</td>\n",
       "      <td>324</td>\n",
       "      <td>3.560986</td>\n",
       "      <td>44.0</td>\n",
       "      <td>4.173053</td>\n",
       "    </tr>\n",
       "    <tr>\n",
       "      <th>929</th>\n",
       "      <td>False</td>\n",
       "      <td>{'id': 86055, 'name': 'Men In Black Collection...</td>\n",
       "      <td>140000000</td>\n",
       "      <td>[Action, Adventure, Comedy, Science Fiction]</td>\n",
       "      <td>http://www.sonypictures.com/homevideo/meninbla...</td>\n",
       "      <td>608</td>\n",
       "      <td>tt0120912</td>\n",
       "      <td>en</td>\n",
       "      <td>Men in Black II</td>\n",
       "      <td>Kay and Jay reunite to provide our best, last ...</td>\n",
       "      <td>16.775716</td>\n",
       "      <td>/qWjRfBwr4VculczswwojXgoU0mq.jpg</td>\n",
       "      <td>[{'name': 'Columbia Pictures', 'id': 5}, {'nam...</td>\n",
       "      <td>[{'iso_3166_1': 'US', 'name': 'United States o...</td>\n",
       "      <td>2002-07-03</td>\n",
       "      <td>441818803.0</td>\n",
       "      <td>88.0</td>\n",
       "      <td>[{'iso_639_1': 'en', 'name': 'English'}]</td>\n",
       "      <td>Released</td>\n",
       "      <td>Same Planet. New Scum.</td>\n",
       "      <td>Men in Black II</td>\n",
       "      <td>False</td>\n",
       "      <td>6.1</td>\n",
       "      <td>3188.0</td>\n",
       "      <td>4.256696</td>\n",
       "      <td>224</td>\n",
       "      <td>3.560986</td>\n",
       "      <td>44.0</td>\n",
       "      <td>4.142475</td>\n",
       "    </tr>\n",
       "    <tr>\n",
       "      <th>174</th>\n",
       "      <td>False</td>\n",
       "      <td>NaN</td>\n",
       "      <td>0</td>\n",
       "      <td>[Action, Thriller, Mystery]</td>\n",
       "      <td>NaN</td>\n",
       "      <td>260</td>\n",
       "      <td>tt0026029</td>\n",
       "      <td>en</td>\n",
       "      <td>The 39 Steps</td>\n",
       "      <td>While on vacation in London, Canadian Richard ...</td>\n",
       "      <td>5.865697</td>\n",
       "      <td>/9v283GWj9a0AC8wwC4zriNqY1lZ.jpg</td>\n",
       "      <td>[{'name': 'Gaumont British Picture Corporation...</td>\n",
       "      <td>[{'iso_3166_1': 'GB', 'name': 'United Kingdom'}]</td>\n",
       "      <td>1935-06-01</td>\n",
       "      <td>0.0</td>\n",
       "      <td>86.0</td>\n",
       "      <td>[{'iso_639_1': 'en', 'name': 'English'}]</td>\n",
       "      <td>Released</td>\n",
       "      <td>Handcuffed to the girl who double-crossed him</td>\n",
       "      <td>The 39 Steps</td>\n",
       "      <td>False</td>\n",
       "      <td>7.4</td>\n",
       "      <td>217.0</td>\n",
       "      <td>4.221649</td>\n",
       "      <td>291</td>\n",
       "      <td>3.560986</td>\n",
       "      <td>44.0</td>\n",
       "      <td>4.134876</td>\n",
       "    </tr>\n",
       "    <tr>\n",
       "      <th>925</th>\n",
       "      <td>False</td>\n",
       "      <td>NaN</td>\n",
       "      <td>0</td>\n",
       "      <td>[Action, Western, Thriller]</td>\n",
       "      <td>NaN</td>\n",
       "      <td>4993</td>\n",
       "      <td>tt0062626</td>\n",
       "      <td>en</td>\n",
       "      <td>5 Card Stud</td>\n",
       "      <td>The players in an ongoing poker game are being...</td>\n",
       "      <td>1.372254</td>\n",
       "      <td>/gev2WX8alGl0f7Ql0JZfeOY8uDg.jpg</td>\n",
       "      <td>[{'name': 'Paramount Pictures', 'id': 4}]</td>\n",
       "      <td>[{'iso_3166_1': 'US', 'name': 'United States o...</td>\n",
       "      <td>1968-07-28</td>\n",
       "      <td>0.0</td>\n",
       "      <td>103.0</td>\n",
       "      <td>[{'iso_639_1': 'en', 'name': 'English'}, {'iso...</td>\n",
       "      <td>Released</td>\n",
       "      <td>A card cheat was hung... then all hell broke l...</td>\n",
       "      <td>5 Card Stud</td>\n",
       "      <td>False</td>\n",
       "      <td>6.0</td>\n",
       "      <td>20.0</td>\n",
       "      <td>4.182500</td>\n",
       "      <td>200</td>\n",
       "      <td>3.560986</td>\n",
       "      <td>44.0</td>\n",
       "      <td>4.070424</td>\n",
       "    </tr>\n",
       "    <tr>\n",
       "      <th>1804</th>\n",
       "      <td>False</td>\n",
       "      <td>NaN</td>\n",
       "      <td>35000000</td>\n",
       "      <td>[Comedy]</td>\n",
       "      <td>http://licensetowedthemovie.warnerbros.com/</td>\n",
       "      <td>2959</td>\n",
       "      <td>tt0762114</td>\n",
       "      <td>en</td>\n",
       "      <td>License to Wed</td>\n",
       "      <td>Newly engaged, Ben and Sadie can't wait to sta...</td>\n",
       "      <td>7.102076</td>\n",
       "      <td>/9I8NiY5cfFmwgI8Y5NKQqsuDawS.jpg</td>\n",
       "      <td>[{'name': 'Village Roadshow Pictures', 'id': 7...</td>\n",
       "      <td>[{'iso_3166_1': 'AU', 'name': 'Australia'}, {'...</td>\n",
       "      <td>2007-07-04</td>\n",
       "      <td>69307224.0</td>\n",
       "      <td>91.0</td>\n",
       "      <td>[{'iso_639_1': 'en', 'name': 'English'}]</td>\n",
       "      <td>Released</td>\n",
       "      <td>First came love... then came Reverend Frank.</td>\n",
       "      <td>License to Wed</td>\n",
       "      <td>False</td>\n",
       "      <td>5.3</td>\n",
       "      <td>258.0</td>\n",
       "      <td>4.178218</td>\n",
       "      <td>202</td>\n",
       "      <td>3.560986</td>\n",
       "      <td>44.0</td>\n",
       "      <td>4.067819</td>\n",
       "    </tr>\n",
       "    <tr>\n",
       "      <th>650</th>\n",
       "      <td>False</td>\n",
       "      <td>NaN</td>\n",
       "      <td>0</td>\n",
       "      <td>[Drama, Science Fiction, Adventure, Mystery]</td>\n",
       "      <td>NaN</td>\n",
       "      <td>593</td>\n",
       "      <td>tt0069293</td>\n",
       "      <td>ru</td>\n",
       "      <td>Солярис</td>\n",
       "      <td>Ground control has been receiving strange tran...</td>\n",
       "      <td>11.059785</td>\n",
       "      <td>/nsGLKlwEOtqatz8yRdxOlAw5utr.jpg</td>\n",
       "      <td>[{'name': 'Mosfilm', 'id': 5120}, {'name': 'Cr...</td>\n",
       "      <td>[{'iso_3166_1': 'RU', 'name': 'Russia'}]</td>\n",
       "      <td>1972-03-20</td>\n",
       "      <td>0.0</td>\n",
       "      <td>167.0</td>\n",
       "      <td>[{'iso_639_1': 'ru', 'name': 'Pусский'}]</td>\n",
       "      <td>Released</td>\n",
       "      <td>NaN</td>\n",
       "      <td>Solaris</td>\n",
       "      <td>False</td>\n",
       "      <td>7.7</td>\n",
       "      <td>364.0</td>\n",
       "      <td>4.138158</td>\n",
       "      <td>304</td>\n",
       "      <td>3.560986</td>\n",
       "      <td>44.0</td>\n",
       "      <td>4.065182</td>\n",
       "    </tr>\n",
       "    <tr>\n",
       "      <th>2400</th>\n",
       "      <td>False</td>\n",
       "      <td>NaN</td>\n",
       "      <td>5000000</td>\n",
       "      <td>[Comedy]</td>\n",
       "      <td>NaN</td>\n",
       "      <td>4226</td>\n",
       "      <td>tt0212235</td>\n",
       "      <td>en</td>\n",
       "      <td>Shriek If You Know What I Did Last Friday the ...</td>\n",
       "      <td>Another spoof of the Scream/I Know What You Di...</td>\n",
       "      <td>3.956594</td>\n",
       "      <td>/gFumrraJh51KdkymMQLlPsE5zbj.jpg</td>\n",
       "      <td>[{'name': 'Endless Entertainment', 'id': 1590}...</td>\n",
       "      <td>[{'iso_3166_1': 'US', 'name': 'United States o...</td>\n",
       "      <td>2000-10-17</td>\n",
       "      <td>0.0</td>\n",
       "      <td>86.0</td>\n",
       "      <td>[{'iso_639_1': 'en', 'name': 'English'}]</td>\n",
       "      <td>Released</td>\n",
       "      <td>NaN</td>\n",
       "      <td>Shriek If You Know What I Did Last Friday the ...</td>\n",
       "      <td>False</td>\n",
       "      <td>4.8</td>\n",
       "      <td>70.0</td>\n",
       "      <td>4.227273</td>\n",
       "      <td>132</td>\n",
       "      <td>3.560986</td>\n",
       "      <td>44.0</td>\n",
       "      <td>4.060701</td>\n",
       "    </tr>\n",
       "  </tbody>\n",
       "</table>\n",
       "</div>"
      ],
      "text/plain": [
       "      adult                              belongs_to_collection     budget  \\\n",
       "747   False                                                NaN    8000000   \n",
       "102   False                                                NaN   21000000   \n",
       "48    False  {'id': 300546, 'name': 'Once were Warriors Col...          0   \n",
       "1042  False  {'id': 528, 'name': 'The Terminator Collection...  200000000   \n",
       "929   False  {'id': 86055, 'name': 'Men In Black Collection...  140000000   \n",
       "174   False                                                NaN          0   \n",
       "925   False                                                NaN          0   \n",
       "1804  False                                                NaN   35000000   \n",
       "650   False                                                NaN          0   \n",
       "2400  False                                                NaN    5000000   \n",
       "\n",
       "                                            genres  \\\n",
       "747                              [Drama, Thriller]   \n",
       "102                       [Comedy, Drama, Romance]   \n",
       "48                                         [Drama]   \n",
       "1042           [Action, Thriller, Science Fiction]   \n",
       "929   [Action, Adventure, Comedy, Science Fiction]   \n",
       "174                    [Action, Thriller, Mystery]   \n",
       "925                    [Action, Western, Thriller]   \n",
       "1804                                      [Comedy]   \n",
       "650   [Drama, Science Fiction, Adventure, Mystery]   \n",
       "2400                                      [Comedy]   \n",
       "\n",
       "                                               homepage    id    imdb_id  \\\n",
       "747                                                 NaN   318  tt0120753   \n",
       "102                                                 NaN   858  tt0108160   \n",
       "48                                                  NaN   527  tt0110729   \n",
       "1042                                                NaN   296  tt0181852   \n",
       "929   http://www.sonypictures.com/homevideo/meninbla...   608  tt0120912   \n",
       "174                                                 NaN   260  tt0026029   \n",
       "925                                                 NaN  4993  tt0062626   \n",
       "1804        http://licensetowedthemovie.warnerbros.com/  2959  tt0762114   \n",
       "650                                                 NaN   593  tt0069293   \n",
       "2400                                                NaN  4226  tt0212235   \n",
       "\n",
       "     original_language                                     original_title  \\\n",
       "747                 en                           The Million Dollar Hotel   \n",
       "102                 en                               Sleepless in Seattle   \n",
       "48                  en                                 Once Were Warriors   \n",
       "1042                en                 Terminator 3: Rise of the Machines   \n",
       "929                 en                                    Men in Black II   \n",
       "174                 en                                       The 39 Steps   \n",
       "925                 en                                        5 Card Stud   \n",
       "1804                en                                     License to Wed   \n",
       "650                 ru                                            Солярис   \n",
       "2400                en  Shriek If You Know What I Did Last Friday the ...   \n",
       "\n",
       "                                               overview popularity  \\\n",
       "747   The Million Dollar Hotel starts with a jump fr...   4.938231   \n",
       "102   A young boy who tries to set his dad up on a d...  10.234919   \n",
       "48    A drama about a Maori family lving in Auckland...   4.025276   \n",
       "1042  It's been 10 years since John Connor saved Ear...  20.818907   \n",
       "929   Kay and Jay reunite to provide our best, last ...  16.775716   \n",
       "174   While on vacation in London, Canadian Richard ...   5.865697   \n",
       "925   The players in an ongoing poker game are being...   1.372254   \n",
       "1804  Newly engaged, Ben and Sadie can't wait to sta...   7.102076   \n",
       "650   Ground control has been receiving strange tran...  11.059785   \n",
       "2400  Another spoof of the Scream/I Know What You Di...   3.956594   \n",
       "\n",
       "                           poster_path  \\\n",
       "747   /4wxOzpCjXY2RQgS3YoHuvKdItTF.jpg   \n",
       "102   /afkYP15OeUOD0tFEmj6VvejuOcz.jpg   \n",
       "48    /8QF48QS5lvtrhOclt22RFz3bSQm.jpg   \n",
       "1042  /lz4xYdF1n09lyiCfZWtWT44SZiG.jpg   \n",
       "929   /qWjRfBwr4VculczswwojXgoU0mq.jpg   \n",
       "174   /9v283GWj9a0AC8wwC4zriNqY1lZ.jpg   \n",
       "925   /gev2WX8alGl0f7Ql0JZfeOY8uDg.jpg   \n",
       "1804  /9I8NiY5cfFmwgI8Y5NKQqsuDawS.jpg   \n",
       "650   /nsGLKlwEOtqatz8yRdxOlAw5utr.jpg   \n",
       "2400  /gFumrraJh51KdkymMQLlPsE5zbj.jpg   \n",
       "\n",
       "                                   production_companies  \\\n",
       "747           [{'name': 'Kintop Pictures', 'id': 1490}]   \n",
       "102           [{'name': 'TriStar Pictures', 'id': 559}]   \n",
       "48    [{'name': 'Avalon Studios', 'id': 293}, {'name...   \n",
       "1042  [{'name': 'Columbia Pictures', 'id': 5}, {'nam...   \n",
       "929   [{'name': 'Columbia Pictures', 'id': 5}, {'nam...   \n",
       "174   [{'name': 'Gaumont British Picture Corporation...   \n",
       "925           [{'name': 'Paramount Pictures', 'id': 4}]   \n",
       "1804  [{'name': 'Village Roadshow Pictures', 'id': 7...   \n",
       "650   [{'name': 'Mosfilm', 'id': 5120}, {'name': 'Cr...   \n",
       "2400  [{'name': 'Endless Entertainment', 'id': 1590}...   \n",
       "\n",
       "                                   production_countries release_date  \\\n",
       "747   [{'iso_3166_1': 'US', 'name': 'United States o...   2000-02-09   \n",
       "102   [{'iso_3166_1': 'US', 'name': 'United States o...   1993-06-24   \n",
       "48        [{'iso_3166_1': 'NZ', 'name': 'New Zealand'}]   1994-09-02   \n",
       "1042  [{'iso_3166_1': 'DE', 'name': 'Germany'}, {'is...   2003-07-02   \n",
       "929   [{'iso_3166_1': 'US', 'name': 'United States o...   2002-07-03   \n",
       "174    [{'iso_3166_1': 'GB', 'name': 'United Kingdom'}]   1935-06-01   \n",
       "925   [{'iso_3166_1': 'US', 'name': 'United States o...   1968-07-28   \n",
       "1804  [{'iso_3166_1': 'AU', 'name': 'Australia'}, {'...   2007-07-04   \n",
       "650            [{'iso_3166_1': 'RU', 'name': 'Russia'}]   1972-03-20   \n",
       "2400  [{'iso_3166_1': 'US', 'name': 'United States o...   2000-10-17   \n",
       "\n",
       "          revenue  runtime                                   spoken_languages  \\\n",
       "747           0.0    122.0           [{'iso_639_1': 'en', 'name': 'English'}]   \n",
       "102   227799884.0    105.0           [{'iso_639_1': 'en', 'name': 'English'}]   \n",
       "48      2201126.0     99.0  [{'iso_639_1': 'en', 'name': 'English'}, {'iso...   \n",
       "1042  435000000.0    109.0           [{'iso_639_1': 'en', 'name': 'English'}]   \n",
       "929   441818803.0     88.0           [{'iso_639_1': 'en', 'name': 'English'}]   \n",
       "174           0.0     86.0           [{'iso_639_1': 'en', 'name': 'English'}]   \n",
       "925           0.0    103.0  [{'iso_639_1': 'en', 'name': 'English'}, {'iso...   \n",
       "1804   69307224.0     91.0           [{'iso_639_1': 'en', 'name': 'English'}]   \n",
       "650           0.0    167.0           [{'iso_639_1': 'ru', 'name': 'Pусский'}]   \n",
       "2400          0.0     86.0           [{'iso_639_1': 'en', 'name': 'English'}]   \n",
       "\n",
       "        status                                            tagline  \\\n",
       "747   Released                                                NaN   \n",
       "102   Released  What if someone you never met, someone you nev...   \n",
       "48    Released  A family in crisis, a life in chaos... Nothing...   \n",
       "1042  Released                            The Machines Will Rise.   \n",
       "929   Released                             Same Planet. New Scum.   \n",
       "174   Released      Handcuffed to the girl who double-crossed him   \n",
       "925   Released  A card cheat was hung... then all hell broke l...   \n",
       "1804  Released       First came love... then came Reverend Frank.   \n",
       "650   Released                                                NaN   \n",
       "2400  Released                                                NaN   \n",
       "\n",
       "                                                  title  video  vote_average  \\\n",
       "747                            The Million Dollar Hotel  False           5.9   \n",
       "102                                Sleepless in Seattle  False           6.5   \n",
       "48                                   Once Were Warriors  False           7.6   \n",
       "1042                 Terminator 3: Rise of the Machines  False           5.9   \n",
       "929                                     Men in Black II  False           6.1   \n",
       "174                                        The 39 Steps  False           7.4   \n",
       "925                                         5 Card Stud  False           6.0   \n",
       "1804                                     License to Wed  False           5.3   \n",
       "650                                             Solaris  False           7.7   \n",
       "2400  Shriek If You Know What I Did Last Friday the ...  False           4.8   \n",
       "\n",
       "      vote_count         R    v         C     m      IMDB  \n",
       "747         76.0  4.487138  311  3.560986  44.0  4.372348  \n",
       "102        630.0  4.487500  200  3.560986  44.0  4.320424  \n",
       "48         106.0  4.303279  244  3.560986  44.0  4.189873  \n",
       "1042      2177.0  4.256173  324  3.560986  44.0  4.173053  \n",
       "929       3188.0  4.256696  224  3.560986  44.0  4.142475  \n",
       "174        217.0  4.221649  291  3.560986  44.0  4.134876  \n",
       "925         20.0  4.182500  200  3.560986  44.0  4.070424  \n",
       "1804       258.0  4.178218  202  3.560986  44.0  4.067819  \n",
       "650        364.0  4.138158  304  3.560986  44.0  4.065182  \n",
       "2400        70.0  4.227273  132  3.560986  44.0  4.060701  "
      ]
     },
     "execution_count": 52,
     "metadata": {},
     "output_type": "execute_result"
    }
   ],
   "source": [
    "m_df.sort_values(by=['IMDB'], ascending=False).head(10)"
   ]
  },
  {
   "cell_type": "markdown",
   "metadata": {
    "_uuid": "9d5509c8d050ff74418f6853e0912cc329e500a8"
   },
   "source": [
    "The result: "
   ]
  },
  {
   "cell_type": "markdown",
   "metadata": {
    "_uuid": "b6172970dadd83bcefe0e120ff652eea8b0cecc4"
   },
   "source": [
    "## <font color=\"blue\">Static IMDB model: top 10</font>  \n",
    "\n",
    "This is our reference model."
   ]
  },
  {
   "cell_type": "code",
   "execution_count": 53,
   "metadata": {
    "_kg_hide-input": true,
    "_uuid": "5acaa6cd776c8e0f1c8f3776cbefe7dedeb7a257"
   },
   "outputs": [
    {
     "data": {
      "text/html": [
       "<div>\n",
       "<style scoped>\n",
       "    .dataframe tbody tr th:only-of-type {\n",
       "        vertical-align: middle;\n",
       "    }\n",
       "\n",
       "    .dataframe tbody tr th {\n",
       "        vertical-align: top;\n",
       "    }\n",
       "\n",
       "    .dataframe thead th {\n",
       "        text-align: right;\n",
       "    }\n",
       "</style>\n",
       "<table border=\"1\" class=\"dataframe\">\n",
       "  <thead>\n",
       "    <tr style=\"text-align: right;\">\n",
       "      <th></th>\n",
       "      <th>title</th>\n",
       "      <th>IMDB</th>\n",
       "    </tr>\n",
       "  </thead>\n",
       "  <tbody>\n",
       "    <tr>\n",
       "      <th>747</th>\n",
       "      <td>The Million Dollar Hotel</td>\n",
       "      <td>4.372348</td>\n",
       "    </tr>\n",
       "    <tr>\n",
       "      <th>102</th>\n",
       "      <td>Sleepless in Seattle</td>\n",
       "      <td>4.320424</td>\n",
       "    </tr>\n",
       "    <tr>\n",
       "      <th>48</th>\n",
       "      <td>Once Were Warriors</td>\n",
       "      <td>4.189873</td>\n",
       "    </tr>\n",
       "    <tr>\n",
       "      <th>1042</th>\n",
       "      <td>Terminator 3: Rise of the Machines</td>\n",
       "      <td>4.173053</td>\n",
       "    </tr>\n",
       "    <tr>\n",
       "      <th>929</th>\n",
       "      <td>Men in Black II</td>\n",
       "      <td>4.142475</td>\n",
       "    </tr>\n",
       "    <tr>\n",
       "      <th>174</th>\n",
       "      <td>The 39 Steps</td>\n",
       "      <td>4.134876</td>\n",
       "    </tr>\n",
       "    <tr>\n",
       "      <th>925</th>\n",
       "      <td>5 Card Stud</td>\n",
       "      <td>4.070424</td>\n",
       "    </tr>\n",
       "    <tr>\n",
       "      <th>1804</th>\n",
       "      <td>License to Wed</td>\n",
       "      <td>4.067819</td>\n",
       "    </tr>\n",
       "    <tr>\n",
       "      <th>650</th>\n",
       "      <td>Solaris</td>\n",
       "      <td>4.065182</td>\n",
       "    </tr>\n",
       "    <tr>\n",
       "      <th>2400</th>\n",
       "      <td>Shriek If You Know What I Did Last Friday the ...</td>\n",
       "      <td>4.060701</td>\n",
       "    </tr>\n",
       "  </tbody>\n",
       "</table>\n",
       "</div>"
      ],
      "text/plain": [
       "                                                  title      IMDB\n",
       "747                            The Million Dollar Hotel  4.372348\n",
       "102                                Sleepless in Seattle  4.320424\n",
       "48                                   Once Were Warriors  4.189873\n",
       "1042                 Terminator 3: Rise of the Machines  4.173053\n",
       "929                                     Men in Black II  4.142475\n",
       "174                                        The 39 Steps  4.134876\n",
       "925                                         5 Card Stud  4.070424\n",
       "1804                                     License to Wed  4.067819\n",
       "650                                             Solaris  4.065182\n",
       "2400  Shriek If You Know What I Did Last Friday the ...  4.060701"
      ]
     },
     "execution_count": 53,
     "metadata": {},
     "output_type": "execute_result"
    }
   ],
   "source": [
    "m_df[['title', 'IMDB']].sort_values(by=['IMDB'], ascending=False).head(10)"
   ]
  },
  {
   "cell_type": "markdown",
   "metadata": {
    "_uuid": "bfe574bf6d49035690c10a2fa1b77aaadb4a3b8e",
    "collapsed": true
   },
   "source": [
    "Let's compare this reference model with top 10 by only number of votes and by total value of votes.\n",
    "\n",
    "## <font color=\"grey\">Top 10 by number of votes</font>"
   ]
  },
  {
   "cell_type": "code",
   "execution_count": 54,
   "metadata": {
    "_kg_hide-input": true,
    "_uuid": "cef5e87bba56014333b198bb3983bbeee18385fe"
   },
   "outputs": [],
   "source": [
    "m_df['R_x_v'] = m_df['R'] * m_df['v']"
   ]
  },
  {
   "cell_type": "code",
   "execution_count": 55,
   "metadata": {
    "_kg_hide-input": true,
    "_uuid": "753b68918e91a064a12c98582a9a5e7e9c366f62"
   },
   "outputs": [
    {
     "data": {
      "text/html": [
       "<div>\n",
       "<style scoped>\n",
       "    .dataframe tbody tr th:only-of-type {\n",
       "        vertical-align: middle;\n",
       "    }\n",
       "\n",
       "    .dataframe tbody tr th {\n",
       "        vertical-align: top;\n",
       "    }\n",
       "\n",
       "    .dataframe thead th {\n",
       "        text-align: right;\n",
       "    }\n",
       "</style>\n",
       "<table border=\"1\" class=\"dataframe\">\n",
       "  <thead>\n",
       "    <tr style=\"text-align: right;\">\n",
       "      <th></th>\n",
       "      <th>title</th>\n",
       "      <th>v</th>\n",
       "    </tr>\n",
       "  </thead>\n",
       "  <tbody>\n",
       "    <tr>\n",
       "      <th>1042</th>\n",
       "      <td>Terminator 3: Rise of the Machines</td>\n",
       "      <td>324</td>\n",
       "    </tr>\n",
       "    <tr>\n",
       "      <th>747</th>\n",
       "      <td>The Million Dollar Hotel</td>\n",
       "      <td>311</td>\n",
       "    </tr>\n",
       "    <tr>\n",
       "      <th>650</th>\n",
       "      <td>Solaris</td>\n",
       "      <td>304</td>\n",
       "    </tr>\n",
       "    <tr>\n",
       "      <th>174</th>\n",
       "      <td>The 39 Steps</td>\n",
       "      <td>291</td>\n",
       "    </tr>\n",
       "    <tr>\n",
       "      <th>885</th>\n",
       "      <td>Monsoon Wedding</td>\n",
       "      <td>274</td>\n",
       "    </tr>\n",
       "    <tr>\n",
       "      <th>48</th>\n",
       "      <td>Once Were Warriors</td>\n",
       "      <td>244</td>\n",
       "    </tr>\n",
       "    <tr>\n",
       "      <th>53</th>\n",
       "      <td>Three Colors: Red</td>\n",
       "      <td>228</td>\n",
       "    </tr>\n",
       "    <tr>\n",
       "      <th>929</th>\n",
       "      <td>Men in Black II</td>\n",
       "      <td>224</td>\n",
       "    </tr>\n",
       "    <tr>\n",
       "      <th>1109</th>\n",
       "      <td>The Passion of Joan of Arc</td>\n",
       "      <td>218</td>\n",
       "    </tr>\n",
       "    <tr>\n",
       "      <th>1646</th>\n",
       "      <td>Silent Hill</td>\n",
       "      <td>215</td>\n",
       "    </tr>\n",
       "  </tbody>\n",
       "</table>\n",
       "</div>"
      ],
      "text/plain": [
       "                                   title    v\n",
       "1042  Terminator 3: Rise of the Machines  324\n",
       "747             The Million Dollar Hotel  311\n",
       "650                              Solaris  304\n",
       "174                         The 39 Steps  291\n",
       "885                      Monsoon Wedding  274\n",
       "48                    Once Were Warriors  244\n",
       "53                     Three Colors: Red  228\n",
       "929                      Men in Black II  224\n",
       "1109          The Passion of Joan of Arc  218\n",
       "1646                         Silent Hill  215"
      ]
     },
     "execution_count": 55,
     "metadata": {},
     "output_type": "execute_result"
    }
   ],
   "source": [
    "m_df[['title', 'v']].sort_values(by=['v'], ascending=False).head(10)"
   ]
  },
  {
   "cell_type": "markdown",
   "metadata": {
    "_uuid": "2e82f2294570d6c26431ea62b95b25ee0b2ccebd"
   },
   "source": [
    "## <font color=\"grey\">Top 10 by product of average rating and number of votes</font>"
   ]
  },
  {
   "cell_type": "code",
   "execution_count": 56,
   "metadata": {
    "_kg_hide-input": true,
    "_uuid": "48af37b9bdcb3c8689997c4854628a10447dc7aa"
   },
   "outputs": [
    {
     "data": {
      "text/html": [
       "<div>\n",
       "<style scoped>\n",
       "    .dataframe tbody tr th:only-of-type {\n",
       "        vertical-align: middle;\n",
       "    }\n",
       "\n",
       "    .dataframe tbody tr th {\n",
       "        vertical-align: top;\n",
       "    }\n",
       "\n",
       "    .dataframe thead th {\n",
       "        text-align: right;\n",
       "    }\n",
       "</style>\n",
       "<table border=\"1\" class=\"dataframe\">\n",
       "  <thead>\n",
       "    <tr style=\"text-align: right;\">\n",
       "      <th></th>\n",
       "      <th>title</th>\n",
       "      <th>R_x_v</th>\n",
       "    </tr>\n",
       "  </thead>\n",
       "  <tbody>\n",
       "    <tr>\n",
       "      <th>747</th>\n",
       "      <td>The Million Dollar Hotel</td>\n",
       "      <td>1395.5</td>\n",
       "    </tr>\n",
       "    <tr>\n",
       "      <th>1042</th>\n",
       "      <td>Terminator 3: Rise of the Machines</td>\n",
       "      <td>1379.0</td>\n",
       "    </tr>\n",
       "    <tr>\n",
       "      <th>650</th>\n",
       "      <td>Solaris</td>\n",
       "      <td>1258.0</td>\n",
       "    </tr>\n",
       "    <tr>\n",
       "      <th>174</th>\n",
       "      <td>The 39 Steps</td>\n",
       "      <td>1228.5</td>\n",
       "    </tr>\n",
       "    <tr>\n",
       "      <th>48</th>\n",
       "      <td>Once Were Warriors</td>\n",
       "      <td>1050.0</td>\n",
       "    </tr>\n",
       "    <tr>\n",
       "      <th>885</th>\n",
       "      <td>Monsoon Wedding</td>\n",
       "      <td>1015.5</td>\n",
       "    </tr>\n",
       "    <tr>\n",
       "      <th>929</th>\n",
       "      <td>Men in Black II</td>\n",
       "      <td>953.5</td>\n",
       "    </tr>\n",
       "    <tr>\n",
       "      <th>53</th>\n",
       "      <td>Three Colors: Red</td>\n",
       "      <td>899.5</td>\n",
       "    </tr>\n",
       "    <tr>\n",
       "      <th>102</th>\n",
       "      <td>Sleepless in Seattle</td>\n",
       "      <td>897.5</td>\n",
       "    </tr>\n",
       "    <tr>\n",
       "      <th>1804</th>\n",
       "      <td>License to Wed</td>\n",
       "      <td>844.0</td>\n",
       "    </tr>\n",
       "  </tbody>\n",
       "</table>\n",
       "</div>"
      ],
      "text/plain": [
       "                                   title   R_x_v\n",
       "747             The Million Dollar Hotel  1395.5\n",
       "1042  Terminator 3: Rise of the Machines  1379.0\n",
       "650                              Solaris  1258.0\n",
       "174                         The 39 Steps  1228.5\n",
       "48                    Once Were Warriors  1050.0\n",
       "885                      Monsoon Wedding  1015.5\n",
       "929                      Men in Black II   953.5\n",
       "53                     Three Colors: Red   899.5\n",
       "102                 Sleepless in Seattle   897.5\n",
       "1804                      License to Wed   844.0"
      ]
     },
     "execution_count": 56,
     "metadata": {},
     "output_type": "execute_result"
    }
   ],
   "source": [
    "m_df[['title', 'R_x_v']].sort_values(by=['R_x_v'], ascending=False).head(10)"
   ]
  },
  {
   "cell_type": "markdown",
   "metadata": {
    "_uuid": "74bf762267f5f84e4da1b2a181ef96ad881e082c",
    "collapsed": true
   },
   "source": [
    "## Memory cleanup"
   ]
  },
  {
   "cell_type": "code",
   "execution_count": 57,
   "metadata": {
    "_kg_hide-input": false,
    "_uuid": "ae81b9a26f27f8f457f526d4fd9b92ddc21992af"
   },
   "outputs": [
    {
     "data": {
      "text/plain": [
       "8830"
      ]
     },
     "execution_count": 57,
     "metadata": {},
     "output_type": "execute_result"
    }
   ],
   "source": [
    "del tmp, top_10\n",
    "gc.collect()"
   ]
  },
  {
   "cell_type": "markdown",
   "metadata": {
    "_uuid": "3d379e59b3a111de04e07a6cf6a44926620d6dee"
   },
   "source": [
    "## <a id=\"5\">Recommendation simple models</a>\n",
    "\n",
    "\n",
    "## Simple model using similarities of movie title\n",
    "\n",
    "The model will use similarities, calculated based on movie title.\n",
    "\n",
    "We will use the already calculated `m_df` dataset.   \n",
    "The methods to calculate cosine simmilarities are taken from:   \n",
    "* https://www.kaggle.com/fabiendaniel/film-recommendation-engine    \n",
    "* https://www.kaggle.com/ibtesama/getting-started-with-a-movie-recommendation-system/data  "
   ]
  },
  {
   "cell_type": "code",
   "execution_count": 58,
   "metadata": {
    "_kg_hide-input": true,
    "_uuid": "77f8acb0a797420428a836e09e7b4465cf5e9a0b"
   },
   "outputs": [
    {
     "name": "stdout",
     "output_type": "stream",
     "text": [
      "(2831, 3222)\n",
      "(2831, 2831)\n"
     ]
    },
    {
     "name": "stderr",
     "output_type": "stream",
     "text": [
      "/opt/conda/lib/python3.6/site-packages/ipykernel_launcher.py:4: SettingWithCopyWarning: \n",
      "A value is trying to be set on a copy of a slice from a DataFrame.\n",
      "Try using .loc[row_indexer,col_indexer] = value instead\n",
      "\n",
      "See the caveats in the documentation: http://pandas.pydata.org/pandas-docs/stable/indexing.html#indexing-view-versus-copy\n",
      "  after removing the cwd from sys.path.\n"
     ]
    }
   ],
   "source": [
    "from sklearn.feature_extraction.text import TfidfVectorizer\n",
    "tfidf = TfidfVectorizer(stop_words='english',max_features=10000)\n",
    "tokens = m_df[['title']]\n",
    "tokens['title'] = tokens['title'].fillna('')\n",
    "tfidf_matrix = tfidf.fit_transform(tokens['title'])\n",
    "print(tfidf_matrix.shape)\n",
    "from sklearn.metrics.pairwise import linear_kernel\n",
    "cosine_sim = linear_kernel(tfidf_matrix, tfidf_matrix)\n",
    "print(cosine_sim.shape)\n",
    "indices = pd.Series(tokens.index, index=tokens['title']).drop_duplicates()\n",
    "def get_recommendations(title, cosine_sim=cosine_sim):\n",
    "    # index of the movie that matches the title\n",
    "    idx = indices[title]\n",
    "\n",
    "    # similarity scores of all movies with that movie\n",
    "    sim_scores = list(enumerate(cosine_sim[idx]))\n",
    "\n",
    "    # sort the movies based on the similarity scores\n",
    "    sim_scores = sorted(sim_scores, key=lambda x: x[1], reverse=True)\n",
    "\n",
    "    # scores of the 10 most similar movies\n",
    "    sim_scores = sim_scores[1:11]\n",
    "\n",
    "    # movie indices\n",
    "    movie_indices = [i[0] for i in sim_scores]\n",
    "\n",
    "    # top 10 most similar movies\n",
    "    return tokens['title'].iloc[movie_indices]\n"
   ]
  },
  {
   "cell_type": "code",
   "execution_count": 59,
   "metadata": {
    "_kg_hide-input": true,
    "_uuid": "b1808447b852fbd40d9c025e4a10cae41d80d855"
   },
   "outputs": [
    {
     "data": {
      "text/plain": [
       "1458       Million Dollar Baby\n",
       "1191    One Million Years B.C.\n",
       "2407        Hotel Very Welcome\n",
       "1242    How to Steal a Million\n",
       "1459              Hotel Rwanda\n",
       "2331          Heartbreak Hotel\n",
       "1536      Billion Dollar Brain\n",
       "0                         Heat\n",
       "1                    GoldenEye\n",
       "2             Cutthroat Island\n",
       "Name: title, dtype: object"
      ]
     },
     "execution_count": 59,
     "metadata": {},
     "output_type": "execute_result"
    }
   ],
   "source": [
    "get_recommendations('The Million Dollar Hotel')"
   ]
  },
  {
   "cell_type": "code",
   "execution_count": 60,
   "metadata": {
    "_kg_hide-input": true,
    "_uuid": "0b2f0b2ebca946cd0977e497d1241653acccbf72"
   },
   "outputs": [
    {
     "data": {
      "text/plain": [
       "0                         Heat\n",
       "1                    GoldenEye\n",
       "2             Cutthroat Island\n",
       "3                       Casino\n",
       "4        Sense and Sensibility\n",
       "5                   Four Rooms\n",
       "6                   Get Shorty\n",
       "7            Leaving Las Vegas\n",
       "8    The City of Lost Children\n",
       "9               Twelve Monkeys\n",
       "Name: title, dtype: object"
      ]
     },
     "execution_count": 60,
     "metadata": {},
     "output_type": "execute_result"
    }
   ],
   "source": [
    "get_recommendations('Sleepless in Seattle')"
   ]
  },
  {
   "cell_type": "markdown",
   "metadata": {
    "_uuid": "73a28b295184aab519cc08f22a5a87156b25fa5e"
   },
   "source": [
    "## Combined model, using similarity and popularity\n",
    "\n",
    "This model uses both similarity factor, based on movie title and popularity score, based on IMDB score.\n",
    "\n",
    "We modify the `get_recommendation` function to return a number of 50 similar titles; we order the titles using popularity score. \n",
    "\n",
    "Inspiration for the following functions are from:  \n",
    "\n",
    "* https://www.kaggle.com/fabiendaniel/film-recommendation-engine    \n",
    "* https://www.kaggle.com/ibtesama/getting-started-with-a-movie-recommendation-system/data  "
   ]
  },
  {
   "cell_type": "code",
   "execution_count": 61,
   "metadata": {
    "_kg_hide-input": true,
    "_uuid": "f642600cca0767efe94649f19819a61d795e2a14"
   },
   "outputs": [
    {
     "name": "stdout",
     "output_type": "stream",
     "text": [
      "(2831, 3222)\n",
      "(2831, 2831)\n"
     ]
    },
    {
     "name": "stderr",
     "output_type": "stream",
     "text": [
      "/opt/conda/lib/python3.6/site-packages/ipykernel_launcher.py:3: SettingWithCopyWarning: \n",
      "A value is trying to be set on a copy of a slice from a DataFrame.\n",
      "Try using .loc[row_indexer,col_indexer] = value instead\n",
      "\n",
      "See the caveats in the documentation: http://pandas.pydata.org/pandas-docs/stable/indexing.html#indexing-view-versus-copy\n",
      "  This is separate from the ipykernel package so we can avoid doing imports until\n"
     ]
    }
   ],
   "source": [
    "tfidf = TfidfVectorizer(stop_words='english',max_features=10000)\n",
    "tokens = m_df[['title']]\n",
    "tokens['title'] = tokens['title'].fillna('')\n",
    "tfidf_matrix = tfidf.fit_transform(tokens['title'])\n",
    "print(tfidf_matrix.shape)\n",
    "cosine_sim = linear_kernel(tfidf_matrix, tfidf_matrix)\n",
    "print(cosine_sim.shape)\n",
    "indices = pd.Series(tokens.index, index=tokens['title']).drop_duplicates()"
   ]
  },
  {
   "cell_type": "code",
   "execution_count": 62,
   "metadata": {
    "_kg_hide-input": true,
    "_uuid": "adaed2e7fc15a06d9809d1f252435cfb736cdcda"
   },
   "outputs": [],
   "source": [
    "def get_imdb_score(df, indices):\n",
    "    # select the data from similarity indices\n",
    "    tmp = df[df.id.isin(indices)]\n",
    "    # sort the data by IMDB score\n",
    "    tmp = tmp.sort_values(by='IMDB', ascending=False)\n",
    "    # return title and IMDB score\n",
    "    return tmp[['title','IMDB']].head(10)"
   ]
  },
  {
   "cell_type": "code",
   "execution_count": 63,
   "metadata": {
    "_kg_hide-input": true,
    "_uuid": "19772414066cf8f3a905c477d49ef4d5aed503d4"
   },
   "outputs": [],
   "source": [
    "def get_10_recommendations_simpol(title, cosine_sim=cosine_sim):\n",
    "    # index of the movie that matches the title\n",
    "    idx = indices[title]\n",
    "\n",
    "    # similarity scores of all movies with that movie\n",
    "    sim_scores = list(enumerate(cosine_sim[idx]))\n",
    "\n",
    "    # sort the movies based on the similarity scores\n",
    "    sim_scores = sorted(sim_scores, key=lambda x: x[1], reverse=True)\n",
    "\n",
    "    # scores of the 20 most similar movies\n",
    "    sim_scores = sim_scores[1:21]\n",
    "    \n",
    "    # movie indices\n",
    "    movie_indices = [i[0] for i in sim_scores]\n",
    "\n",
    "    # get popularity scores\n",
    "    pop_scores = get_imdb_score(m_df, movie_indices)\n",
    "    \n",
    "    return list(pop_scores['title'])\n"
   ]
  },
  {
   "cell_type": "code",
   "execution_count": 64,
   "metadata": {
    "_kg_hide-input": true,
    "_uuid": "91f500f855a8336e3e1a6104d6d65e61795a2f66"
   },
   "outputs": [
    {
     "data": {
      "text/plain": [
       "['Judgment Night',\n",
       " 'Star Wars',\n",
       " 'Jesus',\n",
       " 'Ariel',\n",
       " 'Four Rooms',\n",
       " 'Finding Nemo',\n",
       " 'Shadows in Paradise']"
      ]
     },
     "execution_count": 64,
     "metadata": {},
     "output_type": "execute_result"
    }
   ],
   "source": [
    "get_10_recommendations_simpol('The Million Dollar Hotel')"
   ]
  },
  {
   "cell_type": "code",
   "execution_count": 65,
   "metadata": {
    "_kg_hide-input": true,
    "_uuid": "de5b7bdaa7dfc33193410ab65dfee95d842f8713"
   },
   "outputs": [
    {
     "data": {
      "text/plain": [
       "['Cat on a Hot Tin Roof',\n",
       " 'Marlowe',\n",
       " 'Three Colors: Blue',\n",
       " 'The Secret Life of Words',\n",
       " 'Harry Potter and the Half-Blood Prince',\n",
       " 'Lady Snowblood',\n",
       " 'Hellboy',\n",
       " 'Sleepy Hollow',\n",
       " 'The Aviator',\n",
       " 'Short Circuit']"
      ]
     },
     "execution_count": 65,
     "metadata": {},
     "output_type": "execute_result"
    }
   ],
   "source": [
    "get_10_recommendations_simpol('Judgment Night')"
   ]
  },
  {
   "cell_type": "code",
   "execution_count": 66,
   "metadata": {
    "_kg_hide-input": false,
    "_uuid": "b4738e05b8460ade16d7a58fe340e2fecc0ff0a3"
   },
   "outputs": [
    {
     "data": {
      "text/plain": [
       "['Dancer in the Dark',\n",
       " 'The Dark',\n",
       " 'Judgment Night',\n",
       " 'Star Wars',\n",
       " 'Forrest Gump',\n",
       " 'American Beauty',\n",
       " 'The Fifth Element',\n",
       " 'Ariel',\n",
       " 'Four Rooms',\n",
       " 'Finding Nemo']"
      ]
     },
     "execution_count": 66,
     "metadata": {},
     "output_type": "execute_result"
    }
   ],
   "source": [
    "get_10_recommendations_simpol('Fahrenheit 9/11')"
   ]
  },
  {
   "cell_type": "markdown",
   "metadata": {
    "_uuid": "9068369e280bdb234c88da67f88b120a23006b3c"
   },
   "source": [
    "<a href=\"#0\"><font size=\"1\">Go to top</font></a>\n",
    "\n",
    "\n",
    "# <a id=\"6\">Conclusion</a>  \n",
    "\n",
    "Three simple recommendation models were created, as following:\n",
    "\n",
    "* One model, user agnostic, based on ratings averages per movie and number of votes, it is basically the IMDB rating model; this model provide a top-10 list of movies recommendation, starting from a movie selected by a user;  \n",
    "* One model, depending on simmilarities of titles;\n",
    "* One model, depending on similarities of titles and IMDB rating.\n"
   ]
  },
  {
   "cell_type": "markdown",
   "metadata": {
    "_uuid": "2e0074782db3af201eb5397b7e516d6964a0866a"
   },
   "source": [
    "# <a id=\"8\">References</a>  \n",
    "\n",
    "I took inspiration from several sources. \n",
    "\n",
    "[1] https://medium.com/recombee-blog/machine-learning-for-recommender-systems-part-1-algorithms-evaluation-and-cold-start-6f696683d0ed  \n",
    "[2] https://www.kaggle.com/fabiendaniel/film-recommendation-engine  \n",
    "[3] https://www.kaggle.com/ibtesama/getting-started-with-a-movie-recommendation-system/data  \n",
    "\n",
    "\n",
    "<a href=\"#0\"><font size=\"1\">Go to top</font></a>"
   ]
  }
 ],
 "metadata": {
  "kernelspec": {
   "display_name": "Python 3",
   "language": "python",
   "name": "python3"
  },
  "language_info": {
   "codemirror_mode": {
    "name": "ipython",
    "version": 3
   },
   "file_extension": ".py",
   "mimetype": "text/x-python",
   "name": "python",
   "nbconvert_exporter": "python",
   "pygments_lexer": "ipython3",
   "version": "3.6.2"
  }
 },
 "nbformat": 4,
 "nbformat_minor": 1
}
